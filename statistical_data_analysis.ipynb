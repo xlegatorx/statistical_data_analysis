{
 "cells": [
  {
   "cell_type": "markdown",
   "id": "4c795211",
   "metadata": {},
   "source": [
    "----------------------"
   ]
  },
  {
   "cell_type": "code",
   "execution_count": 1,
   "id": "d966c1b5",
   "metadata": {},
   "outputs": [],
   "source": [
    "import pandas as pd\n",
    "import matplotlib.pyplot as plt\n",
    "import numpy as np\n",
    "from scipy import stats as st\n",
    "import seaborn as sns"
   ]
  },
  {
   "cell_type": "markdown",
   "id": "cdd396bd",
   "metadata": {},
   "source": [
    "#### Шаг 1. Загрузка данных"
   ]
  },
  {
   "cell_type": "code",
   "execution_count": 2,
   "id": "94a7bb4e",
   "metadata": {},
   "outputs": [],
   "source": [
    "users = pd.read_csv('/datasets/users_go.csv')\n",
    "rides = pd.read_csv('/datasets/rides_go.csv')\n",
    "subscriptions = pd.read_csv('/datasets/subscriptions_go.csv')"
   ]
  },
  {
   "cell_type": "code",
   "execution_count": 3,
   "id": "623cb4f7",
   "metadata": {},
   "outputs": [
    {
     "data": {
      "text/html": [
       "<div>\n",
       "<style scoped>\n",
       "    .dataframe tbody tr th:only-of-type {\n",
       "        vertical-align: middle;\n",
       "    }\n",
       "\n",
       "    .dataframe tbody tr th {\n",
       "        vertical-align: top;\n",
       "    }\n",
       "\n",
       "    .dataframe thead th {\n",
       "        text-align: right;\n",
       "    }\n",
       "</style>\n",
       "<table border=\"1\" class=\"dataframe\">\n",
       "  <thead>\n",
       "    <tr style=\"text-align: right;\">\n",
       "      <th></th>\n",
       "      <th>user_id</th>\n",
       "      <th>name</th>\n",
       "      <th>age</th>\n",
       "      <th>city</th>\n",
       "      <th>subscription_type</th>\n",
       "    </tr>\n",
       "  </thead>\n",
       "  <tbody>\n",
       "    <tr>\n",
       "      <th>0</th>\n",
       "      <td>1</td>\n",
       "      <td>Кира</td>\n",
       "      <td>22</td>\n",
       "      <td>Тюмень</td>\n",
       "      <td>ultra</td>\n",
       "    </tr>\n",
       "    <tr>\n",
       "      <th>1</th>\n",
       "      <td>2</td>\n",
       "      <td>Станислав</td>\n",
       "      <td>31</td>\n",
       "      <td>Омск</td>\n",
       "      <td>ultra</td>\n",
       "    </tr>\n",
       "    <tr>\n",
       "      <th>2</th>\n",
       "      <td>3</td>\n",
       "      <td>Алексей</td>\n",
       "      <td>20</td>\n",
       "      <td>Москва</td>\n",
       "      <td>ultra</td>\n",
       "    </tr>\n",
       "    <tr>\n",
       "      <th>3</th>\n",
       "      <td>4</td>\n",
       "      <td>Константин</td>\n",
       "      <td>26</td>\n",
       "      <td>Ростов-на-Дону</td>\n",
       "      <td>ultra</td>\n",
       "    </tr>\n",
       "    <tr>\n",
       "      <th>4</th>\n",
       "      <td>5</td>\n",
       "      <td>Адель</td>\n",
       "      <td>28</td>\n",
       "      <td>Омск</td>\n",
       "      <td>ultra</td>\n",
       "    </tr>\n",
       "    <tr>\n",
       "      <th>5</th>\n",
       "      <td>6</td>\n",
       "      <td>Регина</td>\n",
       "      <td>25</td>\n",
       "      <td>Краснодар</td>\n",
       "      <td>ultra</td>\n",
       "    </tr>\n",
       "    <tr>\n",
       "      <th>6</th>\n",
       "      <td>7</td>\n",
       "      <td>Игорь</td>\n",
       "      <td>23</td>\n",
       "      <td>Омск</td>\n",
       "      <td>ultra</td>\n",
       "    </tr>\n",
       "    <tr>\n",
       "      <th>7</th>\n",
       "      <td>8</td>\n",
       "      <td>Юрий</td>\n",
       "      <td>23</td>\n",
       "      <td>Краснодар</td>\n",
       "      <td>ultra</td>\n",
       "    </tr>\n",
       "    <tr>\n",
       "      <th>8</th>\n",
       "      <td>9</td>\n",
       "      <td>Ян</td>\n",
       "      <td>21</td>\n",
       "      <td>Пятигорск</td>\n",
       "      <td>ultra</td>\n",
       "    </tr>\n",
       "    <tr>\n",
       "      <th>9</th>\n",
       "      <td>10</td>\n",
       "      <td>Валерий</td>\n",
       "      <td>18</td>\n",
       "      <td>Екатеринбург</td>\n",
       "      <td>ultra</td>\n",
       "    </tr>\n",
       "  </tbody>\n",
       "</table>\n",
       "</div>"
      ],
      "text/plain": [
       "   user_id        name  age            city subscription_type\n",
       "0        1        Кира   22          Тюмень             ultra\n",
       "1        2   Станислав   31            Омск             ultra\n",
       "2        3     Алексей   20          Москва             ultra\n",
       "3        4  Константин   26  Ростов-на-Дону             ultra\n",
       "4        5       Адель   28            Омск             ultra\n",
       "5        6      Регина   25       Краснодар             ultra\n",
       "6        7       Игорь   23            Омск             ultra\n",
       "7        8        Юрий   23       Краснодар             ultra\n",
       "8        9          Ян   21       Пятигорск             ultra\n",
       "9       10     Валерий   18    Екатеринбург             ultra"
      ]
     },
     "execution_count": 3,
     "metadata": {},
     "output_type": "execute_result"
    }
   ],
   "source": [
    "users.head(10)"
   ]
  },
  {
   "cell_type": "code",
   "execution_count": 4,
   "id": "2c7094ac",
   "metadata": {},
   "outputs": [
    {
     "name": "stdout",
     "output_type": "stream",
     "text": [
      "<class 'pandas.core.frame.DataFrame'>\n",
      "RangeIndex: 1565 entries, 0 to 1564\n",
      "Data columns (total 5 columns):\n",
      " #   Column             Non-Null Count  Dtype \n",
      "---  ------             --------------  ----- \n",
      " 0   user_id            1565 non-null   int64 \n",
      " 1   name               1565 non-null   object\n",
      " 2   age                1565 non-null   int64 \n",
      " 3   city               1565 non-null   object\n",
      " 4   subscription_type  1565 non-null   object\n",
      "dtypes: int64(2), object(3)\n",
      "memory usage: 61.3+ KB\n"
     ]
    }
   ],
   "source": [
    "users.info()"
   ]
  },
  {
   "cell_type": "markdown",
   "id": "7f922a71",
   "metadata": {},
   "source": [
    "Датафрейм users содержит 4 столбца. Типы данных соотвествуют."
   ]
  },
  {
   "cell_type": "code",
   "execution_count": 5,
   "id": "e30066c0",
   "metadata": {},
   "outputs": [
    {
     "data": {
      "text/html": [
       "<div>\n",
       "<style scoped>\n",
       "    .dataframe tbody tr th:only-of-type {\n",
       "        vertical-align: middle;\n",
       "    }\n",
       "\n",
       "    .dataframe tbody tr th {\n",
       "        vertical-align: top;\n",
       "    }\n",
       "\n",
       "    .dataframe thead th {\n",
       "        text-align: right;\n",
       "    }\n",
       "</style>\n",
       "<table border=\"1\" class=\"dataframe\">\n",
       "  <thead>\n",
       "    <tr style=\"text-align: right;\">\n",
       "      <th></th>\n",
       "      <th>user_id</th>\n",
       "      <th>distance</th>\n",
       "      <th>duration</th>\n",
       "      <th>date</th>\n",
       "    </tr>\n",
       "  </thead>\n",
       "  <tbody>\n",
       "    <tr>\n",
       "      <th>0</th>\n",
       "      <td>1</td>\n",
       "      <td>4409.919140</td>\n",
       "      <td>25.599769</td>\n",
       "      <td>2021-01-01</td>\n",
       "    </tr>\n",
       "    <tr>\n",
       "      <th>1</th>\n",
       "      <td>1</td>\n",
       "      <td>2617.592153</td>\n",
       "      <td>15.816871</td>\n",
       "      <td>2021-01-18</td>\n",
       "    </tr>\n",
       "    <tr>\n",
       "      <th>2</th>\n",
       "      <td>1</td>\n",
       "      <td>754.159807</td>\n",
       "      <td>6.232113</td>\n",
       "      <td>2021-04-20</td>\n",
       "    </tr>\n",
       "    <tr>\n",
       "      <th>3</th>\n",
       "      <td>1</td>\n",
       "      <td>2694.783254</td>\n",
       "      <td>18.511000</td>\n",
       "      <td>2021-08-11</td>\n",
       "    </tr>\n",
       "    <tr>\n",
       "      <th>4</th>\n",
       "      <td>1</td>\n",
       "      <td>4028.687306</td>\n",
       "      <td>26.265803</td>\n",
       "      <td>2021-08-28</td>\n",
       "    </tr>\n",
       "    <tr>\n",
       "      <th>5</th>\n",
       "      <td>1</td>\n",
       "      <td>2770.890808</td>\n",
       "      <td>16.650138</td>\n",
       "      <td>2021-10-09</td>\n",
       "    </tr>\n",
       "    <tr>\n",
       "      <th>6</th>\n",
       "      <td>1</td>\n",
       "      <td>3039.020292</td>\n",
       "      <td>14.927879</td>\n",
       "      <td>2021-10-19</td>\n",
       "    </tr>\n",
       "    <tr>\n",
       "      <th>7</th>\n",
       "      <td>1</td>\n",
       "      <td>2842.118050</td>\n",
       "      <td>23.117468</td>\n",
       "      <td>2021-11-06</td>\n",
       "    </tr>\n",
       "    <tr>\n",
       "      <th>8</th>\n",
       "      <td>1</td>\n",
       "      <td>3412.690668</td>\n",
       "      <td>15.238072</td>\n",
       "      <td>2021-11-14</td>\n",
       "    </tr>\n",
       "    <tr>\n",
       "      <th>9</th>\n",
       "      <td>1</td>\n",
       "      <td>748.690645</td>\n",
       "      <td>15.041884</td>\n",
       "      <td>2021-11-22</td>\n",
       "    </tr>\n",
       "  </tbody>\n",
       "</table>\n",
       "</div>"
      ],
      "text/plain": [
       "   user_id     distance   duration        date\n",
       "0        1  4409.919140  25.599769  2021-01-01\n",
       "1        1  2617.592153  15.816871  2021-01-18\n",
       "2        1   754.159807   6.232113  2021-04-20\n",
       "3        1  2694.783254  18.511000  2021-08-11\n",
       "4        1  4028.687306  26.265803  2021-08-28\n",
       "5        1  2770.890808  16.650138  2021-10-09\n",
       "6        1  3039.020292  14.927879  2021-10-19\n",
       "7        1  2842.118050  23.117468  2021-11-06\n",
       "8        1  3412.690668  15.238072  2021-11-14\n",
       "9        1   748.690645  15.041884  2021-11-22"
      ]
     },
     "execution_count": 5,
     "metadata": {},
     "output_type": "execute_result"
    }
   ],
   "source": [
    "rides.head(10)"
   ]
  },
  {
   "cell_type": "code",
   "execution_count": 6,
   "id": "c01cd07c",
   "metadata": {
    "scrolled": true
   },
   "outputs": [
    {
     "data": {
      "text/plain": [
       "22.184080     1\n",
       "17.987153     1\n",
       "12.909262     1\n",
       "21.515441     1\n",
       "15.935658     1\n",
       "             ..\n",
       "22.322865     1\n",
       "22.770261     1\n",
       "11.949357     1\n",
       "22.797391     1\n",
       "0.500000     95\n",
       "Name: duration, Length: 17974, dtype: int64"
      ]
     },
     "execution_count": 6,
     "metadata": {},
     "output_type": "execute_result"
    }
   ],
   "source": [
    "rides['duration'].value_counts(ascending = True)"
   ]
  },
  {
   "cell_type": "markdown",
   "id": "6a3c09eb",
   "metadata": {},
   "source": [
    "Из 16925 поездок 95 были продолжительностью 30сек, 0.56% - можно оставить без изменений <a id='start'></a> "
   ]
  },
  {
   "cell_type": "code",
   "execution_count": 7,
   "id": "2d940b0c",
   "metadata": {},
   "outputs": [
    {
     "name": "stdout",
     "output_type": "stream",
     "text": [
      "<class 'pandas.core.frame.DataFrame'>\n",
      "RangeIndex: 18068 entries, 0 to 18067\n",
      "Data columns (total 4 columns):\n",
      " #   Column    Non-Null Count  Dtype  \n",
      "---  ------    --------------  -----  \n",
      " 0   user_id   18068 non-null  int64  \n",
      " 1   distance  18068 non-null  float64\n",
      " 2   duration  18068 non-null  float64\n",
      " 3   date      18068 non-null  object \n",
      "dtypes: float64(2), int64(1), object(1)\n",
      "memory usage: 564.8+ KB\n"
     ]
    }
   ],
   "source": [
    "rides.info()"
   ]
  },
  {
   "cell_type": "markdown",
   "id": "08d72f53",
   "metadata": {},
   "source": [
    "Датафрейм rides содержит 4 столбца. Столец data имеет тип данных object - необходимо перевести его в datetime64, чтобы было удобно работать с библиотекой пандас."
   ]
  },
  {
   "cell_type": "code",
   "execution_count": 8,
   "id": "3da3fd5b",
   "metadata": {},
   "outputs": [
    {
     "data": {
      "text/plain": [
       "1534"
      ]
     },
     "execution_count": 8,
     "metadata": {},
     "output_type": "execute_result"
    }
   ],
   "source": [
    "len(rides['user_id'].unique()) # всего уникальных пользователя 1534"
   ]
  },
  {
   "cell_type": "code",
   "execution_count": 9,
   "id": "fef50368",
   "metadata": {},
   "outputs": [
    {
     "data": {
      "text/html": [
       "<div>\n",
       "<style scoped>\n",
       "    .dataframe tbody tr th:only-of-type {\n",
       "        vertical-align: middle;\n",
       "    }\n",
       "\n",
       "    .dataframe tbody tr th {\n",
       "        vertical-align: top;\n",
       "    }\n",
       "\n",
       "    .dataframe thead th {\n",
       "        text-align: right;\n",
       "    }\n",
       "</style>\n",
       "<table border=\"1\" class=\"dataframe\">\n",
       "  <thead>\n",
       "    <tr style=\"text-align: right;\">\n",
       "      <th></th>\n",
       "      <th>subscription_type</th>\n",
       "      <th>minute_price</th>\n",
       "      <th>start_ride_price</th>\n",
       "      <th>subscription_fee</th>\n",
       "    </tr>\n",
       "  </thead>\n",
       "  <tbody>\n",
       "    <tr>\n",
       "      <th>0</th>\n",
       "      <td>free</td>\n",
       "      <td>8</td>\n",
       "      <td>50</td>\n",
       "      <td>0</td>\n",
       "    </tr>\n",
       "    <tr>\n",
       "      <th>1</th>\n",
       "      <td>ultra</td>\n",
       "      <td>6</td>\n",
       "      <td>0</td>\n",
       "      <td>199</td>\n",
       "    </tr>\n",
       "  </tbody>\n",
       "</table>\n",
       "</div>"
      ],
      "text/plain": [
       "  subscription_type  minute_price  start_ride_price  subscription_fee\n",
       "0              free             8                50                 0\n",
       "1             ultra             6                 0               199"
      ]
     },
     "execution_count": 9,
     "metadata": {},
     "output_type": "execute_result"
    }
   ],
   "source": [
    "subscriptions.head(10)"
   ]
  },
  {
   "cell_type": "code",
   "execution_count": 10,
   "id": "68354f18",
   "metadata": {},
   "outputs": [
    {
     "name": "stdout",
     "output_type": "stream",
     "text": [
      "<class 'pandas.core.frame.DataFrame'>\n",
      "RangeIndex: 2 entries, 0 to 1\n",
      "Data columns (total 4 columns):\n",
      " #   Column             Non-Null Count  Dtype \n",
      "---  ------             --------------  ----- \n",
      " 0   subscription_type  2 non-null      object\n",
      " 1   minute_price       2 non-null      int64 \n",
      " 2   start_ride_price   2 non-null      int64 \n",
      " 3   subscription_fee   2 non-null      int64 \n",
      "dtypes: int64(3), object(1)\n",
      "memory usage: 192.0+ bytes\n"
     ]
    }
   ],
   "source": [
    "subscriptions.info()"
   ]
  },
  {
   "cell_type": "markdown",
   "id": "76b45b16",
   "metadata": {},
   "source": [
    "Датафрейм subscriptions имеет 3 столбца, типы данных столбцов соответсвуют"
   ]
  },
  {
   "cell_type": "code",
   "execution_count": 11,
   "id": "80536d97",
   "metadata": {},
   "outputs": [
    {
     "data": {
      "text/plain": [
       "subscription_type  minute_price  start_ride_price  subscription_fee\n",
       "free               8             50                0                   1\n",
       "ultra              6             0                 199                 1\n",
       "dtype: int64"
      ]
     },
     "execution_count": 11,
     "metadata": {},
     "output_type": "execute_result"
    }
   ],
   "source": [
    "subscriptions.value_counts()"
   ]
  },
  {
   "cell_type": "markdown",
   "id": "9910d636",
   "metadata": {},
   "source": [
    "#### Шаг 2. Предобработка данных"
   ]
  },
  {
   "cell_type": "code",
   "execution_count": 12,
   "id": "11b8cbbd",
   "metadata": {
    "scrolled": true
   },
   "outputs": [],
   "source": [
    "rides['date'] = pd.to_datetime(rides['date'], format='%Y-%m-%d') "
   ]
  },
  {
   "cell_type": "code",
   "execution_count": 13,
   "id": "46503014",
   "metadata": {},
   "outputs": [
    {
     "name": "stdout",
     "output_type": "stream",
     "text": [
      "<class 'pandas.core.frame.DataFrame'>\n",
      "RangeIndex: 18068 entries, 0 to 18067\n",
      "Data columns (total 4 columns):\n",
      " #   Column    Non-Null Count  Dtype         \n",
      "---  ------    --------------  -----         \n",
      " 0   user_id   18068 non-null  int64         \n",
      " 1   distance  18068 non-null  float64       \n",
      " 2   duration  18068 non-null  float64       \n",
      " 3   date      18068 non-null  datetime64[ns]\n",
      "dtypes: datetime64[ns](1), float64(2), int64(1)\n",
      "memory usage: 564.8 KB\n"
     ]
    }
   ],
   "source": [
    "rides.info()"
   ]
  },
  {
   "cell_type": "code",
   "execution_count": 14,
   "id": "7efb9a04",
   "metadata": {
    "scrolled": true
   },
   "outputs": [],
   "source": [
    "rides['month'] = pd.DatetimeIndex(rides['date']).month"
   ]
  },
  {
   "cell_type": "code",
   "execution_count": 15,
   "id": "8dd46d89",
   "metadata": {},
   "outputs": [
    {
     "data": {
      "text/plain": [
       "Timedelta('363 days 00:00:00')"
      ]
     },
     "execution_count": 15,
     "metadata": {},
     "output_type": "execute_result"
    }
   ],
   "source": [
    "period = pd.to_datetime(rides['date'], format='%Y-%m-%d').max() - pd.to_datetime(rides['date'], format='%Y-%m-%d').min()\n",
    "period # данные даны за 363 дня"
   ]
  },
  {
   "cell_type": "code",
   "execution_count": 16,
   "id": "a0cd2b1b",
   "metadata": {},
   "outputs": [
    {
     "data": {
      "text/plain": [
       "2576    2021-12-30\n",
       "3278    2021-12-30\n",
       "11752   2021-12-30\n",
       "15704   2021-12-30\n",
       "14115   2021-12-30\n",
       "Name: date, dtype: datetime64[ns]"
      ]
     },
     "execution_count": 16,
     "metadata": {},
     "output_type": "execute_result"
    }
   ],
   "source": [
    "rides['date'].sort_values(ascending = False).head()\n"
   ]
  },
  {
   "cell_type": "code",
   "execution_count": 17,
   "id": "ad035242",
   "metadata": {},
   "outputs": [
    {
     "data": {
      "text/plain": [
       "2754    2021-01-01\n",
       "13591   2021-01-01\n",
       "2888    2021-01-01\n",
       "13356   2021-01-01\n",
       "0       2021-01-01\n",
       "Name: date, dtype: datetime64[ns]"
      ]
     },
     "execution_count": 17,
     "metadata": {},
     "output_type": "execute_result"
    }
   ],
   "source": [
    "rides['date'].sort_values(ascending = False).tail()"
   ]
  },
  {
   "cell_type": "markdown",
   "id": "39c27cd1",
   "metadata": {},
   "source": [
    "Данные за 2021 год (с 1 января по 30 декабря)"
   ]
  },
  {
   "cell_type": "code",
   "execution_count": 19,
   "id": "f9a18b71",
   "metadata": {},
   "outputs": [
    {
     "data": {
      "text/html": [
       "<div>\n",
       "<style scoped>\n",
       "    .dataframe tbody tr th:only-of-type {\n",
       "        vertical-align: middle;\n",
       "    }\n",
       "\n",
       "    .dataframe tbody tr th {\n",
       "        vertical-align: top;\n",
       "    }\n",
       "\n",
       "    .dataframe thead th {\n",
       "        text-align: right;\n",
       "    }\n",
       "</style>\n",
       "<table border=\"1\" class=\"dataframe\">\n",
       "  <thead>\n",
       "    <tr style=\"text-align: right;\">\n",
       "      <th></th>\n",
       "      <th>user_id</th>\n",
       "      <th>distance</th>\n",
       "      <th>duration</th>\n",
       "      <th>date</th>\n",
       "      <th>month</th>\n",
       "    </tr>\n",
       "  </thead>\n",
       "  <tbody>\n",
       "    <tr>\n",
       "      <th>0</th>\n",
       "      <td>1</td>\n",
       "      <td>4409.919140</td>\n",
       "      <td>25.599769</td>\n",
       "      <td>2021-01-01</td>\n",
       "      <td>1</td>\n",
       "    </tr>\n",
       "    <tr>\n",
       "      <th>1</th>\n",
       "      <td>1</td>\n",
       "      <td>2617.592153</td>\n",
       "      <td>15.816871</td>\n",
       "      <td>2021-01-18</td>\n",
       "      <td>1</td>\n",
       "    </tr>\n",
       "    <tr>\n",
       "      <th>2</th>\n",
       "      <td>1</td>\n",
       "      <td>754.159807</td>\n",
       "      <td>6.232113</td>\n",
       "      <td>2021-04-20</td>\n",
       "      <td>4</td>\n",
       "    </tr>\n",
       "    <tr>\n",
       "      <th>3</th>\n",
       "      <td>1</td>\n",
       "      <td>2694.783254</td>\n",
       "      <td>18.511000</td>\n",
       "      <td>2021-08-11</td>\n",
       "      <td>8</td>\n",
       "    </tr>\n",
       "    <tr>\n",
       "      <th>4</th>\n",
       "      <td>1</td>\n",
       "      <td>4028.687306</td>\n",
       "      <td>26.265803</td>\n",
       "      <td>2021-08-28</td>\n",
       "      <td>8</td>\n",
       "    </tr>\n",
       "    <tr>\n",
       "      <th>...</th>\n",
       "      <td>...</td>\n",
       "      <td>...</td>\n",
       "      <td>...</td>\n",
       "      <td>...</td>\n",
       "      <td>...</td>\n",
       "    </tr>\n",
       "    <tr>\n",
       "      <th>18063</th>\n",
       "      <td>1534</td>\n",
       "      <td>3781.098080</td>\n",
       "      <td>19.822962</td>\n",
       "      <td>2021-11-04</td>\n",
       "      <td>11</td>\n",
       "    </tr>\n",
       "    <tr>\n",
       "      <th>18064</th>\n",
       "      <td>1534</td>\n",
       "      <td>2840.423057</td>\n",
       "      <td>21.409799</td>\n",
       "      <td>2021-11-16</td>\n",
       "      <td>11</td>\n",
       "    </tr>\n",
       "    <tr>\n",
       "      <th>18065</th>\n",
       "      <td>1534</td>\n",
       "      <td>3826.185507</td>\n",
       "      <td>18.435051</td>\n",
       "      <td>2021-11-18</td>\n",
       "      <td>11</td>\n",
       "    </tr>\n",
       "    <tr>\n",
       "      <th>18066</th>\n",
       "      <td>1534</td>\n",
       "      <td>2902.308661</td>\n",
       "      <td>16.674362</td>\n",
       "      <td>2021-11-27</td>\n",
       "      <td>11</td>\n",
       "    </tr>\n",
       "    <tr>\n",
       "      <th>18067</th>\n",
       "      <td>1534</td>\n",
       "      <td>2371.711192</td>\n",
       "      <td>15.893917</td>\n",
       "      <td>2021-12-29</td>\n",
       "      <td>12</td>\n",
       "    </tr>\n",
       "  </tbody>\n",
       "</table>\n",
       "<p>18068 rows × 5 columns</p>\n",
       "</div>"
      ],
      "text/plain": [
       "       user_id     distance   duration       date  month\n",
       "0            1  4409.919140  25.599769 2021-01-01      1\n",
       "1            1  2617.592153  15.816871 2021-01-18      1\n",
       "2            1   754.159807   6.232113 2021-04-20      4\n",
       "3            1  2694.783254  18.511000 2021-08-11      8\n",
       "4            1  4028.687306  26.265803 2021-08-28      8\n",
       "...        ...          ...        ...        ...    ...\n",
       "18063     1534  3781.098080  19.822962 2021-11-04     11\n",
       "18064     1534  2840.423057  21.409799 2021-11-16     11\n",
       "18065     1534  3826.185507  18.435051 2021-11-18     11\n",
       "18066     1534  2902.308661  16.674362 2021-11-27     11\n",
       "18067     1534  2371.711192  15.893917 2021-12-29     12\n",
       "\n",
       "[18068 rows x 5 columns]"
      ]
     },
     "execution_count": 19,
     "metadata": {},
     "output_type": "execute_result"
    }
   ],
   "source": [
    "rides"
   ]
  },
  {
   "cell_type": "code",
   "execution_count": 20,
   "id": "0a36fbb8",
   "metadata": {},
   "outputs": [
    {
     "data": {
      "text/plain": [
       "31"
      ]
     },
     "execution_count": 20,
     "metadata": {},
     "output_type": "execute_result"
    }
   ],
   "source": [
    "users.duplicated().sum() # присутсвует 31 строка,являющаяся явным дубликатом, не повлияет на анализ,однако для получения более надежных результатов я их удалю"
   ]
  },
  {
   "cell_type": "code",
   "execution_count": 21,
   "id": "8d997bf5",
   "metadata": {},
   "outputs": [],
   "source": [
    "users = users.drop_duplicates()  "
   ]
  },
  {
   "cell_type": "code",
   "execution_count": 22,
   "id": "1347573b",
   "metadata": {},
   "outputs": [
    {
     "data": {
      "text/plain": [
       "0"
      ]
     },
     "execution_count": 22,
     "metadata": {},
     "output_type": "execute_result"
    }
   ],
   "source": [
    "users.duplicated().sum()"
   ]
  },
  {
   "cell_type": "code",
   "execution_count": 23,
   "id": "fdad5367",
   "metadata": {},
   "outputs": [
    {
     "data": {
      "text/plain": [
       "0"
      ]
     },
     "execution_count": 23,
     "metadata": {},
     "output_type": "execute_result"
    }
   ],
   "source": [
    "rides.duplicated().sum() #в датафрейме нет явных дубликатов"
   ]
  },
  {
   "cell_type": "code",
   "execution_count": 24,
   "id": "2c70a586",
   "metadata": {},
   "outputs": [
    {
     "data": {
      "text/plain": [
       "0"
      ]
     },
     "execution_count": 24,
     "metadata": {},
     "output_type": "execute_result"
    }
   ],
   "source": [
    "subscriptions.duplicated().sum() #в датафрейме нет явных дубликатов"
   ]
  },
  {
   "cell_type": "code",
   "execution_count": 25,
   "id": "e3d3e311",
   "metadata": {},
   "outputs": [
    {
     "data": {
      "text/plain": [
       "user_id              0\n",
       "name                 0\n",
       "age                  0\n",
       "city                 0\n",
       "subscription_type    0\n",
       "dtype: int64"
      ]
     },
     "execution_count": 25,
     "metadata": {},
     "output_type": "execute_result"
    }
   ],
   "source": [
    "users.isna().sum() #в датафрейме нет пропущенных значений"
   ]
  },
  {
   "cell_type": "code",
   "execution_count": 26,
   "id": "0882097d",
   "metadata": {},
   "outputs": [
    {
     "data": {
      "text/plain": [
       "user_id     0\n",
       "distance    0\n",
       "duration    0\n",
       "date        0\n",
       "month       0\n",
       "dtype: int64"
      ]
     },
     "execution_count": 26,
     "metadata": {},
     "output_type": "execute_result"
    }
   ],
   "source": [
    "rides.isna().sum() #в датафрейме нет пропущенных значений"
   ]
  },
  {
   "cell_type": "code",
   "execution_count": 27,
   "id": "3e8d89fe",
   "metadata": {
    "scrolled": false
   },
   "outputs": [
    {
     "data": {
      "text/plain": [
       "subscription_type    0\n",
       "minute_price         0\n",
       "start_ride_price     0\n",
       "subscription_fee     0\n",
       "dtype: int64"
      ]
     },
     "execution_count": 27,
     "metadata": {},
     "output_type": "execute_result"
    }
   ],
   "source": [
    "subscriptions.isna().sum() #в датафрейме нет пропущенных значений"
   ]
  },
  {
   "cell_type": "markdown",
   "id": "f02c3ad8",
   "metadata": {},
   "source": [
    "После проверки датафреймов на пропущенные значения,дубликаты и несоответсвие названия столбцов змеиному регистру, предобработка данных окончена"
   ]
  },
  {
   "cell_type": "markdown",
   "id": "9760e03d",
   "metadata": {},
   "source": [
    "#### Шаг 3. Исследовательский анализ данных"
   ]
  },
  {
   "cell_type": "code",
   "execution_count": 28,
   "id": "e417df6b",
   "metadata": {},
   "outputs": [
    {
     "data": {
      "text/plain": [
       "array(['Тюмень', 'Омск', 'Москва', 'Ростов-на-Дону', 'Краснодар',\n",
       "       'Пятигорск', 'Екатеринбург', 'Сочи'], dtype=object)"
      ]
     },
     "execution_count": 28,
     "metadata": {},
     "output_type": "execute_result"
    }
   ],
   "source": [
    "users['city'].unique()"
   ]
  },
  {
   "cell_type": "code",
   "execution_count": 29,
   "id": "9897b0f8",
   "metadata": {
    "scrolled": true
   },
   "outputs": [],
   "source": [
    "#users['city'].hist(bins = 20, figsize = (11,6))\n",
    "#plt.show()"
   ]
  },
  {
   "cell_type": "code",
   "execution_count": 30,
   "id": "776f255a",
   "metadata": {
    "scrolled": true
   },
   "outputs": [],
   "source": [
    "users_cities = users['city'].value_counts(ascending = False) #отображение частоты встречаемости городов с сортировкой по убыванию"
   ]
  },
  {
   "cell_type": "code",
   "execution_count": 31,
   "id": "62deb4eb",
   "metadata": {
    "scrolled": true
   },
   "outputs": [
    {
     "data": {
      "text/plain": [
       "Пятигорск         219\n",
       "Екатеринбург      204\n",
       "Ростов-на-Дону    198\n",
       "Краснодар         193\n",
       "Сочи              189\n",
       "Омск              183\n",
       "Тюмень            180\n",
       "Москва            168\n",
       "Name: city, dtype: int64"
      ]
     },
     "execution_count": 31,
     "metadata": {},
     "output_type": "execute_result"
    }
   ],
   "source": [
    "users_cities"
   ]
  },
  {
   "cell_type": "code",
   "execution_count": 32,
   "id": "ab3d0598",
   "metadata": {},
   "outputs": [
    {
     "data": {
      "image/png": "[encoded data removed]",
      "text/plain": [
       "<Figure size 432x288 with 1 Axes>"
      ]
     },
     "metadata": {
      "needs_background": "light"
     },
     "output_type": "display_data"
    }
   ],
   "source": [
    "users_cities.plot.barh(alpha = 0.5, color = 'darkcyan')\n",
    "plt.xlabel('Название города')\n",
    "plt.ylabel('Частота встречаемости')\n",
    "plt.title('Cтолбчатая диаграмма с частотой встречаемости городов')\n",
    "plt.show()"
   ]
  },
  {
   "cell_type": "markdown",
   "id": "984b886c",
   "metadata": {},
   "source": [
    "В датафрейме users разные города встречаются с частотой от ~168 до 219 раз. Чаще всего встречается Пятигорск, реже - Москва"
   ]
  },
  {
   "cell_type": "code",
   "execution_count": 33,
   "id": "f7c5b51f",
   "metadata": {},
   "outputs": [
    {
     "data": {
      "image/png": "[encoded data removed]",
      "text/plain": [
       "<Figure size 432x288 with 1 Axes>"
      ]
     },
     "metadata": {},
     "output_type": "display_data"
    }
   ],
   "source": [
    "users_subscription_type = users['subscription_type'].value_counts()\n",
    "users_subscription_type.plot(kind ='pie', y = 'subscription_type',autopct='%1.1f%%',wedgeprops={'lw':1, 'ls':'--','edgecolor':\"k\"})\n",
    "plt.xlabel('С подпиской')\n",
    "plt.ylabel('Без подписки')\n",
    "plt.title('Круговая диаграмма с процентным соотношением пользователей с подпиской и без подписки')\n",
    "plt.show()"
   ]
  },
  {
   "cell_type": "markdown",
   "id": "52eca76a",
   "metadata": {},
   "source": [
    "Количество пользователей без подписки 54.4%, с подпиской - 45.6%"
   ]
  },
  {
   "cell_type": "code",
   "execution_count": 34,
   "id": "30278e1e",
   "metadata": {
    "scrolled": true
   },
   "outputs": [
    {
     "data": {
      "text/plain": [
       "user_id              835\n",
       "name                 835\n",
       "age                  835\n",
       "city                 835\n",
       "subscription_type    835\n",
       "dtype: int64"
      ]
     },
     "execution_count": 34,
     "metadata": {},
     "output_type": "execute_result"
    }
   ],
   "source": [
    "free = users[users['subscription_type'] == 'free'].count() # количество пользователей без подписки\n",
    "free"
   ]
  },
  {
   "cell_type": "code",
   "execution_count": 35,
   "id": "2f76f1a9",
   "metadata": {
    "scrolled": true
   },
   "outputs": [
    {
     "data": {
      "text/plain": [
       "user_id              699\n",
       "name                 699\n",
       "age                  699\n",
       "city                 699\n",
       "subscription_type    699\n",
       "dtype: int64"
      ]
     },
     "execution_count": 35,
     "metadata": {},
     "output_type": "execute_result"
    }
   ],
   "source": [
    "ultra = users[users['subscription_type'] == 'ultra'].count() # количество пользователей с подпиской\n",
    "ultra"
   ]
  },
  {
   "cell_type": "markdown",
   "id": "5308ba8b",
   "metadata": {},
   "source": [
    "    Количество подписчиков с free-подпиской: 835    \n",
    "    Количество любителей старой-доброй untra-подписки: 699"
   ]
  },
  {
   "cell_type": "code",
   "execution_count": 36,
   "id": "5b5a1cc9",
   "metadata": {
    "scrolled": true
   },
   "outputs": [
    {
     "data": {
      "image/png": "[encoded data removed]",
      "text/plain": [
       "<Figure size 576x288 with 1 Axes>"
      ]
     },
     "metadata": {
      "needs_background": "light"
     },
     "output_type": "display_data"
    }
   ],
   "source": [
    "users['age'].hist(bins = 15,figsize = (8,4), color = 'darkblue')\n",
    "plt.xlabel(\"Возраст\")\n",
    "plt.ylabel(\"Частота\")\n",
    "plt.title('Гистограмма с распределенем по возрасту и частоте его встречаемости')\n",
    "plt.show()"
   ]
  },
  {
   "cell_type": "code",
   "execution_count": 37,
   "id": "91ab6d92",
   "metadata": {
    "scrolled": true
   },
   "outputs": [
    {
     "data": {
      "text/plain": [
       "count    1534.000000\n",
       "mean       24.903520\n",
       "std         4.572367\n",
       "min        12.000000\n",
       "25%        22.000000\n",
       "50%        25.000000\n",
       "75%        28.000000\n",
       "max        43.000000\n",
       "Name: age, dtype: float64"
      ]
     },
     "execution_count": 37,
     "metadata": {},
     "output_type": "execute_result"
    }
   ],
   "source": [
    "users['age'].describe()"
   ]
  },
  {
   "cell_type": "markdown",
   "id": "26ba9989",
   "metadata": {},
   "source": [
    "    Минимальный возраст пользователей - 12 лет\n",
    "    Медианный возраст пользователей - 25 лет (средний ~25)\n",
    "    Максимальный возраст пользователей - 43 года\n",
    "    На гистограмме представлено нормальное распределение"
   ]
  },
  {
   "cell_type": "code",
   "execution_count": 38,
   "id": "eac85964",
   "metadata": {},
   "outputs": [
    {
     "data": {
      "image/png": "[encoded data removed]",
      "text/plain": [
       "<Figure size 576x288 with 1 Axes>"
      ]
     },
     "metadata": {
      "needs_background": "light"
     },
     "output_type": "display_data"
    }
   ],
   "source": [
    "rides['distance'].hist(bins = 25,figsize = (8,4),color = 'lime', alpha = 0.5)\n",
    "plt.xlabel(\"Дистанция в метрах\")\n",
    "plt.ylabel(\"Частота\")\n",
    "plt.title('Гистограмма с пройденой дистанцией и частотой ее встречаемости')\n",
    "plt.show()"
   ]
  },
  {
   "cell_type": "code",
   "execution_count": 39,
   "id": "2bf8122a",
   "metadata": {},
   "outputs": [
    {
     "data": {
      "text/plain": [
       "count    18068.000000\n",
       "mean      3070.659976\n",
       "std       1116.831209\n",
       "min          0.855683\n",
       "25%       2543.226360\n",
       "50%       3133.609994\n",
       "75%       3776.222735\n",
       "max       7211.007745\n",
       "Name: distance, dtype: float64"
      ]
     },
     "execution_count": 39,
     "metadata": {},
     "output_type": "execute_result"
    }
   ],
   "source": [
    "rides['distance'].describe()"
   ]
  },
  {
   "cell_type": "code",
   "execution_count": 40,
   "id": "25728363",
   "metadata": {},
   "outputs": [
    {
     "data": {
      "image/png": "[encoded data removed]",
      "text/plain": [
       "<Figure size 432x288 with 1 Axes>"
      ]
     },
     "metadata": {
      "needs_background": "light"
     },
     "output_type": "display_data"
    }
   ],
   "source": [
    "rides.boxplot('distance')\n",
    "plt.xlabel('Дистанция')\n",
    "plt.ylabel('Расстояние в метрах')\n",
    "plt.title('Диаграмма размаха с характеристикой распределения по дистанции')\n",
    "plt.show()"
   ]
  },
  {
   "cell_type": "markdown",
   "id": "36b4f518",
   "metadata": {},
   "source": [
    "    Минимальная дистанция за одну поездку составляет 855 м\n",
    "    Медианная дистанция за одну поездку составляет 3133 м, средняя 3070м\n",
    "    Максимальная дистанция за одну поездку составляет 7211 м\n",
    "    На диаграмме размаха присутсвиуют выбросы"
   ]
  },
  {
   "cell_type": "code",
   "execution_count": 41,
   "id": "b0822d3f",
   "metadata": {},
   "outputs": [
    {
     "data": {
      "image/png": "[encoded data removed]",
      "text/plain": [
       "<Figure size 576x288 with 1 Axes>"
      ]
     },
     "metadata": {
      "needs_background": "light"
     },
     "output_type": "display_data"
    }
   ],
   "source": [
    "rides['duration'].hist(bins = 70,figsize = (8,4),color = 'purple')\n",
    "plt.xlabel('Продолжительность,в мин')\n",
    "plt.ylabel('Частота')\n",
    "plt.title('Гистограмма с продолжительностью сессии и частотой ее встречаемости')\n",
    "plt.show()"
   ]
  },
  {
   "cell_type": "markdown",
   "id": "12bac1d0",
   "metadata": {},
   "source": [
    "Увеличив количество корзин с 15 до 70 я выявил пик около 0, в [начале проекта](start), я выяснил что это 95 поездок с продолжительностью 0.5 мин. Возможно, данный самокат был в плохом состоянии и пользователи заменили его через короткое время,возможно ошибки в самих исходных данных, однако их количество не превышает 0.56% от общего объема данных и поэтому ими можно пренебречь,образно выражаясь"
   ]
  },
  {
   "cell_type": "code",
   "execution_count": 42,
   "id": "32187760",
   "metadata": {},
   "outputs": [
    {
     "data": {
      "text/plain": [
       "count    18068.000000\n",
       "mean        17.805011\n",
       "std          6.091051\n",
       "min          0.500000\n",
       "25%         13.597563\n",
       "50%         17.678395\n",
       "75%         21.724800\n",
       "max         40.823963\n",
       "Name: duration, dtype: float64"
      ]
     },
     "execution_count": 42,
     "metadata": {},
     "output_type": "execute_result"
    }
   ],
   "source": [
    "rides['duration'].describe()"
   ]
  },
  {
   "cell_type": "code",
   "execution_count": 43,
   "id": "ca5d3214",
   "metadata": {},
   "outputs": [
    {
     "data": {
      "image/png": "[encoded data removed]",
      "text/plain": [
       "<Figure size 432x288 with 1 Axes>"
      ]
     },
     "metadata": {
      "needs_background": "light"
     },
     "output_type": "display_data"
    }
   ],
   "source": [
    "rides.boxplot('duration')\n",
    "plt.xlabel('Продолжительность')\n",
    "plt.ylabel('Количество минут')\n",
    "plt.title('Диаграмма размаха с характеристикой распределения по продолжительности')\n",
    "plt.show()"
   ]
  },
  {
   "cell_type": "markdown",
   "id": "d8967a68",
   "metadata": {},
   "source": [
    "    Минимальная продолжительность поездки 0.5 мин\n",
    "    Медианная продолжительность поездки 17.6 мин,средняя - 17.8\n",
    "    Максимальная продолжительность поездки 40.8 мин\n",
    "    На диаграмме размаха присутсвиуют выбросы\n",
    "    "
   ]
  },
  {
   "cell_type": "markdown",
   "id": "7eb435c8",
   "metadata": {},
   "source": [
    "#### Шаг 4. Объединение данных"
   ]
  },
  {
   "cell_type": "code",
   "execution_count": 44,
   "id": "7e9ca1c3",
   "metadata": {
    "scrolled": true
   },
   "outputs": [],
   "source": [
    "data = users.merge(rides, on = 'user_id', how='left', ).merge(subscriptions,on = 'subscription_type', how='left', )"
   ]
  },
  {
   "cell_type": "code",
   "execution_count": 45,
   "id": "4c139115",
   "metadata": {
    "scrolled": false
   },
   "outputs": [
    {
     "data": {
      "text/html": [
       "<div>\n",
       "<style scoped>\n",
       "    .dataframe tbody tr th:only-of-type {\n",
       "        vertical-align: middle;\n",
       "    }\n",
       "\n",
       "    .dataframe tbody tr th {\n",
       "        vertical-align: top;\n",
       "    }\n",
       "\n",
       "    .dataframe thead th {\n",
       "        text-align: right;\n",
       "    }\n",
       "</style>\n",
       "<table border=\"1\" class=\"dataframe\">\n",
       "  <thead>\n",
       "    <tr style=\"text-align: right;\">\n",
       "      <th></th>\n",
       "      <th>user_id</th>\n",
       "      <th>name</th>\n",
       "      <th>age</th>\n",
       "      <th>city</th>\n",
       "      <th>subscription_type</th>\n",
       "      <th>distance</th>\n",
       "      <th>duration</th>\n",
       "      <th>date</th>\n",
       "      <th>month</th>\n",
       "      <th>minute_price</th>\n",
       "      <th>start_ride_price</th>\n",
       "      <th>subscription_fee</th>\n",
       "    </tr>\n",
       "  </thead>\n",
       "  <tbody>\n",
       "    <tr>\n",
       "      <th>6500</th>\n",
       "      <td>700</td>\n",
       "      <td>Айдар</td>\n",
       "      <td>22</td>\n",
       "      <td>Омск</td>\n",
       "      <td>free</td>\n",
       "      <td>2515.690719</td>\n",
       "      <td>14.944286</td>\n",
       "      <td>2021-01-02</td>\n",
       "      <td>1</td>\n",
       "      <td>8</td>\n",
       "      <td>50</td>\n",
       "      <td>0</td>\n",
       "    </tr>\n",
       "    <tr>\n",
       "      <th>6501</th>\n",
       "      <td>700</td>\n",
       "      <td>Айдар</td>\n",
       "      <td>22</td>\n",
       "      <td>Омск</td>\n",
       "      <td>free</td>\n",
       "      <td>846.932642</td>\n",
       "      <td>16.234663</td>\n",
       "      <td>2021-02-01</td>\n",
       "      <td>2</td>\n",
       "      <td>8</td>\n",
       "      <td>50</td>\n",
       "      <td>0</td>\n",
       "    </tr>\n",
       "    <tr>\n",
       "      <th>6502</th>\n",
       "      <td>700</td>\n",
       "      <td>Айдар</td>\n",
       "      <td>22</td>\n",
       "      <td>Омск</td>\n",
       "      <td>free</td>\n",
       "      <td>4004.434142</td>\n",
       "      <td>20.016628</td>\n",
       "      <td>2021-02-04</td>\n",
       "      <td>2</td>\n",
       "      <td>8</td>\n",
       "      <td>50</td>\n",
       "      <td>0</td>\n",
       "    </tr>\n",
       "    <tr>\n",
       "      <th>6503</th>\n",
       "      <td>700</td>\n",
       "      <td>Айдар</td>\n",
       "      <td>22</td>\n",
       "      <td>Омск</td>\n",
       "      <td>free</td>\n",
       "      <td>1205.911290</td>\n",
       "      <td>9.782872</td>\n",
       "      <td>2021-02-10</td>\n",
       "      <td>2</td>\n",
       "      <td>8</td>\n",
       "      <td>50</td>\n",
       "      <td>0</td>\n",
       "    </tr>\n",
       "    <tr>\n",
       "      <th>6504</th>\n",
       "      <td>700</td>\n",
       "      <td>Айдар</td>\n",
       "      <td>22</td>\n",
       "      <td>Омск</td>\n",
       "      <td>free</td>\n",
       "      <td>3047.379435</td>\n",
       "      <td>17.427673</td>\n",
       "      <td>2021-02-14</td>\n",
       "      <td>2</td>\n",
       "      <td>8</td>\n",
       "      <td>50</td>\n",
       "      <td>0</td>\n",
       "    </tr>\n",
       "    <tr>\n",
       "      <th>...</th>\n",
       "      <td>...</td>\n",
       "      <td>...</td>\n",
       "      <td>...</td>\n",
       "      <td>...</td>\n",
       "      <td>...</td>\n",
       "      <td>...</td>\n",
       "      <td>...</td>\n",
       "      <td>...</td>\n",
       "      <td>...</td>\n",
       "      <td>...</td>\n",
       "      <td>...</td>\n",
       "      <td>...</td>\n",
       "    </tr>\n",
       "    <tr>\n",
       "      <th>18063</th>\n",
       "      <td>1534</td>\n",
       "      <td>Альберт</td>\n",
       "      <td>25</td>\n",
       "      <td>Краснодар</td>\n",
       "      <td>free</td>\n",
       "      <td>3781.098080</td>\n",
       "      <td>19.822962</td>\n",
       "      <td>2021-11-04</td>\n",
       "      <td>11</td>\n",
       "      <td>8</td>\n",
       "      <td>50</td>\n",
       "      <td>0</td>\n",
       "    </tr>\n",
       "    <tr>\n",
       "      <th>18064</th>\n",
       "      <td>1534</td>\n",
       "      <td>Альберт</td>\n",
       "      <td>25</td>\n",
       "      <td>Краснодар</td>\n",
       "      <td>free</td>\n",
       "      <td>2840.423057</td>\n",
       "      <td>21.409799</td>\n",
       "      <td>2021-11-16</td>\n",
       "      <td>11</td>\n",
       "      <td>8</td>\n",
       "      <td>50</td>\n",
       "      <td>0</td>\n",
       "    </tr>\n",
       "    <tr>\n",
       "      <th>18065</th>\n",
       "      <td>1534</td>\n",
       "      <td>Альберт</td>\n",
       "      <td>25</td>\n",
       "      <td>Краснодар</td>\n",
       "      <td>free</td>\n",
       "      <td>3826.185507</td>\n",
       "      <td>18.435051</td>\n",
       "      <td>2021-11-18</td>\n",
       "      <td>11</td>\n",
       "      <td>8</td>\n",
       "      <td>50</td>\n",
       "      <td>0</td>\n",
       "    </tr>\n",
       "    <tr>\n",
       "      <th>18066</th>\n",
       "      <td>1534</td>\n",
       "      <td>Альберт</td>\n",
       "      <td>25</td>\n",
       "      <td>Краснодар</td>\n",
       "      <td>free</td>\n",
       "      <td>2902.308661</td>\n",
       "      <td>16.674362</td>\n",
       "      <td>2021-11-27</td>\n",
       "      <td>11</td>\n",
       "      <td>8</td>\n",
       "      <td>50</td>\n",
       "      <td>0</td>\n",
       "    </tr>\n",
       "    <tr>\n",
       "      <th>18067</th>\n",
       "      <td>1534</td>\n",
       "      <td>Альберт</td>\n",
       "      <td>25</td>\n",
       "      <td>Краснодар</td>\n",
       "      <td>free</td>\n",
       "      <td>2371.711192</td>\n",
       "      <td>15.893917</td>\n",
       "      <td>2021-12-29</td>\n",
       "      <td>12</td>\n",
       "      <td>8</td>\n",
       "      <td>50</td>\n",
       "      <td>0</td>\n",
       "    </tr>\n",
       "  </tbody>\n",
       "</table>\n",
       "<p>11568 rows × 12 columns</p>\n",
       "</div>"
      ],
      "text/plain": [
       "       user_id     name  age       city subscription_type     distance  \\\n",
       "6500       700    Айдар   22       Омск              free  2515.690719   \n",
       "6501       700    Айдар   22       Омск              free   846.932642   \n",
       "6502       700    Айдар   22       Омск              free  4004.434142   \n",
       "6503       700    Айдар   22       Омск              free  1205.911290   \n",
       "6504       700    Айдар   22       Омск              free  3047.379435   \n",
       "...        ...      ...  ...        ...               ...          ...   \n",
       "18063     1534  Альберт   25  Краснодар              free  3781.098080   \n",
       "18064     1534  Альберт   25  Краснодар              free  2840.423057   \n",
       "18065     1534  Альберт   25  Краснодар              free  3826.185507   \n",
       "18066     1534  Альберт   25  Краснодар              free  2902.308661   \n",
       "18067     1534  Альберт   25  Краснодар              free  2371.711192   \n",
       "\n",
       "        duration       date  month  minute_price  start_ride_price  \\\n",
       "6500   14.944286 2021-01-02      1             8                50   \n",
       "6501   16.234663 2021-02-01      2             8                50   \n",
       "6502   20.016628 2021-02-04      2             8                50   \n",
       "6503    9.782872 2021-02-10      2             8                50   \n",
       "6504   17.427673 2021-02-14      2             8                50   \n",
       "...          ...        ...    ...           ...               ...   \n",
       "18063  19.822962 2021-11-04     11             8                50   \n",
       "18064  21.409799 2021-11-16     11             8                50   \n",
       "18065  18.435051 2021-11-18     11             8                50   \n",
       "18066  16.674362 2021-11-27     11             8                50   \n",
       "18067  15.893917 2021-12-29     12             8                50   \n",
       "\n",
       "       subscription_fee  \n",
       "6500                  0  \n",
       "6501                  0  \n",
       "6502                  0  \n",
       "6503                  0  \n",
       "6504                  0  \n",
       "...                 ...  \n",
       "18063                 0  \n",
       "18064                 0  \n",
       "18065                 0  \n",
       "18066                 0  \n",
       "18067                 0  \n",
       "\n",
       "[11568 rows x 12 columns]"
      ]
     },
     "execution_count": 45,
     "metadata": {},
     "output_type": "execute_result"
    }
   ],
   "source": [
    "users_free =  data[data['subscription_type'] == 'free'] #users.query('subscription_type == free')\n",
    "users_free"
   ]
  },
  {
   "cell_type": "markdown",
   "id": "c9cde5ed",
   "metadata": {},
   "source": [
    "Получен объединенный датасет из 11568 строк и 12 столбцов"
   ]
  },
  {
   "cell_type": "code",
   "execution_count": 46,
   "id": "e4304144",
   "metadata": {
    "scrolled": true
   },
   "outputs": [
    {
     "data": {
      "text/html": [
       "<div>\n",
       "<style scoped>\n",
       "    .dataframe tbody tr th:only-of-type {\n",
       "        vertical-align: middle;\n",
       "    }\n",
       "\n",
       "    .dataframe tbody tr th {\n",
       "        vertical-align: top;\n",
       "    }\n",
       "\n",
       "    .dataframe thead th {\n",
       "        text-align: right;\n",
       "    }\n",
       "</style>\n",
       "<table border=\"1\" class=\"dataframe\">\n",
       "  <thead>\n",
       "    <tr style=\"text-align: right;\">\n",
       "      <th></th>\n",
       "      <th>user_id</th>\n",
       "      <th>name</th>\n",
       "      <th>age</th>\n",
       "      <th>city</th>\n",
       "      <th>subscription_type</th>\n",
       "      <th>distance</th>\n",
       "      <th>duration</th>\n",
       "      <th>date</th>\n",
       "      <th>month</th>\n",
       "      <th>minute_price</th>\n",
       "      <th>start_ride_price</th>\n",
       "      <th>subscription_fee</th>\n",
       "    </tr>\n",
       "  </thead>\n",
       "  <tbody>\n",
       "    <tr>\n",
       "      <th>0</th>\n",
       "      <td>1</td>\n",
       "      <td>Кира</td>\n",
       "      <td>22</td>\n",
       "      <td>Тюмень</td>\n",
       "      <td>ultra</td>\n",
       "      <td>4409.919140</td>\n",
       "      <td>25.599769</td>\n",
       "      <td>2021-01-01</td>\n",
       "      <td>1</td>\n",
       "      <td>6</td>\n",
       "      <td>0</td>\n",
       "      <td>199</td>\n",
       "    </tr>\n",
       "    <tr>\n",
       "      <th>1</th>\n",
       "      <td>1</td>\n",
       "      <td>Кира</td>\n",
       "      <td>22</td>\n",
       "      <td>Тюмень</td>\n",
       "      <td>ultra</td>\n",
       "      <td>2617.592153</td>\n",
       "      <td>15.816871</td>\n",
       "      <td>2021-01-18</td>\n",
       "      <td>1</td>\n",
       "      <td>6</td>\n",
       "      <td>0</td>\n",
       "      <td>199</td>\n",
       "    </tr>\n",
       "    <tr>\n",
       "      <th>2</th>\n",
       "      <td>1</td>\n",
       "      <td>Кира</td>\n",
       "      <td>22</td>\n",
       "      <td>Тюмень</td>\n",
       "      <td>ultra</td>\n",
       "      <td>754.159807</td>\n",
       "      <td>6.232113</td>\n",
       "      <td>2021-04-20</td>\n",
       "      <td>4</td>\n",
       "      <td>6</td>\n",
       "      <td>0</td>\n",
       "      <td>199</td>\n",
       "    </tr>\n",
       "    <tr>\n",
       "      <th>3</th>\n",
       "      <td>1</td>\n",
       "      <td>Кира</td>\n",
       "      <td>22</td>\n",
       "      <td>Тюмень</td>\n",
       "      <td>ultra</td>\n",
       "      <td>2694.783254</td>\n",
       "      <td>18.511000</td>\n",
       "      <td>2021-08-11</td>\n",
       "      <td>8</td>\n",
       "      <td>6</td>\n",
       "      <td>0</td>\n",
       "      <td>199</td>\n",
       "    </tr>\n",
       "    <tr>\n",
       "      <th>4</th>\n",
       "      <td>1</td>\n",
       "      <td>Кира</td>\n",
       "      <td>22</td>\n",
       "      <td>Тюмень</td>\n",
       "      <td>ultra</td>\n",
       "      <td>4028.687306</td>\n",
       "      <td>26.265803</td>\n",
       "      <td>2021-08-28</td>\n",
       "      <td>8</td>\n",
       "      <td>6</td>\n",
       "      <td>0</td>\n",
       "      <td>199</td>\n",
       "    </tr>\n",
       "    <tr>\n",
       "      <th>...</th>\n",
       "      <td>...</td>\n",
       "      <td>...</td>\n",
       "      <td>...</td>\n",
       "      <td>...</td>\n",
       "      <td>...</td>\n",
       "      <td>...</td>\n",
       "      <td>...</td>\n",
       "      <td>...</td>\n",
       "      <td>...</td>\n",
       "      <td>...</td>\n",
       "      <td>...</td>\n",
       "      <td>...</td>\n",
       "    </tr>\n",
       "    <tr>\n",
       "      <th>6495</th>\n",
       "      <td>699</td>\n",
       "      <td>Оксана</td>\n",
       "      <td>22</td>\n",
       "      <td>Москва</td>\n",
       "      <td>ultra</td>\n",
       "      <td>3973.046497</td>\n",
       "      <td>24.671163</td>\n",
       "      <td>2021-08-29</td>\n",
       "      <td>8</td>\n",
       "      <td>6</td>\n",
       "      <td>0</td>\n",
       "      <td>199</td>\n",
       "    </tr>\n",
       "    <tr>\n",
       "      <th>6496</th>\n",
       "      <td>699</td>\n",
       "      <td>Оксана</td>\n",
       "      <td>22</td>\n",
       "      <td>Москва</td>\n",
       "      <td>ultra</td>\n",
       "      <td>3288.702563</td>\n",
       "      <td>15.892886</td>\n",
       "      <td>2021-09-12</td>\n",
       "      <td>9</td>\n",
       "      <td>6</td>\n",
       "      <td>0</td>\n",
       "      <td>199</td>\n",
       "    </tr>\n",
       "    <tr>\n",
       "      <th>6497</th>\n",
       "      <td>699</td>\n",
       "      <td>Оксана</td>\n",
       "      <td>22</td>\n",
       "      <td>Москва</td>\n",
       "      <td>ultra</td>\n",
       "      <td>3076.159348</td>\n",
       "      <td>14.389525</td>\n",
       "      <td>2021-09-26</td>\n",
       "      <td>9</td>\n",
       "      <td>6</td>\n",
       "      <td>0</td>\n",
       "      <td>199</td>\n",
       "    </tr>\n",
       "    <tr>\n",
       "      <th>6498</th>\n",
       "      <td>699</td>\n",
       "      <td>Оксана</td>\n",
       "      <td>22</td>\n",
       "      <td>Москва</td>\n",
       "      <td>ultra</td>\n",
       "      <td>4707.845501</td>\n",
       "      <td>15.839579</td>\n",
       "      <td>2021-10-17</td>\n",
       "      <td>10</td>\n",
       "      <td>6</td>\n",
       "      <td>0</td>\n",
       "      <td>199</td>\n",
       "    </tr>\n",
       "    <tr>\n",
       "      <th>6499</th>\n",
       "      <td>699</td>\n",
       "      <td>Оксана</td>\n",
       "      <td>22</td>\n",
       "      <td>Москва</td>\n",
       "      <td>ultra</td>\n",
       "      <td>3202.890770</td>\n",
       "      <td>25.217345</td>\n",
       "      <td>2021-12-03</td>\n",
       "      <td>12</td>\n",
       "      <td>6</td>\n",
       "      <td>0</td>\n",
       "      <td>199</td>\n",
       "    </tr>\n",
       "  </tbody>\n",
       "</table>\n",
       "<p>6500 rows × 12 columns</p>\n",
       "</div>"
      ],
      "text/plain": [
       "      user_id    name  age    city subscription_type     distance   duration  \\\n",
       "0           1    Кира   22  Тюмень             ultra  4409.919140  25.599769   \n",
       "1           1    Кира   22  Тюмень             ultra  2617.592153  15.816871   \n",
       "2           1    Кира   22  Тюмень             ultra   754.159807   6.232113   \n",
       "3           1    Кира   22  Тюмень             ultra  2694.783254  18.511000   \n",
       "4           1    Кира   22  Тюмень             ultra  4028.687306  26.265803   \n",
       "...       ...     ...  ...     ...               ...          ...        ...   \n",
       "6495      699  Оксана   22  Москва             ultra  3973.046497  24.671163   \n",
       "6496      699  Оксана   22  Москва             ultra  3288.702563  15.892886   \n",
       "6497      699  Оксана   22  Москва             ultra  3076.159348  14.389525   \n",
       "6498      699  Оксана   22  Москва             ultra  4707.845501  15.839579   \n",
       "6499      699  Оксана   22  Москва             ultra  3202.890770  25.217345   \n",
       "\n",
       "           date  month  minute_price  start_ride_price  subscription_fee  \n",
       "0    2021-01-01      1             6                 0               199  \n",
       "1    2021-01-18      1             6                 0               199  \n",
       "2    2021-04-20      4             6                 0               199  \n",
       "3    2021-08-11      8             6                 0               199  \n",
       "4    2021-08-28      8             6                 0               199  \n",
       "...         ...    ...           ...               ...               ...  \n",
       "6495 2021-08-29      8             6                 0               199  \n",
       "6496 2021-09-12      9             6                 0               199  \n",
       "6497 2021-09-26      9             6                 0               199  \n",
       "6498 2021-10-17     10             6                 0               199  \n",
       "6499 2021-12-03     12             6                 0               199  \n",
       "\n",
       "[6500 rows x 12 columns]"
      ]
     },
     "execution_count": 46,
     "metadata": {},
     "output_type": "execute_result"
    }
   ],
   "source": [
    "users_ultra = data[data['subscription_type'] == 'ultra'] #users.query('subscription_type == ultra')\n",
    "users_ultra"
   ]
  },
  {
   "cell_type": "code",
   "execution_count": 47,
   "id": "b9060770",
   "metadata": {
    "scrolled": false
   },
   "outputs": [
    {
     "data": {
      "image/png": "[encoded data removed]",
      "text/plain": [
       "<Figure size 432x288 with 1 Axes>"
      ]
     },
     "metadata": {
      "needs_background": "light"
     },
     "output_type": "display_data"
    }
   ],
   "source": [
    "no_sub = users_free['duration']\n",
    "yes_sub =  users_ultra['duration']\n",
    "users_free['duration'].hist(bins = 60,alpha = 0.95,color = 'k')\n",
    "users_ultra['duration'].hist(bins = 60,alpha = 0.95, color = 'yellow')\n",
    "plt.xlabel('Время поездки')\n",
    "plt.ylabel('Количество поездок')\n",
    "plt.title('Гистограмма с распределением количества поездок и их временем')\n",
    "plt.legend(['Без подписки', 'С подпиской'])\n",
    "plt.show()"
   ]
  },
  {
   "cell_type": "code",
   "execution_count": 48,
   "id": "d6165fef",
   "metadata": {},
   "outputs": [
    {
     "data": {
      "text/plain": [
       "count    11568.000000\n",
       "mean        17.390909\n",
       "std          6.326803\n",
       "min          0.500000\n",
       "25%         12.958437\n",
       "50%         17.326890\n",
       "75%         21.594071\n",
       "max         34.948498\n",
       "Name: duration, dtype: float64"
      ]
     },
     "execution_count": 48,
     "metadata": {},
     "output_type": "execute_result"
    }
   ],
   "source": [
    "users_free['duration'].describe()"
   ]
  },
  {
   "cell_type": "code",
   "execution_count": 49,
   "id": "5d1a45de",
   "metadata": {},
   "outputs": [
    {
     "data": {
      "text/plain": [
       "count    6500.000000\n",
       "mean       18.541985\n",
       "std         5.572048\n",
       "min         3.760353\n",
       "25%        14.524654\n",
       "50%        18.178153\n",
       "75%        21.884129\n",
       "max        40.823963\n",
       "Name: duration, dtype: float64"
      ]
     },
     "execution_count": 49,
     "metadata": {},
     "output_type": "execute_result"
    }
   ],
   "source": [
    "users_ultra['duration'].describe()"
   ]
  },
  {
   "cell_type": "markdown",
   "id": "0f6a7968",
   "metadata": {},
   "source": [
    "**На Гистограмме визуализируется**:\n",
    "    \n",
    "    Нормальное распределение\n",
    "    \n",
    "    Для обеих категорий пользователей среднее время пользования самокатом составило 17-18 мин\n",
    "    \n",
    "    Минимальное время пользования пользователей с подпиской составило 3.76 минуты\n",
    "    \n",
    "    У пользователей без подписки визуализируется пик поездок с продолжительностью 0.5мин \n",
    "    \n",
    "    Максимальное время пользования для пользователей с подпиской 40.8 мин, для пользователей без - 34.9"
   ]
  },
  {
   "cell_type": "code",
   "execution_count": 50,
   "id": "81a1b66c",
   "metadata": {
    "scrolled": true
   },
   "outputs": [
    {
     "data": {
      "image/png": "[encoded data removed]",
      "text/plain": [
       "<Figure size 432x288 with 1 Axes>"
      ]
     },
     "metadata": {
      "needs_background": "light"
     },
     "output_type": "display_data"
    }
   ],
   "source": [
    "no_sub = users_free['distance']\n",
    "yes_sub =  users_ultra['distance']\n",
    "users_free['distance'].hist(bins = 100,alpha = 0.75,color = 'b')\n",
    "users_ultra['distance'].hist(bins = 100,alpha = 0.75, color = 'r')\n",
    "plt.xlabel('Дистанция поездки')\n",
    "plt.ylabel('Частота')\n",
    "plt.title('Гистограмма с распределением частоты поездок и дистанции')\n",
    "plt.legend(['Без подписки', 'С подпиской'])\n",
    "plt.show()"
   ]
  },
  {
   "cell_type": "markdown",
   "id": "36052659",
   "metadata": {},
   "source": [
    "<div class=\"alert alert-block alert-success\">\n",
    "<b>✅Комментарий ревьюера 2:</b> Отличные и наглядные визуализации!  </div>"
   ]
  },
  {
   "cell_type": "code",
   "execution_count": 51,
   "id": "742fbffe",
   "metadata": {},
   "outputs": [
    {
     "data": {
      "text/plain": [
       "count    6500.000000\n",
       "mean     3115.445388\n",
       "std       836.895330\n",
       "min       244.210438\n",
       "25%      2785.444017\n",
       "50%      3148.637229\n",
       "75%      3560.574425\n",
       "max      5699.769662\n",
       "Name: distance, dtype: float64"
      ]
     },
     "execution_count": 51,
     "metadata": {},
     "output_type": "execute_result"
    }
   ],
   "source": [
    "users_ultra['distance'].describe()"
   ]
  },
  {
   "cell_type": "code",
   "execution_count": 52,
   "id": "6b34890e",
   "metadata": {},
   "outputs": [
    {
     "data": {
      "text/plain": [
       "count    11568.000000\n",
       "mean      3045.495282\n",
       "std       1246.173806\n",
       "min          0.855683\n",
       "25%       2366.562689\n",
       "50%       3114.648465\n",
       "75%       3905.697894\n",
       "max       7211.007745\n",
       "Name: distance, dtype: float64"
      ]
     },
     "execution_count": 52,
     "metadata": {},
     "output_type": "execute_result"
    }
   ],
   "source": [
    "users_free['distance'].describe()"
   ]
  },
  {
   "cell_type": "markdown",
   "id": "2bef9453",
   "metadata": {},
   "source": [
    "**На Гистограмме визуализируется**:\n",
    "    \n",
    "    Двух пиковое распределение\n",
    "    \n",
    "    Наиболее часто пользователи без подписки пользовались сервисом,чтобы проехать расстояние в 2000-4000м\n",
    "    \n",
    "    Наиболее часто пользователи с подпиской пользовались сервисом,чтобы проехать расстояние в 2500-3500м\n",
    "    \n",
    "    Минимальное расстояние для пользователей с подпиской составило 244м, без подписки - менее 1м\n",
    "    \n",
    "    Большое количество пользователей обеих групп часто использует сервис для поездки на расстояние до  1300м\n",
    "    \n",
    "    Максимальное преодоленное расстояние для пользователей с подпиской - 5700м, без подписки - 7211м"
   ]
  },
  {
   "cell_type": "markdown",
   "id": "baeffdec",
   "metadata": {},
   "source": [
    "#### Шаг 5. Подсчёт выручки"
   ]
  },
  {
   "cell_type": "code",
   "execution_count": 53,
   "id": "19ff17a8",
   "metadata": {},
   "outputs": [],
   "source": [
    "data['duration'] = np.ceil(data['duration']) "
   ]
  },
  {
   "cell_type": "code",
   "execution_count": 54,
   "id": "1f433446",
   "metadata": {},
   "outputs": [],
   "source": [
    "data_agg = data.groupby(['user_id','month']).agg(\n",
    "    {\n",
    "    'distance':'sum','duration':['sum', 'count'],\n",
    "    'subscription_type':'first', 'minute_price':'first',\n",
    "    'start_ride_price':'first', 'subscription_fee':'first'\n",
    "    }\n",
    ")\n",
    "data_agg.columns = data_agg.columns.map('_'.join).to_series()\n",
    "data_agg = data_agg.reset_index()"
   ]
  },
  {
   "cell_type": "code",
   "execution_count": 55,
   "id": "1c8f2561",
   "metadata": {
    "scrolled": true
   },
   "outputs": [
    {
     "data": {
      "text/html": [
       "<div>\n",
       "<style scoped>\n",
       "    .dataframe tbody tr th:only-of-type {\n",
       "        vertical-align: middle;\n",
       "    }\n",
       "\n",
       "    .dataframe tbody tr th {\n",
       "        vertical-align: top;\n",
       "    }\n",
       "\n",
       "    .dataframe thead th {\n",
       "        text-align: right;\n",
       "    }\n",
       "</style>\n",
       "<table border=\"1\" class=\"dataframe\">\n",
       "  <thead>\n",
       "    <tr style=\"text-align: right;\">\n",
       "      <th></th>\n",
       "      <th>user_id</th>\n",
       "      <th>month</th>\n",
       "      <th>distance_sum</th>\n",
       "      <th>duration_sum</th>\n",
       "      <th>trips_number_per_month</th>\n",
       "      <th>subscription_type</th>\n",
       "      <th>minute_price</th>\n",
       "      <th>start_ride_price</th>\n",
       "      <th>subscription_fee</th>\n",
       "    </tr>\n",
       "  </thead>\n",
       "  <tbody>\n",
       "    <tr>\n",
       "      <th>0</th>\n",
       "      <td>1</td>\n",
       "      <td>1</td>\n",
       "      <td>7027.511294</td>\n",
       "      <td>42.0</td>\n",
       "      <td>2</td>\n",
       "      <td>ultra</td>\n",
       "      <td>6</td>\n",
       "      <td>0</td>\n",
       "      <td>199</td>\n",
       "    </tr>\n",
       "    <tr>\n",
       "      <th>1</th>\n",
       "      <td>1</td>\n",
       "      <td>4</td>\n",
       "      <td>754.159807</td>\n",
       "      <td>7.0</td>\n",
       "      <td>1</td>\n",
       "      <td>ultra</td>\n",
       "      <td>6</td>\n",
       "      <td>0</td>\n",
       "      <td>199</td>\n",
       "    </tr>\n",
       "    <tr>\n",
       "      <th>2</th>\n",
       "      <td>1</td>\n",
       "      <td>8</td>\n",
       "      <td>6723.470560</td>\n",
       "      <td>46.0</td>\n",
       "      <td>2</td>\n",
       "      <td>ultra</td>\n",
       "      <td>6</td>\n",
       "      <td>0</td>\n",
       "      <td>199</td>\n",
       "    </tr>\n",
       "    <tr>\n",
       "      <th>3</th>\n",
       "      <td>1</td>\n",
       "      <td>10</td>\n",
       "      <td>5809.911100</td>\n",
       "      <td>32.0</td>\n",
       "      <td>2</td>\n",
       "      <td>ultra</td>\n",
       "      <td>6</td>\n",
       "      <td>0</td>\n",
       "      <td>199</td>\n",
       "    </tr>\n",
       "    <tr>\n",
       "      <th>4</th>\n",
       "      <td>1</td>\n",
       "      <td>11</td>\n",
       "      <td>7003.499363</td>\n",
       "      <td>56.0</td>\n",
       "      <td>3</td>\n",
       "      <td>ultra</td>\n",
       "      <td>6</td>\n",
       "      <td>0</td>\n",
       "      <td>199</td>\n",
       "    </tr>\n",
       "    <tr>\n",
       "      <th>...</th>\n",
       "      <td>...</td>\n",
       "      <td>...</td>\n",
       "      <td>...</td>\n",
       "      <td>...</td>\n",
       "      <td>...</td>\n",
       "      <td>...</td>\n",
       "      <td>...</td>\n",
       "      <td>...</td>\n",
       "      <td>...</td>\n",
       "    </tr>\n",
       "    <tr>\n",
       "      <th>11326</th>\n",
       "      <td>1534</td>\n",
       "      <td>6</td>\n",
       "      <td>3409.468534</td>\n",
       "      <td>26.0</td>\n",
       "      <td>2</td>\n",
       "      <td>free</td>\n",
       "      <td>8</td>\n",
       "      <td>50</td>\n",
       "      <td>0</td>\n",
       "    </tr>\n",
       "    <tr>\n",
       "      <th>11327</th>\n",
       "      <td>1534</td>\n",
       "      <td>8</td>\n",
       "      <td>7622.453034</td>\n",
       "      <td>48.0</td>\n",
       "      <td>2</td>\n",
       "      <td>free</td>\n",
       "      <td>8</td>\n",
       "      <td>50</td>\n",
       "      <td>0</td>\n",
       "    </tr>\n",
       "    <tr>\n",
       "      <th>11328</th>\n",
       "      <td>1534</td>\n",
       "      <td>9</td>\n",
       "      <td>4928.173852</td>\n",
       "      <td>23.0</td>\n",
       "      <td>1</td>\n",
       "      <td>free</td>\n",
       "      <td>8</td>\n",
       "      <td>50</td>\n",
       "      <td>0</td>\n",
       "    </tr>\n",
       "    <tr>\n",
       "      <th>11329</th>\n",
       "      <td>1534</td>\n",
       "      <td>11</td>\n",
       "      <td>13350.015305</td>\n",
       "      <td>78.0</td>\n",
       "      <td>4</td>\n",
       "      <td>free</td>\n",
       "      <td>8</td>\n",
       "      <td>50</td>\n",
       "      <td>0</td>\n",
       "    </tr>\n",
       "    <tr>\n",
       "      <th>11330</th>\n",
       "      <td>1534</td>\n",
       "      <td>12</td>\n",
       "      <td>2371.711192</td>\n",
       "      <td>16.0</td>\n",
       "      <td>1</td>\n",
       "      <td>free</td>\n",
       "      <td>8</td>\n",
       "      <td>50</td>\n",
       "      <td>0</td>\n",
       "    </tr>\n",
       "  </tbody>\n",
       "</table>\n",
       "<p>11331 rows × 9 columns</p>\n",
       "</div>"
      ],
      "text/plain": [
       "       user_id  month  distance_sum  duration_sum  trips_number_per_month  \\\n",
       "0            1      1   7027.511294          42.0                       2   \n",
       "1            1      4    754.159807           7.0                       1   \n",
       "2            1      8   6723.470560          46.0                       2   \n",
       "3            1     10   5809.911100          32.0                       2   \n",
       "4            1     11   7003.499363          56.0                       3   \n",
       "...        ...    ...           ...           ...                     ...   \n",
       "11326     1534      6   3409.468534          26.0                       2   \n",
       "11327     1534      8   7622.453034          48.0                       2   \n",
       "11328     1534      9   4928.173852          23.0                       1   \n",
       "11329     1534     11  13350.015305          78.0                       4   \n",
       "11330     1534     12   2371.711192          16.0                       1   \n",
       "\n",
       "      subscription_type  minute_price  start_ride_price  subscription_fee  \n",
       "0                 ultra             6                 0               199  \n",
       "1                 ultra             6                 0               199  \n",
       "2                 ultra             6                 0               199  \n",
       "3                 ultra             6                 0               199  \n",
       "4                 ultra             6                 0               199  \n",
       "...                 ...           ...               ...               ...  \n",
       "11326              free             8                50                 0  \n",
       "11327              free             8                50                 0  \n",
       "11328              free             8                50                 0  \n",
       "11329              free             8                50                 0  \n",
       "11330              free             8                50                 0  \n",
       "\n",
       "[11331 rows x 9 columns]"
      ]
     },
     "execution_count": 55,
     "metadata": {},
     "output_type": "execute_result"
    }
   ],
   "source": [
    "data_agg = data_agg.rename(columns ={'duration_count':'trips_number_per_month',\n",
    "                                     'minute_price_first':'minute_price',\n",
    "                                     'start_ride_price_first':'start_ride_price',\n",
    "                                     'subscription_fee_first':'subscription_fee',\n",
    "                                     'subscription_type_first': 'subscription_type'}\n",
    "                          )\n",
    "data_agg\n",
    "#суммарная дистанция, время и количетсво поездок по каждому номеру месяца"
   ]
  },
  {
   "cell_type": "code",
   "execution_count": 56,
   "id": "2d880684",
   "metadata": {},
   "outputs": [],
   "source": [
    "data_agg['month_income'] = data_agg['start_ride_price'] * data_agg['trips_number_per_month'] + data_agg['minute_price'] * data_agg['duration_sum'] + data_agg['subscription_fee']"
   ]
  },
  {
   "cell_type": "markdown",
   "id": "f65853c6",
   "metadata": {},
   "source": [
    "Датафрейм с агрегированными данными,в столбце 'month_income' информация о помесячной выручке"
   ]
  },
  {
   "cell_type": "code",
   "execution_count": 57,
   "id": "f9ed9388",
   "metadata": {},
   "outputs": [
    {
     "data": {
      "text/html": [
       "<div>\n",
       "<style scoped>\n",
       "    .dataframe tbody tr th:only-of-type {\n",
       "        vertical-align: middle;\n",
       "    }\n",
       "\n",
       "    .dataframe tbody tr th {\n",
       "        vertical-align: top;\n",
       "    }\n",
       "\n",
       "    .dataframe thead th {\n",
       "        text-align: right;\n",
       "    }\n",
       "</style>\n",
       "<table border=\"1\" class=\"dataframe\">\n",
       "  <thead>\n",
       "    <tr style=\"text-align: right;\">\n",
       "      <th></th>\n",
       "      <th>user_id</th>\n",
       "      <th>month</th>\n",
       "      <th>distance_sum</th>\n",
       "      <th>duration_sum</th>\n",
       "      <th>trips_number_per_month</th>\n",
       "      <th>subscription_type</th>\n",
       "      <th>minute_price</th>\n",
       "      <th>start_ride_price</th>\n",
       "      <th>subscription_fee</th>\n",
       "      <th>month_income</th>\n",
       "    </tr>\n",
       "  </thead>\n",
       "  <tbody>\n",
       "    <tr>\n",
       "      <th>0</th>\n",
       "      <td>1</td>\n",
       "      <td>1</td>\n",
       "      <td>7027.511294</td>\n",
       "      <td>42.0</td>\n",
       "      <td>2</td>\n",
       "      <td>ultra</td>\n",
       "      <td>6</td>\n",
       "      <td>0</td>\n",
       "      <td>199</td>\n",
       "      <td>451.0</td>\n",
       "    </tr>\n",
       "    <tr>\n",
       "      <th>1</th>\n",
       "      <td>1</td>\n",
       "      <td>4</td>\n",
       "      <td>754.159807</td>\n",
       "      <td>7.0</td>\n",
       "      <td>1</td>\n",
       "      <td>ultra</td>\n",
       "      <td>6</td>\n",
       "      <td>0</td>\n",
       "      <td>199</td>\n",
       "      <td>241.0</td>\n",
       "    </tr>\n",
       "    <tr>\n",
       "      <th>2</th>\n",
       "      <td>1</td>\n",
       "      <td>8</td>\n",
       "      <td>6723.470560</td>\n",
       "      <td>46.0</td>\n",
       "      <td>2</td>\n",
       "      <td>ultra</td>\n",
       "      <td>6</td>\n",
       "      <td>0</td>\n",
       "      <td>199</td>\n",
       "      <td>475.0</td>\n",
       "    </tr>\n",
       "    <tr>\n",
       "      <th>3</th>\n",
       "      <td>1</td>\n",
       "      <td>10</td>\n",
       "      <td>5809.911100</td>\n",
       "      <td>32.0</td>\n",
       "      <td>2</td>\n",
       "      <td>ultra</td>\n",
       "      <td>6</td>\n",
       "      <td>0</td>\n",
       "      <td>199</td>\n",
       "      <td>391.0</td>\n",
       "    </tr>\n",
       "    <tr>\n",
       "      <th>4</th>\n",
       "      <td>1</td>\n",
       "      <td>11</td>\n",
       "      <td>7003.499363</td>\n",
       "      <td>56.0</td>\n",
       "      <td>3</td>\n",
       "      <td>ultra</td>\n",
       "      <td>6</td>\n",
       "      <td>0</td>\n",
       "      <td>199</td>\n",
       "      <td>535.0</td>\n",
       "    </tr>\n",
       "    <tr>\n",
       "      <th>...</th>\n",
       "      <td>...</td>\n",
       "      <td>...</td>\n",
       "      <td>...</td>\n",
       "      <td>...</td>\n",
       "      <td>...</td>\n",
       "      <td>...</td>\n",
       "      <td>...</td>\n",
       "      <td>...</td>\n",
       "      <td>...</td>\n",
       "      <td>...</td>\n",
       "    </tr>\n",
       "    <tr>\n",
       "      <th>11326</th>\n",
       "      <td>1534</td>\n",
       "      <td>6</td>\n",
       "      <td>3409.468534</td>\n",
       "      <td>26.0</td>\n",
       "      <td>2</td>\n",
       "      <td>free</td>\n",
       "      <td>8</td>\n",
       "      <td>50</td>\n",
       "      <td>0</td>\n",
       "      <td>308.0</td>\n",
       "    </tr>\n",
       "    <tr>\n",
       "      <th>11327</th>\n",
       "      <td>1534</td>\n",
       "      <td>8</td>\n",
       "      <td>7622.453034</td>\n",
       "      <td>48.0</td>\n",
       "      <td>2</td>\n",
       "      <td>free</td>\n",
       "      <td>8</td>\n",
       "      <td>50</td>\n",
       "      <td>0</td>\n",
       "      <td>484.0</td>\n",
       "    </tr>\n",
       "    <tr>\n",
       "      <th>11328</th>\n",
       "      <td>1534</td>\n",
       "      <td>9</td>\n",
       "      <td>4928.173852</td>\n",
       "      <td>23.0</td>\n",
       "      <td>1</td>\n",
       "      <td>free</td>\n",
       "      <td>8</td>\n",
       "      <td>50</td>\n",
       "      <td>0</td>\n",
       "      <td>234.0</td>\n",
       "    </tr>\n",
       "    <tr>\n",
       "      <th>11329</th>\n",
       "      <td>1534</td>\n",
       "      <td>11</td>\n",
       "      <td>13350.015305</td>\n",
       "      <td>78.0</td>\n",
       "      <td>4</td>\n",
       "      <td>free</td>\n",
       "      <td>8</td>\n",
       "      <td>50</td>\n",
       "      <td>0</td>\n",
       "      <td>824.0</td>\n",
       "    </tr>\n",
       "    <tr>\n",
       "      <th>11330</th>\n",
       "      <td>1534</td>\n",
       "      <td>12</td>\n",
       "      <td>2371.711192</td>\n",
       "      <td>16.0</td>\n",
       "      <td>1</td>\n",
       "      <td>free</td>\n",
       "      <td>8</td>\n",
       "      <td>50</td>\n",
       "      <td>0</td>\n",
       "      <td>178.0</td>\n",
       "    </tr>\n",
       "  </tbody>\n",
       "</table>\n",
       "<p>11331 rows × 10 columns</p>\n",
       "</div>"
      ],
      "text/plain": [
       "       user_id  month  distance_sum  duration_sum  trips_number_per_month  \\\n",
       "0            1      1   7027.511294          42.0                       2   \n",
       "1            1      4    754.159807           7.0                       1   \n",
       "2            1      8   6723.470560          46.0                       2   \n",
       "3            1     10   5809.911100          32.0                       2   \n",
       "4            1     11   7003.499363          56.0                       3   \n",
       "...        ...    ...           ...           ...                     ...   \n",
       "11326     1534      6   3409.468534          26.0                       2   \n",
       "11327     1534      8   7622.453034          48.0                       2   \n",
       "11328     1534      9   4928.173852          23.0                       1   \n",
       "11329     1534     11  13350.015305          78.0                       4   \n",
       "11330     1534     12   2371.711192          16.0                       1   \n",
       "\n",
       "      subscription_type  minute_price  start_ride_price  subscription_fee  \\\n",
       "0                 ultra             6                 0               199   \n",
       "1                 ultra             6                 0               199   \n",
       "2                 ultra             6                 0               199   \n",
       "3                 ultra             6                 0               199   \n",
       "4                 ultra             6                 0               199   \n",
       "...                 ...           ...               ...               ...   \n",
       "11326              free             8                50                 0   \n",
       "11327              free             8                50                 0   \n",
       "11328              free             8                50                 0   \n",
       "11329              free             8                50                 0   \n",
       "11330              free             8                50                 0   \n",
       "\n",
       "       month_income  \n",
       "0             451.0  \n",
       "1             241.0  \n",
       "2             475.0  \n",
       "3             391.0  \n",
       "4             535.0  \n",
       "...             ...  \n",
       "11326         308.0  \n",
       "11327         484.0  \n",
       "11328         234.0  \n",
       "11329         824.0  \n",
       "11330         178.0  \n",
       "\n",
       "[11331 rows x 10 columns]"
      ]
     },
     "execution_count": 57,
     "metadata": {},
     "output_type": "execute_result"
    }
   ],
   "source": [
    "data_agg"
   ]
  },
  {
   "cell_type": "markdown",
   "id": "d63989a9",
   "metadata": {},
   "source": [
    "#### Шаг 6. Проверка гипотез"
   ]
  },
  {
   "cell_type": "markdown",
   "id": "3f01ff95",
   "metadata": {},
   "source": [
    "6.1. Гипотеза: тратят ли пользователи с подпиской больше времени на поездки\n",
    "    \n",
    "    H0:μ1 = μ2 Время пользования самокатом у пользователей с подпиской равна времени пользования сервисиом от пользователей без подписки\n",
    "\n",
    "    H1:μ1 > μ2 Пользователи с подпиской тратят больше времени на поездки чем пользователи без подписки "
   ]
  },
  {
   "cell_type": "code",
   "execution_count": 58,
   "id": "0fc8b8f5",
   "metadata": {},
   "outputs": [
    {
     "data": {
      "text/plain": [
       "subscription_type\n",
       "free     206963.0\n",
       "ultra    123745.0\n",
       "Name: duration, dtype: float64"
      ]
     },
     "execution_count": 58,
     "metadata": {},
     "output_type": "execute_result"
    }
   ],
   "source": [
    "data.groupby('subscription_type')['duration'].sum() #время,которое 699 пользователя с подпиской и 835 без подписки проехали за весь временной период"
   ]
  },
  {
   "cell_type": "code",
   "execution_count": 59,
   "id": "48a0c40c",
   "metadata": {},
   "outputs": [
    {
     "data": {
      "text/plain": [
       "247.85988023952095"
      ]
     },
     "execution_count": 59,
     "metadata": {},
     "output_type": "execute_result"
    }
   ],
   "source": [
    "mean_time_free = data.groupby('subscription_type')['duration'].sum()[0] / 835\n",
    "mean_time_free"
   ]
  },
  {
   "cell_type": "code",
   "execution_count": 60,
   "id": "b6fb317f",
   "metadata": {},
   "outputs": [
    {
     "data": {
      "text/plain": [
       "177.03147353361945"
      ]
     },
     "execution_count": 60,
     "metadata": {},
     "output_type": "execute_result"
    }
   ],
   "source": [
    "mean_time_ultra = data.groupby('subscription_type')['duration'].sum()[1] / 699\n",
    "mean_time_ultra"
   ]
  },
  {
   "cell_type": "code",
   "execution_count": 61,
   "id": "113cc3a2",
   "metadata": {},
   "outputs": [
    {
     "name": "stdout",
     "output_type": "stream",
     "text": [
      "p-значение: 2.4959453720736625e-34\n",
      "Отвергаем нулевую гипотезу, время значительно отличается\n"
     ]
    }
   ],
   "source": [
    "time_free = data.loc[data['subscription_type'] == 'free','duration']\n",
    "time_ultra = data.loc[data['subscription_type'] == 'ultra','duration']\n",
    "\n",
    "alpha = 0.05 # уровень статистической значимости\n",
    "\n",
    "results = st.ttest_ind(\n",
    "    time_ultra, \n",
    "    time_free,\n",
    "    alternative='greater')\n",
    "\n",
    "print('p-значение:', results.pvalue)\n",
    "\n",
    "if (results.pvalue < alpha):\n",
    "    print('Отвергаем нулевую гипотезу, время значительно отличается')\n",
    "else:\n",
    "    print('Не отвергаем нулевую гипотезу')"
   ]
  },
  {
   "cell_type": "markdown",
   "id": "28fc11ac",
   "metadata": {},
   "source": [
    "Гипотеза о том, что пользователи с подпиской могут быть «выгоднее» для компании,так как дольше используют сервис- неверна,потому что среднее количество минут пользования самокатом у пользователей c подпиской составляет 177 мин,\n",
    "а у пользователя без подписки- 247 мин"
   ]
  },
  {
   "cell_type": "markdown",
   "id": "4d697630",
   "metadata": {},
   "source": [
    "6.2. Гипотеза: расстояние, которое проезжают пользователи с подпиской за одну поездку, не превышает 3130 метров\n",
    "    \n",
    "    H0:μ1 = μ2 Расстояние, которое проезжают пользователи с подпиской равно 3130м\n",
    "\n",
    "    H1:μ1 > μ2 Расстояние, которое проезжают пользователи с подпиской больше 3130м"
   ]
  },
  {
   "cell_type": "code",
   "execution_count": 62,
   "id": "d8065019",
   "metadata": {
    "scrolled": true
   },
   "outputs": [
    {
     "name": "stdout",
     "output_type": "stream",
     "text": [
      "p-значение: 0.9195368847849785\n",
      "Не получилось отвергнуть нулевую гипотезу,отличается незначительно\n"
     ]
    }
   ],
   "source": [
    "interested_value = 3130 #расстояние, которое проезжают пользователи с подпиской за одну поездку\n",
    "alpha = 0.05 # уровень статистической значимости\n",
    "distance_ultra = users_ultra['distance']\n",
    "\n",
    "results = st.ttest_1samp(\n",
    "    distance_ultra, \n",
    "    interested_value,alternative='greater')\n",
    "\n",
    "print('p-значение:', results.pvalue)\n",
    "\n",
    "if results.pvalue < alpha:\n",
    "    print('Отвергаем нулевую гипотезу,среднее расстояние значительно отличается от 3130м')\n",
    "else:\n",
    "    print('Не получилось отвергнуть нулевую гипотезу,отличается незначительно')"
   ]
  },
  {
   "cell_type": "code",
   "execution_count": 63,
   "id": "4046ff09",
   "metadata": {},
   "outputs": [
    {
     "data": {
      "text/plain": [
       "3115.4453880370247"
      ]
     },
     "execution_count": 63,
     "metadata": {},
     "output_type": "execute_result"
    }
   ],
   "source": [
    "users_ultra['distance'].mean() #средняя дистанция у пользователей с подпиской"
   ]
  },
  {
   "cell_type": "markdown",
   "id": "7bcf5940",
   "metadata": {},
   "source": [
    "Не получилось отвергнуть гипотезу, среднее расстояние пользователей с подпиской не превышает 3130 метров,а конкретно равняется 3115м "
   ]
  },
  {
   "cell_type": "markdown",
   "id": "360b717c",
   "metadata": {},
   "source": [
    "6.3. Гипотеза: будет ли помесячная выручка от пользователей с подпиской по месяцам выше, чем выручка от пользователей без подписки.\n",
    "    \n",
    "    H0:μ1 = μ2 Выручка от пользователей с подпиской равна выручке от пользователей без подписки\n",
    "\n",
    "    H1:μ1 > μ2 Выручка от пользователей с подпиской больше выручки от пользователей без подписки"
   ]
  },
  {
   "cell_type": "code",
   "execution_count": 64,
   "id": "d331f8ef",
   "metadata": {},
   "outputs": [
    {
     "name": "stdout",
     "output_type": "stream",
     "text": [
      "p-значение: 1.8850394384715216e-31\n",
      "Отвергаем нулевую гипотезу,выручка от пользователей с подпиской значительно больше,чем от пользователей без нее\n"
     ]
    }
   ],
   "source": [
    "free_price = data_agg.loc[data_agg['subscription_type'] == 'free','month_income']\n",
    "ultra_price = data_agg.loc[data_agg['subscription_type'] == 'ultra','month_income']\n",
    "\n",
    "alpha = 0.05\n",
    "\n",
    "results = st.ttest_ind(ultra_price,free_price,alternative='greater')\n",
    "\n",
    "print('p-значение:', results.pvalue)\n",
    "\n",
    "if results.pvalue < alpha:\n",
    "    print('Отвергаем нулевую гипотезу,выручка от пользователей с подпиской значительно больше,чем от пользователей без нее')\n",
    "else:\n",
    "    print('Не получилось отвергнуть нулевую гипотезу')"
   ]
  },
  {
   "cell_type": "code",
   "execution_count": 65,
   "id": "198b7fd6",
   "metadata": {
    "scrolled": true
   },
   "outputs": [
    {
     "data": {
      "text/plain": [
       "subscription_type\n",
       "free     328.641365\n",
       "ultra    362.792191\n",
       "Name: month_income, dtype: float64"
      ]
     },
     "execution_count": 65,
     "metadata": {},
     "output_type": "execute_result"
    }
   ],
   "source": [
    "data_agg.groupby('subscription_type')['month_income'].mean() #средняя выручка пользователей без подписки и с подпиской"
   ]
  },
  {
   "cell_type": "markdown",
   "id": "c6d8d869",
   "metadata": {},
   "source": [
    "Средняя сумма выручки за месяц за пользователя с подпиской 362р,без подписки - 328р."
   ]
  },
  {
   "cell_type": "markdown",
   "id": "ca3c58a8",
   "metadata": {},
   "source": [
    "6.4. В данной задаче используется: \n",
    "    Гипотеза о равенстве средних для зависимых (парных) выборок\n",
    "    \n",
    "    Гипотезы в таком случае будут сформулированы так:\n",
    "            \n",
    "        H0:μ1=μ2\n",
    "            \n",
    "        H1:μ1>μ2 - было больше обращений,стало меньше\n",
    "            \n",
    "        где μ1 и μ2 — средние количество обращений в поддержку\n",
    "        \n",
    "    Чтобы проверить гипотезу о равенстве среднего генеральной совокупности для зависимых (парных) выборок в Python,\n",
    "    \n",
    "    применяется метод scipy.stats.ttest_rel()\n",
    "    \n",
    "    alternative='greater', проверяется левосторонняя альтернативная гипотеза о том, что истинное среднее меньше"
   ]
  },
  {
   "cell_type": "markdown",
   "id": "92af0785",
   "metadata": {},
   "source": [
    "#### Шаг 7. Распределения"
   ]
  },
  {
   "cell_type": "markdown",
   "id": "80017e24",
   "metadata": {},
   "source": [
    "<div style=\"border:solid Chocolate 2px; padding: 40px\">  \n",
    "    Заключительный вывод:\n",
    "        \n",
    "    Было прочитано 3 датафрейма, выполнена предобработка данных с проверкой на явные и неявные дубликаты, пропущенные значения.\n",
    "    \n",
    "    Количество некорректных данных в таблице небольшое (31строка с явными дубликатами и 95 строк с очень низкой продолжительностью заездов пользователей без подписки). Низкая продолжительность может быть связана с ошибками загруженных данных,либо с тем что есть проблема с конкретным самокатом и пользователь очень быстро закончил сессию\n",
    "\n",
    "    Проведен исследовательский анализ данных с построением необходимых графиков и заключением\n",
    "    \n",
    "    Проведено объединение полученных датафреймов с построением гистограмм с распределением количества поездок и их временем;частотой поездок и дистанцией с оценкой и описанием данных\n",
    "    \n",
    "    Процент пользователей без подписки 54.4%, с подпиской - 45.6%.\n",
    "    \n",
    "    Количество минут пользования самокатом у пользователей c подпиской составляет 177 мин, а у пользователя без подписки- 247 мин. Тот факт, что пользователи без подписки больше времени проводят в поездке,а сервис получает с них меньше выручки, свидетельствует о том, что,возможно,стоит рассмореть вариант изменения условий оферты в пользу подорожания пользования самокатом для клиентов без платной подписки.\n",
    "    \n",
    "    В среднем пользователи с подпиской проезжают 3115м, что очень близко к 3130м, что оптимально с точки зрения износа самоката\n",
    "  \n",
    "    За пользователя с подпиской компания получает в среднем в месяц больше денег (на 34рубля больше),чем за пользователя без подписки. Возможно,стоит провести маркетинговую акцию,целью которой будет повысить процент пользователей,приобретающих платную подписку\n"
   ]
  }
 ],
 "metadata": {
  "ExecuteTimeLog": [
   {
    "duration": 51,
    "start_time": "2024-01-22T10:51:31.833Z"
   },
   {
    "duration": 404,
    "start_time": "2024-01-22T10:52:19.586Z"
   },
   {
    "duration": 103,
    "start_time": "2024-01-22T10:52:21.330Z"
   },
   {
    "duration": 28,
    "start_time": "2024-01-22T10:53:57.860Z"
   },
   {
    "duration": 91,
    "start_time": "2024-01-22T10:54:04.907Z"
   },
   {
    "duration": 247,
    "start_time": "2024-01-22T10:54:11.879Z"
   },
   {
    "duration": 7,
    "start_time": "2024-01-22T10:54:13.931Z"
   },
   {
    "duration": 12,
    "start_time": "2024-01-22T10:54:41.742Z"
   },
   {
    "duration": 11,
    "start_time": "2024-01-22T10:54:43.023Z"
   },
   {
    "duration": 6,
    "start_time": "2024-01-22T10:54:44.556Z"
   },
   {
    "duration": 2,
    "start_time": "2024-01-22T10:56:04.905Z"
   },
   {
    "duration": 70,
    "start_time": "2024-01-22T10:56:06.435Z"
   },
   {
    "duration": 8,
    "start_time": "2024-01-22T10:56:08.567Z"
   },
   {
    "duration": 69,
    "start_time": "2024-01-22T10:57:10.969Z"
   },
   {
    "duration": 9,
    "start_time": "2024-01-22T10:57:11.737Z"
   },
   {
    "duration": 11,
    "start_time": "2024-01-22T10:57:49.230Z"
   },
   {
    "duration": 11,
    "start_time": "2024-01-22T10:58:19.089Z"
   },
   {
    "duration": 7,
    "start_time": "2024-01-22T10:58:44.692Z"
   },
   {
    "duration": 9,
    "start_time": "2024-01-22T11:03:04.069Z"
   },
   {
    "duration": 11,
    "start_time": "2024-01-22T11:03:04.646Z"
   },
   {
    "duration": 81,
    "start_time": "2024-01-22T11:03:53.449Z"
   },
   {
    "duration": 20,
    "start_time": "2024-01-22T11:03:58.259Z"
   },
   {
    "duration": 57,
    "start_time": "2024-01-22T11:04:38.380Z"
   },
   {
    "duration": 14,
    "start_time": "2024-01-22T11:04:58.907Z"
   },
   {
    "duration": 10,
    "start_time": "2024-01-22T11:05:00.255Z"
   },
   {
    "duration": 7,
    "start_time": "2024-01-22T11:05:58.535Z"
   },
   {
    "duration": 5,
    "start_time": "2024-01-22T11:06:11.613Z"
   },
   {
    "duration": 14,
    "start_time": "2024-01-22T11:06:13.204Z"
   },
   {
    "duration": 7,
    "start_time": "2024-01-22T11:07:04.409Z"
   },
   {
    "duration": 6,
    "start_time": "2024-01-22T11:07:07.781Z"
   },
   {
    "duration": 10,
    "start_time": "2024-01-22T11:07:38.107Z"
   },
   {
    "duration": 5,
    "start_time": "2024-01-22T11:08:09.163Z"
   },
   {
    "duration": 33,
    "start_time": "2024-01-22T11:09:12.489Z"
   },
   {
    "duration": 6,
    "start_time": "2024-01-22T11:12:33.651Z"
   },
   {
    "duration": 6,
    "start_time": "2024-01-22T11:12:46.528Z"
   },
   {
    "duration": 5,
    "start_time": "2024-01-22T11:12:52.006Z"
   },
   {
    "duration": 4,
    "start_time": "2024-01-22T11:12:56.106Z"
   },
   {
    "duration": 5,
    "start_time": "2024-01-22T11:13:02.573Z"
   },
   {
    "duration": 6,
    "start_time": "2024-01-22T11:13:04.012Z"
   },
   {
    "duration": 7,
    "start_time": "2024-01-22T11:15:29.379Z"
   },
   {
    "duration": 6,
    "start_time": "2024-01-22T11:19:47.232Z"
   },
   {
    "duration": 6,
    "start_time": "2024-01-22T11:20:15.025Z"
   },
   {
    "duration": 6,
    "start_time": "2024-01-22T11:20:16.174Z"
   },
   {
    "duration": 5,
    "start_time": "2024-01-22T11:23:16.123Z"
   },
   {
    "duration": 4,
    "start_time": "2024-01-22T11:23:23.001Z"
   },
   {
    "duration": 6,
    "start_time": "2024-01-22T11:23:39.989Z"
   },
   {
    "duration": 15,
    "start_time": "2024-01-22T11:25:46.790Z"
   },
   {
    "duration": 5,
    "start_time": "2024-01-22T11:25:53.651Z"
   },
   {
    "duration": 6,
    "start_time": "2024-01-22T11:25:56.530Z"
   },
   {
    "duration": 6,
    "start_time": "2024-01-22T11:26:48.436Z"
   },
   {
    "duration": 2,
    "start_time": "2024-01-22T11:26:49.397Z"
   },
   {
    "duration": 14,
    "start_time": "2024-01-22T11:26:50.313Z"
   },
   {
    "duration": 5,
    "start_time": "2024-01-22T11:26:51.488Z"
   },
   {
    "duration": 380,
    "start_time": "2024-01-22T11:27:53.530Z"
   },
   {
    "duration": 70,
    "start_time": "2024-01-22T11:27:53.912Z"
   },
   {
    "duration": 15,
    "start_time": "2024-01-22T11:27:53.983Z"
   },
   {
    "duration": 11,
    "start_time": "2024-01-22T11:27:53.999Z"
   },
   {
    "duration": 23,
    "start_time": "2024-01-22T11:27:54.013Z"
   },
   {
    "duration": 11,
    "start_time": "2024-01-22T11:27:54.038Z"
   },
   {
    "duration": 7,
    "start_time": "2024-01-22T11:27:54.051Z"
   },
   {
    "duration": 23,
    "start_time": "2024-01-22T11:27:54.060Z"
   },
   {
    "duration": 11,
    "start_time": "2024-01-22T11:27:54.084Z"
   },
   {
    "duration": 12,
    "start_time": "2024-01-22T11:27:54.096Z"
   },
   {
    "duration": 10,
    "start_time": "2024-01-22T11:27:54.110Z"
   },
   {
    "duration": 7,
    "start_time": "2024-01-22T11:27:54.122Z"
   },
   {
    "duration": 43,
    "start_time": "2024-01-22T11:27:54.131Z"
   },
   {
    "duration": 7,
    "start_time": "2024-01-22T11:27:54.176Z"
   },
   {
    "duration": 3,
    "start_time": "2024-01-22T11:27:54.184Z"
   },
   {
    "duration": 18,
    "start_time": "2024-01-22T11:27:54.189Z"
   },
   {
    "duration": 6,
    "start_time": "2024-01-22T11:27:54.209Z"
   },
   {
    "duration": 17,
    "start_time": "2024-01-22T11:27:54.216Z"
   },
   {
    "duration": 9,
    "start_time": "2024-01-22T11:27:54.234Z"
   },
   {
    "duration": 31,
    "start_time": "2024-01-22T11:27:54.245Z"
   },
   {
    "duration": 19,
    "start_time": "2024-01-22T11:27:54.277Z"
   },
   {
    "duration": 6,
    "start_time": "2024-01-22T11:27:54.297Z"
   },
   {
    "duration": 7,
    "start_time": "2024-01-22T11:30:37.362Z"
   },
   {
    "duration": 6,
    "start_time": "2024-01-22T11:31:00.476Z"
   },
   {
    "duration": 4,
    "start_time": "2024-01-22T11:31:14.153Z"
   },
   {
    "duration": 10,
    "start_time": "2024-01-22T11:33:07.012Z"
   },
   {
    "duration": 9,
    "start_time": "2024-01-22T11:33:18.983Z"
   },
   {
    "duration": 601,
    "start_time": "2024-01-22T11:33:49.143Z"
   },
   {
    "duration": 235,
    "start_time": "2024-01-22T11:33:58.532Z"
   },
   {
    "duration": 9,
    "start_time": "2024-01-22T11:35:16.991Z"
   },
   {
    "duration": 2,
    "start_time": "2024-01-22T11:35:22.463Z"
   },
   {
    "duration": 155,
    "start_time": "2024-01-22T11:35:31.628Z"
   },
   {
    "duration": 205,
    "start_time": "2024-01-22T11:36:00.409Z"
   },
   {
    "duration": 499,
    "start_time": "2024-01-22T11:36:11.966Z"
   },
   {
    "duration": 70,
    "start_time": "2024-01-22T11:36:12.468Z"
   },
   {
    "duration": 15,
    "start_time": "2024-01-22T11:36:12.540Z"
   },
   {
    "duration": 14,
    "start_time": "2024-01-22T11:36:12.557Z"
   },
   {
    "duration": 12,
    "start_time": "2024-01-22T11:36:12.572Z"
   },
   {
    "duration": 13,
    "start_time": "2024-01-22T11:36:12.585Z"
   },
   {
    "duration": 16,
    "start_time": "2024-01-22T11:36:12.600Z"
   },
   {
    "duration": 16,
    "start_time": "2024-01-22T11:36:12.618Z"
   },
   {
    "duration": 25,
    "start_time": "2024-01-22T11:36:12.636Z"
   },
   {
    "duration": 15,
    "start_time": "2024-01-22T11:36:12.664Z"
   },
   {
    "duration": 71,
    "start_time": "2024-01-22T11:36:12.680Z"
   },
   {
    "duration": 5,
    "start_time": "2024-01-22T11:36:12.752Z"
   },
   {
    "duration": 16,
    "start_time": "2024-01-22T11:36:12.759Z"
   },
   {
    "duration": 15,
    "start_time": "2024-01-22T11:36:12.777Z"
   },
   {
    "duration": 30,
    "start_time": "2024-01-22T11:36:12.794Z"
   },
   {
    "duration": 23,
    "start_time": "2024-01-22T11:36:12.825Z"
   },
   {
    "duration": 20,
    "start_time": "2024-01-22T11:36:12.850Z"
   },
   {
    "duration": 25,
    "start_time": "2024-01-22T11:36:12.872Z"
   },
   {
    "duration": 11,
    "start_time": "2024-01-22T11:36:12.899Z"
   },
   {
    "duration": 13,
    "start_time": "2024-01-22T11:36:12.911Z"
   },
   {
    "duration": 13,
    "start_time": "2024-01-22T11:36:12.926Z"
   },
   {
    "duration": 9,
    "start_time": "2024-01-22T11:36:12.940Z"
   },
   {
    "duration": 15,
    "start_time": "2024-01-22T11:36:12.950Z"
   },
   {
    "duration": 11,
    "start_time": "2024-01-22T11:36:12.967Z"
   },
   {
    "duration": 371,
    "start_time": "2024-01-22T11:36:12.979Z"
   },
   {
    "duration": 3,
    "start_time": "2024-01-22T11:36:45.603Z"
   },
   {
    "duration": 71,
    "start_time": "2024-01-22T11:36:46.026Z"
   },
   {
    "duration": 8,
    "start_time": "2024-01-22T11:36:46.202Z"
   },
   {
    "duration": 10,
    "start_time": "2024-01-22T11:36:46.368Z"
   },
   {
    "duration": 9,
    "start_time": "2024-01-22T11:36:46.540Z"
   },
   {
    "duration": 11,
    "start_time": "2024-01-22T11:36:46.730Z"
   },
   {
    "duration": 9,
    "start_time": "2024-01-22T11:36:46.910Z"
   },
   {
    "duration": 10,
    "start_time": "2024-01-22T11:36:47.072Z"
   },
   {
    "duration": 8,
    "start_time": "2024-01-22T11:36:47.235Z"
   },
   {
    "duration": 6,
    "start_time": "2024-01-22T11:36:47.581Z"
   },
   {
    "duration": 10,
    "start_time": "2024-01-22T11:36:47.766Z"
   },
   {
    "duration": 5,
    "start_time": "2024-01-22T11:36:47.956Z"
   },
   {
    "duration": 13,
    "start_time": "2024-01-22T11:36:48.261Z"
   },
   {
    "duration": 6,
    "start_time": "2024-01-22T11:36:48.583Z"
   },
   {
    "duration": 2,
    "start_time": "2024-01-22T11:36:48.637Z"
   },
   {
    "duration": 14,
    "start_time": "2024-01-22T11:36:48.719Z"
   },
   {
    "duration": 6,
    "start_time": "2024-01-22T11:36:48.922Z"
   },
   {
    "duration": 8,
    "start_time": "2024-01-22T11:36:49.120Z"
   },
   {
    "duration": 5,
    "start_time": "2024-01-22T11:36:49.333Z"
   },
   {
    "duration": 6,
    "start_time": "2024-01-22T11:36:49.878Z"
   },
   {
    "duration": 7,
    "start_time": "2024-01-22T11:36:50.210Z"
   },
   {
    "duration": 6,
    "start_time": "2024-01-22T11:36:50.494Z"
   },
   {
    "duration": 2,
    "start_time": "2024-01-22T11:36:51.033Z"
   },
   {
    "duration": 5,
    "start_time": "2024-01-22T11:36:52.211Z"
   },
   {
    "duration": 163,
    "start_time": "2024-01-22T11:36:53.891Z"
   },
   {
    "duration": 15,
    "start_time": "2024-01-22T11:37:20.272Z"
   },
   {
    "duration": 137,
    "start_time": "2024-01-22T11:37:32.482Z"
   },
   {
    "duration": 122,
    "start_time": "2024-01-22T11:37:40.095Z"
   },
   {
    "duration": 231,
    "start_time": "2024-01-22T11:37:48.126Z"
   },
   {
    "duration": 136,
    "start_time": "2024-01-22T11:37:54.213Z"
   },
   {
    "duration": 231,
    "start_time": "2024-01-22T11:38:03.299Z"
   },
   {
    "duration": 13,
    "start_time": "2024-01-22T11:38:50.411Z"
   },
   {
    "duration": 264,
    "start_time": "2024-01-22T11:39:35.123Z"
   },
   {
    "duration": 153,
    "start_time": "2024-01-22T11:39:59.594Z"
   },
   {
    "duration": 89,
    "start_time": "2024-01-22T11:40:24.562Z"
   },
   {
    "duration": 158,
    "start_time": "2024-01-22T11:40:30.197Z"
   },
   {
    "duration": 162,
    "start_time": "2024-01-22T11:42:47.350Z"
   },
   {
    "duration": 2,
    "start_time": "2024-01-22T11:42:52.242Z"
   },
   {
    "duration": 175,
    "start_time": "2024-01-22T11:42:58.960Z"
   },
   {
    "duration": 158,
    "start_time": "2024-01-22T11:45:00.994Z"
   },
   {
    "duration": 213,
    "start_time": "2024-01-22T11:45:06.400Z"
   },
   {
    "duration": 114,
    "start_time": "2024-01-22T11:48:40.370Z"
   },
   {
    "duration": 135,
    "start_time": "2024-01-22T11:49:22.725Z"
   },
   {
    "duration": 181,
    "start_time": "2024-01-22T11:49:28.487Z"
   },
   {
    "duration": 126,
    "start_time": "2024-01-22T11:49:39.734Z"
   },
   {
    "duration": 94,
    "start_time": "2024-01-22T11:49:48.234Z"
   },
   {
    "duration": 140,
    "start_time": "2024-01-22T11:49:58.458Z"
   },
   {
    "duration": 159,
    "start_time": "2024-01-22T11:50:12.241Z"
   },
   {
    "duration": 146,
    "start_time": "2024-01-22T11:50:19.012Z"
   },
   {
    "duration": 77,
    "start_time": "2024-01-22T11:50:40.503Z"
   },
   {
    "duration": 82,
    "start_time": "2024-01-22T11:50:43.884Z"
   },
   {
    "duration": 162,
    "start_time": "2024-01-22T11:50:49.574Z"
   },
   {
    "duration": 17,
    "start_time": "2024-01-22T11:53:18.938Z"
   },
   {
    "duration": 16,
    "start_time": "2024-01-22T11:54:41.982Z"
   },
   {
    "duration": 17,
    "start_time": "2024-01-22T11:55:19.099Z"
   },
   {
    "duration": 81,
    "start_time": "2024-01-22T11:55:57.050Z"
   },
   {
    "duration": 14,
    "start_time": "2024-01-22T11:56:02.538Z"
   },
   {
    "duration": 9,
    "start_time": "2024-01-22T11:56:11.920Z"
   },
   {
    "duration": 8,
    "start_time": "2024-01-22T11:56:18.614Z"
   },
   {
    "duration": 8,
    "start_time": "2024-01-22T11:56:53.002Z"
   },
   {
    "duration": 111,
    "start_time": "2024-01-22T12:03:46.535Z"
   },
   {
    "duration": 120,
    "start_time": "2024-01-22T12:03:54.373Z"
   },
   {
    "duration": 127,
    "start_time": "2024-01-22T12:04:05.317Z"
   },
   {
    "duration": 122,
    "start_time": "2024-01-22T12:04:12.524Z"
   },
   {
    "duration": 168,
    "start_time": "2024-01-22T12:04:20.583Z"
   },
   {
    "duration": 133,
    "start_time": "2024-01-22T12:04:36.990Z"
   },
   {
    "duration": 6,
    "start_time": "2024-01-22T12:05:08.837Z"
   },
   {
    "duration": 6,
    "start_time": "2024-01-22T12:05:21.222Z"
   },
   {
    "duration": 6,
    "start_time": "2024-01-22T12:05:32.363Z"
   },
   {
    "duration": 10,
    "start_time": "2024-01-22T12:05:45.619Z"
   },
   {
    "duration": 6,
    "start_time": "2024-01-22T12:05:56.104Z"
   },
   {
    "duration": 6,
    "start_time": "2024-01-22T12:07:20.059Z"
   },
   {
    "duration": 8,
    "start_time": "2024-01-22T12:08:01.654Z"
   },
   {
    "duration": 147,
    "start_time": "2024-01-22T12:12:44.646Z"
   },
   {
    "duration": 156,
    "start_time": "2024-01-22T12:12:54.721Z"
   },
   {
    "duration": 8,
    "start_time": "2024-01-22T12:13:25.733Z"
   },
   {
    "duration": 152,
    "start_time": "2024-01-22T12:15:34.702Z"
   },
   {
    "duration": 9,
    "start_time": "2024-01-22T12:15:41.131Z"
   },
   {
    "duration": 8,
    "start_time": "2024-01-22T12:17:57.702Z"
   },
   {
    "duration": 124,
    "start_time": "2024-01-22T12:19:07.169Z"
   },
   {
    "duration": 185,
    "start_time": "2024-01-22T12:20:22.206Z"
   },
   {
    "duration": 121,
    "start_time": "2024-01-22T12:21:16.013Z"
   },
   {
    "duration": 36,
    "start_time": "2024-01-22T12:25:32.145Z"
   },
   {
    "duration": 30,
    "start_time": "2024-01-22T12:26:06.573Z"
   },
   {
    "duration": 22,
    "start_time": "2024-01-22T12:29:47.407Z"
   },
   {
    "duration": 15,
    "start_time": "2024-01-22T12:30:06.306Z"
   },
   {
    "duration": 27,
    "start_time": "2024-01-22T12:31:12.354Z"
   },
   {
    "duration": 30,
    "start_time": "2024-01-22T12:31:19.852Z"
   },
   {
    "duration": 4,
    "start_time": "2024-01-22T12:31:40.971Z"
   },
   {
    "duration": 15,
    "start_time": "2024-01-22T12:31:51.881Z"
   },
   {
    "duration": 13,
    "start_time": "2024-01-22T12:32:10.995Z"
   },
   {
    "duration": 4,
    "start_time": "2024-01-22T12:32:11.724Z"
   },
   {
    "duration": 14,
    "start_time": "2024-01-22T12:32:20.453Z"
   },
   {
    "duration": 17,
    "start_time": "2024-01-22T13:33:14.398Z"
   },
   {
    "duration": 21,
    "start_time": "2024-01-22T13:33:24.145Z"
   },
   {
    "duration": 24,
    "start_time": "2024-01-22T13:33:40.226Z"
   },
   {
    "duration": 19,
    "start_time": "2024-01-22T13:33:58.638Z"
   },
   {
    "duration": 689,
    "start_time": "2024-01-22T13:34:03.948Z"
   },
   {
    "duration": 69,
    "start_time": "2024-01-22T13:34:04.639Z"
   },
   {
    "duration": 11,
    "start_time": "2024-01-22T13:34:04.710Z"
   },
   {
    "duration": 16,
    "start_time": "2024-01-22T13:34:04.723Z"
   },
   {
    "duration": 19,
    "start_time": "2024-01-22T13:34:04.741Z"
   },
   {
    "duration": 12,
    "start_time": "2024-01-22T13:34:04.762Z"
   },
   {
    "duration": 8,
    "start_time": "2024-01-22T13:34:04.776Z"
   },
   {
    "duration": 15,
    "start_time": "2024-01-22T13:34:04.785Z"
   },
   {
    "duration": 13,
    "start_time": "2024-01-22T13:34:04.802Z"
   },
   {
    "duration": 14,
    "start_time": "2024-01-22T13:34:04.817Z"
   },
   {
    "duration": 10,
    "start_time": "2024-01-22T13:34:04.833Z"
   },
   {
    "duration": 4,
    "start_time": "2024-01-22T13:34:04.845Z"
   },
   {
    "duration": 31,
    "start_time": "2024-01-22T13:34:04.851Z"
   },
   {
    "duration": 5,
    "start_time": "2024-01-22T13:34:04.885Z"
   },
   {
    "duration": 3,
    "start_time": "2024-01-22T13:34:04.892Z"
   },
   {
    "duration": 44,
    "start_time": "2024-01-22T13:34:04.896Z"
   },
   {
    "duration": 6,
    "start_time": "2024-01-22T13:34:04.941Z"
   },
   {
    "duration": 10,
    "start_time": "2024-01-22T13:34:04.948Z"
   },
   {
    "duration": 24,
    "start_time": "2024-01-22T13:34:04.959Z"
   },
   {
    "duration": 15,
    "start_time": "2024-01-22T13:34:04.984Z"
   },
   {
    "duration": 36,
    "start_time": "2024-01-22T13:34:05.000Z"
   },
   {
    "duration": 34,
    "start_time": "2024-01-22T13:34:05.038Z"
   },
   {
    "duration": 17,
    "start_time": "2024-01-22T13:34:05.074Z"
   },
   {
    "duration": 19,
    "start_time": "2024-01-22T13:34:05.093Z"
   },
   {
    "duration": 177,
    "start_time": "2024-01-22T13:34:05.114Z"
   },
   {
    "duration": 85,
    "start_time": "2024-01-22T13:34:05.292Z"
   },
   {
    "duration": 7,
    "start_time": "2024-01-22T13:34:05.379Z"
   },
   {
    "duration": 17,
    "start_time": "2024-01-22T13:34:05.387Z"
   },
   {
    "duration": 144,
    "start_time": "2024-01-22T13:34:05.406Z"
   },
   {
    "duration": 8,
    "start_time": "2024-01-22T13:34:05.552Z"
   },
   {
    "duration": 164,
    "start_time": "2024-01-22T13:34:05.561Z"
   },
   {
    "duration": 9,
    "start_time": "2024-01-22T13:34:05.727Z"
   },
   {
    "duration": 185,
    "start_time": "2024-01-22T13:34:05.737Z"
   },
   {
    "duration": 168,
    "start_time": "2024-01-22T13:34:05.924Z"
   },
   {
    "duration": 9,
    "start_time": "2024-01-22T13:34:06.094Z"
   },
   {
    "duration": 135,
    "start_time": "2024-01-22T13:34:06.104Z"
   },
   {
    "duration": 16,
    "start_time": "2024-01-22T13:34:06.241Z"
   },
   {
    "duration": 34,
    "start_time": "2024-01-22T13:34:06.259Z"
   },
   {
    "duration": 20,
    "start_time": "2024-01-22T13:34:06.295Z"
   },
   {
    "duration": 20,
    "start_time": "2024-01-22T13:34:39.223Z"
   },
   {
    "duration": 135,
    "start_time": "2024-01-22T13:37:16.228Z"
   },
   {
    "duration": 99,
    "start_time": "2024-01-22T13:37:54.308Z"
   },
   {
    "duration": 204,
    "start_time": "2024-01-22T13:38:00.121Z"
   },
   {
    "duration": 200,
    "start_time": "2024-01-22T13:39:02.826Z"
   },
   {
    "duration": 167,
    "start_time": "2024-01-22T13:40:07.849Z"
   },
   {
    "duration": 167,
    "start_time": "2024-01-22T13:41:05.505Z"
   },
   {
    "duration": 166,
    "start_time": "2024-01-22T13:41:42.608Z"
   },
   {
    "duration": 187,
    "start_time": "2024-01-22T13:41:53.407Z"
   },
   {
    "duration": 8,
    "start_time": "2024-01-22T13:43:49.843Z"
   },
   {
    "duration": 16,
    "start_time": "2024-01-22T13:46:21.727Z"
   },
   {
    "duration": 11,
    "start_time": "2024-01-22T13:46:58.100Z"
   },
   {
    "duration": 892,
    "start_time": "2024-01-22T13:47:09.995Z"
   },
   {
    "duration": 12,
    "start_time": "2024-01-22T13:47:23.167Z"
   },
   {
    "duration": 158,
    "start_time": "2024-01-22T13:50:50.138Z"
   },
   {
    "duration": 173,
    "start_time": "2024-01-22T13:51:08.522Z"
   },
   {
    "duration": 11,
    "start_time": "2024-01-22T13:52:34.242Z"
   },
   {
    "duration": 7,
    "start_time": "2024-01-22T13:52:50.645Z"
   },
   {
    "duration": 7,
    "start_time": "2024-01-22T13:53:49.874Z"
   },
   {
    "duration": 9,
    "start_time": "2024-01-22T13:54:37.663Z"
   },
   {
    "duration": 9,
    "start_time": "2024-01-22T13:55:02.886Z"
   },
   {
    "duration": 10,
    "start_time": "2024-01-22T13:55:17.273Z"
   },
   {
    "duration": 6,
    "start_time": "2024-01-22T13:56:31.937Z"
   },
   {
    "duration": 11,
    "start_time": "2024-01-22T13:56:41.318Z"
   },
   {
    "duration": 674,
    "start_time": "2024-01-22T13:57:07.810Z"
   },
   {
    "duration": 71,
    "start_time": "2024-01-22T13:57:08.486Z"
   },
   {
    "duration": 13,
    "start_time": "2024-01-22T13:57:08.558Z"
   },
   {
    "duration": 21,
    "start_time": "2024-01-22T13:57:08.572Z"
   },
   {
    "duration": 9,
    "start_time": "2024-01-22T13:57:08.595Z"
   },
   {
    "duration": 10,
    "start_time": "2024-01-22T13:57:08.606Z"
   },
   {
    "duration": 6,
    "start_time": "2024-01-22T13:57:08.618Z"
   },
   {
    "duration": 8,
    "start_time": "2024-01-22T13:57:08.626Z"
   },
   {
    "duration": 9,
    "start_time": "2024-01-22T13:57:08.635Z"
   },
   {
    "duration": 41,
    "start_time": "2024-01-22T13:57:08.645Z"
   },
   {
    "duration": 11,
    "start_time": "2024-01-22T13:57:08.688Z"
   },
   {
    "duration": 5,
    "start_time": "2024-01-22T13:57:08.700Z"
   },
   {
    "duration": 15,
    "start_time": "2024-01-22T13:57:08.706Z"
   },
   {
    "duration": 7,
    "start_time": "2024-01-22T13:57:08.723Z"
   },
   {
    "duration": 3,
    "start_time": "2024-01-22T13:57:08.732Z"
   },
   {
    "duration": 50,
    "start_time": "2024-01-22T13:57:08.736Z"
   },
   {
    "duration": 6,
    "start_time": "2024-01-22T13:57:08.787Z"
   },
   {
    "duration": 15,
    "start_time": "2024-01-22T13:57:08.795Z"
   },
   {
    "duration": 8,
    "start_time": "2024-01-22T13:57:08.811Z"
   },
   {
    "duration": 8,
    "start_time": "2024-01-22T13:57:08.821Z"
   },
   {
    "duration": 30,
    "start_time": "2024-01-22T13:57:08.831Z"
   },
   {
    "duration": 5,
    "start_time": "2024-01-22T13:57:08.863Z"
   },
   {
    "duration": 16,
    "start_time": "2024-01-22T13:57:08.870Z"
   },
   {
    "duration": 23,
    "start_time": "2024-01-22T13:57:08.887Z"
   },
   {
    "duration": 192,
    "start_time": "2024-01-22T13:57:08.911Z"
   },
   {
    "duration": 90,
    "start_time": "2024-01-22T13:57:09.104Z"
   },
   {
    "duration": 9,
    "start_time": "2024-01-22T13:57:09.195Z"
   },
   {
    "duration": 28,
    "start_time": "2024-01-22T13:57:09.206Z"
   },
   {
    "duration": 133,
    "start_time": "2024-01-22T13:57:09.236Z"
   },
   {
    "duration": 8,
    "start_time": "2024-01-22T13:57:09.370Z"
   },
   {
    "duration": 162,
    "start_time": "2024-01-22T13:57:09.380Z"
   },
   {
    "duration": 9,
    "start_time": "2024-01-22T13:57:09.544Z"
   },
   {
    "duration": 179,
    "start_time": "2024-01-22T13:57:09.555Z"
   },
   {
    "duration": 173,
    "start_time": "2024-01-22T13:57:09.736Z"
   },
   {
    "duration": 8,
    "start_time": "2024-01-22T13:57:09.910Z"
   },
   {
    "duration": 128,
    "start_time": "2024-01-22T13:57:09.920Z"
   },
   {
    "duration": 36,
    "start_time": "2024-01-22T13:57:10.049Z"
   },
   {
    "duration": 25,
    "start_time": "2024-01-22T13:57:10.087Z"
   },
   {
    "duration": 20,
    "start_time": "2024-01-22T13:57:10.114Z"
   },
   {
    "duration": 206,
    "start_time": "2024-01-22T13:57:10.136Z"
   },
   {
    "duration": 160,
    "start_time": "2024-01-22T13:57:10.345Z"
   },
   {
    "duration": 172,
    "start_time": "2024-01-22T13:57:10.507Z"
   },
   {
    "duration": 186,
    "start_time": "2024-01-22T13:57:10.681Z"
   },
   {
    "duration": 0,
    "start_time": "2024-01-22T13:57:10.956Z"
   },
   {
    "duration": 0,
    "start_time": "2024-01-22T13:57:10.958Z"
   },
   {
    "duration": 7,
    "start_time": "2024-01-22T13:57:11.220Z"
   },
   {
    "duration": 10,
    "start_time": "2024-01-22T13:59:02.258Z"
   },
   {
    "duration": 12,
    "start_time": "2024-01-22T13:59:26.946Z"
   },
   {
    "duration": 10,
    "start_time": "2024-01-22T13:59:39.602Z"
   },
   {
    "duration": 13,
    "start_time": "2024-01-22T13:59:40.106Z"
   },
   {
    "duration": 10,
    "start_time": "2024-01-22T13:59:57.837Z"
   },
   {
    "duration": 10,
    "start_time": "2024-01-22T13:59:58.548Z"
   },
   {
    "duration": 5,
    "start_time": "2024-01-22T14:00:55.113Z"
   },
   {
    "duration": 10,
    "start_time": "2024-01-22T14:01:59.281Z"
   },
   {
    "duration": 6,
    "start_time": "2024-01-22T14:02:02.698Z"
   },
   {
    "duration": 4,
    "start_time": "2024-01-22T14:02:03.462Z"
   },
   {
    "duration": 4,
    "start_time": "2024-01-22T14:02:04.779Z"
   },
   {
    "duration": 9,
    "start_time": "2024-01-22T14:04:39.129Z"
   },
   {
    "duration": 5,
    "start_time": "2024-01-22T14:04:43.616Z"
   },
   {
    "duration": 7,
    "start_time": "2024-01-22T14:04:45.083Z"
   },
   {
    "duration": 5,
    "start_time": "2024-01-22T14:08:00.220Z"
   },
   {
    "duration": 5,
    "start_time": "2024-01-22T14:08:00.709Z"
   },
   {
    "duration": 4,
    "start_time": "2024-01-22T14:08:01.159Z"
   },
   {
    "duration": 5,
    "start_time": "2024-01-22T14:08:01.587Z"
   },
   {
    "duration": 4,
    "start_time": "2024-01-22T14:08:02.054Z"
   },
   {
    "duration": 14,
    "start_time": "2024-01-22T14:08:02.641Z"
   },
   {
    "duration": 13,
    "start_time": "2024-01-22T14:08:28.053Z"
   },
   {
    "duration": 4,
    "start_time": "2024-01-22T14:08:59.155Z"
   },
   {
    "duration": 3,
    "start_time": "2024-01-22T14:09:02.710Z"
   },
   {
    "duration": 13,
    "start_time": "2024-01-22T14:09:02.869Z"
   },
   {
    "duration": 8,
    "start_time": "2024-01-22T14:10:11.493Z"
   },
   {
    "duration": 4,
    "start_time": "2024-01-22T14:10:26.609Z"
   },
   {
    "duration": 8,
    "start_time": "2024-01-22T14:10:37.522Z"
   },
   {
    "duration": 5,
    "start_time": "2024-01-22T14:10:43.571Z"
   },
   {
    "duration": 5,
    "start_time": "2024-01-22T14:12:00.452Z"
   },
   {
    "duration": 16,
    "start_time": "2024-01-22T14:17:36.697Z"
   },
   {
    "duration": 5,
    "start_time": "2024-01-22T14:17:38.344Z"
   },
   {
    "duration": 625,
    "start_time": "2024-01-22T14:17:57.510Z"
   },
   {
    "duration": 70,
    "start_time": "2024-01-22T14:17:58.137Z"
   },
   {
    "duration": 13,
    "start_time": "2024-01-22T14:17:58.209Z"
   },
   {
    "duration": 19,
    "start_time": "2024-01-22T14:17:58.224Z"
   },
   {
    "duration": 20,
    "start_time": "2024-01-22T14:17:58.244Z"
   },
   {
    "duration": 28,
    "start_time": "2024-01-22T14:17:58.266Z"
   },
   {
    "duration": 7,
    "start_time": "2024-01-22T14:17:58.296Z"
   },
   {
    "duration": 23,
    "start_time": "2024-01-22T14:17:58.305Z"
   },
   {
    "duration": 17,
    "start_time": "2024-01-22T14:17:58.330Z"
   },
   {
    "duration": 13,
    "start_time": "2024-01-22T14:17:58.350Z"
   },
   {
    "duration": 8,
    "start_time": "2024-01-22T14:17:58.365Z"
   },
   {
    "duration": 37,
    "start_time": "2024-01-22T14:17:58.374Z"
   },
   {
    "duration": 29,
    "start_time": "2024-01-22T14:17:58.413Z"
   },
   {
    "duration": 64,
    "start_time": "2024-01-22T14:17:58.443Z"
   },
   {
    "duration": 29,
    "start_time": "2024-01-22T14:17:58.508Z"
   },
   {
    "duration": 11,
    "start_time": "2024-01-22T14:17:58.539Z"
   },
   {
    "duration": 20,
    "start_time": "2024-01-22T14:17:58.552Z"
   },
   {
    "duration": 12,
    "start_time": "2024-01-22T14:17:58.574Z"
   },
   {
    "duration": 5,
    "start_time": "2024-01-22T14:17:58.588Z"
   },
   {
    "duration": 13,
    "start_time": "2024-01-22T14:17:58.594Z"
   },
   {
    "duration": 5,
    "start_time": "2024-01-22T14:17:58.608Z"
   },
   {
    "duration": 13,
    "start_time": "2024-01-22T14:17:58.614Z"
   },
   {
    "duration": 15,
    "start_time": "2024-01-22T14:17:58.628Z"
   },
   {
    "duration": 8,
    "start_time": "2024-01-22T14:17:58.645Z"
   },
   {
    "duration": 25,
    "start_time": "2024-01-22T14:17:58.655Z"
   },
   {
    "duration": 7,
    "start_time": "2024-01-22T14:17:58.681Z"
   },
   {
    "duration": 177,
    "start_time": "2024-01-22T14:17:58.689Z"
   },
   {
    "duration": 82,
    "start_time": "2024-01-22T14:17:58.869Z"
   },
   {
    "duration": 8,
    "start_time": "2024-01-22T14:17:58.952Z"
   },
   {
    "duration": 22,
    "start_time": "2024-01-22T14:17:58.973Z"
   },
   {
    "duration": 159,
    "start_time": "2024-01-22T14:17:58.996Z"
   },
   {
    "duration": 8,
    "start_time": "2024-01-22T14:17:59.156Z"
   },
   {
    "duration": 159,
    "start_time": "2024-01-22T14:17:59.173Z"
   },
   {
    "duration": 9,
    "start_time": "2024-01-22T14:17:59.334Z"
   },
   {
    "duration": 180,
    "start_time": "2024-01-22T14:17:59.344Z"
   },
   {
    "duration": 153,
    "start_time": "2024-01-22T14:17:59.526Z"
   },
   {
    "duration": 8,
    "start_time": "2024-01-22T14:17:59.681Z"
   },
   {
    "duration": 128,
    "start_time": "2024-01-22T14:17:59.691Z"
   },
   {
    "duration": 17,
    "start_time": "2024-01-22T14:17:59.820Z"
   },
   {
    "duration": 22,
    "start_time": "2024-01-22T14:17:59.839Z"
   },
   {
    "duration": 20,
    "start_time": "2024-01-22T14:17:59.873Z"
   },
   {
    "duration": 220,
    "start_time": "2024-01-22T14:17:59.895Z"
   },
   {
    "duration": 161,
    "start_time": "2024-01-22T14:18:00.117Z"
   },
   {
    "duration": 177,
    "start_time": "2024-01-22T14:18:00.279Z"
   },
   {
    "duration": 210,
    "start_time": "2024-01-22T14:18:00.458Z"
   },
   {
    "duration": 3,
    "start_time": "2024-01-22T14:18:00.670Z"
   },
   {
    "duration": 40,
    "start_time": "2024-01-22T14:18:00.675Z"
   },
   {
    "duration": 29,
    "start_time": "2024-01-22T14:18:00.717Z"
   },
   {
    "duration": 64,
    "start_time": "2024-01-22T14:18:00.748Z"
   },
   {
    "duration": 45,
    "start_time": "2024-01-22T14:18:00.814Z"
   },
   {
    "duration": 41,
    "start_time": "2024-01-22T14:18:00.860Z"
   },
   {
    "duration": 62,
    "start_time": "2024-01-22T14:18:00.903Z"
   },
   {
    "duration": 15,
    "start_time": "2024-01-22T14:18:57.124Z"
   },
   {
    "duration": 6,
    "start_time": "2024-01-22T14:18:58.517Z"
   },
   {
    "duration": 6,
    "start_time": "2024-01-22T14:24:20.682Z"
   },
   {
    "duration": 2,
    "start_time": "2024-01-22T14:24:21.625Z"
   },
   {
    "duration": 2,
    "start_time": "2024-01-22T14:24:22.224Z"
   },
   {
    "duration": 6,
    "start_time": "2024-01-22T14:24:23.454Z"
   },
   {
    "duration": 8,
    "start_time": "2024-01-22T14:24:27.212Z"
   },
   {
    "duration": 5,
    "start_time": "2024-01-22T14:24:27.676Z"
   },
   {
    "duration": 7,
    "start_time": "2024-01-22T14:24:28.174Z"
   },
   {
    "duration": 7,
    "start_time": "2024-01-22T14:24:28.699Z"
   },
   {
    "duration": 6,
    "start_time": "2024-01-22T14:24:29.210Z"
   },
   {
    "duration": 2,
    "start_time": "2024-01-22T14:24:32.030Z"
   },
   {
    "duration": 43,
    "start_time": "2024-01-22T14:24:32.034Z"
   },
   {
    "duration": 154,
    "start_time": "2024-01-22T14:24:32.161Z"
   },
   {
    "duration": 80,
    "start_time": "2024-01-22T14:24:32.941Z"
   },
   {
    "duration": 7,
    "start_time": "2024-01-22T14:24:33.139Z"
   },
   {
    "duration": 8,
    "start_time": "2024-01-22T14:24:33.330Z"
   },
   {
    "duration": 131,
    "start_time": "2024-01-22T14:24:33.709Z"
   },
   {
    "duration": 8,
    "start_time": "2024-01-22T14:24:33.890Z"
   },
   {
    "duration": 152,
    "start_time": "2024-01-22T14:24:34.262Z"
   },
   {
    "duration": 9,
    "start_time": "2024-01-22T14:24:34.450Z"
   },
   {
    "duration": 193,
    "start_time": "2024-01-22T14:24:34.646Z"
   },
   {
    "duration": 149,
    "start_time": "2024-01-22T14:24:35.859Z"
   },
   {
    "duration": 9,
    "start_time": "2024-01-22T14:24:36.328Z"
   },
   {
    "duration": 115,
    "start_time": "2024-01-22T14:24:38.444Z"
   },
   {
    "duration": 14,
    "start_time": "2024-01-22T14:26:02.965Z"
   },
   {
    "duration": 14,
    "start_time": "2024-01-22T14:26:22.849Z"
   },
   {
    "duration": 5,
    "start_time": "2024-01-22T14:26:53.984Z"
   },
   {
    "duration": 3,
    "start_time": "2024-01-22T14:26:54.583Z"
   },
   {
    "duration": 12,
    "start_time": "2024-01-22T14:26:55.309Z"
   },
   {
    "duration": 59,
    "start_time": "2024-01-22T14:27:29.271Z"
   },
   {
    "duration": 5,
    "start_time": "2024-01-22T14:28:10.190Z"
   },
   {
    "duration": 4,
    "start_time": "2024-01-22T14:28:13.177Z"
   },
   {
    "duration": 4,
    "start_time": "2024-01-22T14:28:13.591Z"
   },
   {
    "duration": 13,
    "start_time": "2024-01-22T14:28:14.074Z"
   },
   {
    "duration": 5,
    "start_time": "2024-01-22T14:28:19.528Z"
   },
   {
    "duration": 5,
    "start_time": "2024-01-22T14:28:20.002Z"
   },
   {
    "duration": 4,
    "start_time": "2024-01-22T14:28:20.265Z"
   },
   {
    "duration": 5,
    "start_time": "2024-01-22T14:28:20.813Z"
   },
   {
    "duration": 4,
    "start_time": "2024-01-22T14:28:21.238Z"
   },
   {
    "duration": 13,
    "start_time": "2024-01-22T14:28:21.831Z"
   },
   {
    "duration": 6,
    "start_time": "2024-01-22T14:38:29.776Z"
   },
   {
    "duration": 6,
    "start_time": "2024-01-22T14:38:37.536Z"
   },
   {
    "duration": 4,
    "start_time": "2024-01-22T14:38:38.157Z"
   },
   {
    "duration": 12,
    "start_time": "2024-01-22T14:38:42.426Z"
   },
   {
    "duration": 4,
    "start_time": "2024-01-22T14:39:30.963Z"
   },
   {
    "duration": 5,
    "start_time": "2024-01-22T14:39:32.721Z"
   },
   {
    "duration": 4,
    "start_time": "2024-01-22T14:39:33.394Z"
   },
   {
    "duration": 4,
    "start_time": "2024-01-22T14:39:36.116Z"
   },
   {
    "duration": 12,
    "start_time": "2024-01-22T14:39:37.116Z"
   },
   {
    "duration": 81,
    "start_time": "2024-01-22T14:45:34.514Z"
   },
   {
    "duration": 7,
    "start_time": "2024-01-22T14:45:42.275Z"
   },
   {
    "duration": 7,
    "start_time": "2024-01-22T14:46:10.065Z"
   },
   {
    "duration": 8,
    "start_time": "2024-01-22T14:46:37.607Z"
   },
   {
    "duration": 7,
    "start_time": "2024-01-22T14:47:18.298Z"
   },
   {
    "duration": 131,
    "start_time": "2024-01-22T14:47:25.086Z"
   },
   {
    "duration": 3,
    "start_time": "2024-01-22T14:48:35.102Z"
   },
   {
    "duration": 4,
    "start_time": "2024-01-22T14:49:50.416Z"
   },
   {
    "duration": 4,
    "start_time": "2024-01-22T14:49:51.487Z"
   },
   {
    "duration": 13,
    "start_time": "2024-01-22T14:49:52.106Z"
   },
   {
    "duration": 3,
    "start_time": "2024-01-22T14:54:40.611Z"
   },
   {
    "duration": 82,
    "start_time": "2024-01-22T14:54:41.557Z"
   },
   {
    "duration": 3,
    "start_time": "2024-01-22T14:56:01.285Z"
   },
   {
    "duration": 14,
    "start_time": "2024-01-22T14:56:02.128Z"
   },
   {
    "duration": 3,
    "start_time": "2024-01-22T14:56:25.288Z"
   },
   {
    "duration": 15,
    "start_time": "2024-01-22T14:56:26.874Z"
   },
   {
    "duration": 4,
    "start_time": "2024-01-22T14:59:01.301Z"
   },
   {
    "duration": 24,
    "start_time": "2024-01-22T14:59:03.882Z"
   },
   {
    "duration": 14,
    "start_time": "2024-01-22T14:59:06.638Z"
   },
   {
    "duration": 5,
    "start_time": "2024-01-22T15:09:18.938Z"
   },
   {
    "duration": 24,
    "start_time": "2024-01-22T15:09:20.341Z"
   },
   {
    "duration": 12,
    "start_time": "2024-01-22T15:09:22.450Z"
   },
   {
    "duration": 119,
    "start_time": "2024-01-22T15:27:15.684Z"
   },
   {
    "duration": 8,
    "start_time": "2024-01-22T15:27:27.053Z"
   },
   {
    "duration": 142,
    "start_time": "2024-01-22T15:27:41.902Z"
   },
   {
    "duration": 8,
    "start_time": "2024-01-22T15:28:26.142Z"
   },
   {
    "duration": 12,
    "start_time": "2024-01-22T16:24:30.451Z"
   },
   {
    "duration": 10,
    "start_time": "2024-01-22T16:24:38.183Z"
   },
   {
    "duration": 11,
    "start_time": "2024-01-22T16:24:40.967Z"
   },
   {
    "duration": 10,
    "start_time": "2024-01-22T16:24:44.136Z"
   },
   {
    "duration": 5,
    "start_time": "2024-01-22T16:25:44.004Z"
   },
   {
    "duration": 4,
    "start_time": "2024-01-22T16:25:54.676Z"
   },
   {
    "duration": 9,
    "start_time": "2024-01-22T16:26:00.606Z"
   },
   {
    "duration": 4,
    "start_time": "2024-01-22T16:26:08.050Z"
   },
   {
    "duration": 7,
    "start_time": "2024-01-22T16:26:29.834Z"
   },
   {
    "duration": 7,
    "start_time": "2024-01-22T16:27:10.762Z"
   },
   {
    "duration": 7,
    "start_time": "2024-01-22T16:27:20.391Z"
   },
   {
    "duration": 7,
    "start_time": "2024-01-22T16:27:30.104Z"
   },
   {
    "duration": 6,
    "start_time": "2024-01-22T16:35:03.854Z"
   },
   {
    "duration": 70,
    "start_time": "2024-01-22T16:35:28.043Z"
   },
   {
    "duration": 5,
    "start_time": "2024-01-22T16:35:35.916Z"
   },
   {
    "duration": 6,
    "start_time": "2024-01-22T16:35:37.178Z"
   },
   {
    "duration": 9,
    "start_time": "2024-01-22T16:35:38.920Z"
   },
   {
    "duration": 5,
    "start_time": "2024-01-22T16:35:41.032Z"
   },
   {
    "duration": 7,
    "start_time": "2024-01-22T16:35:41.238Z"
   },
   {
    "duration": 7,
    "start_time": "2024-01-22T16:35:41.419Z"
   },
   {
    "duration": 7,
    "start_time": "2024-01-22T16:35:41.622Z"
   },
   {
    "duration": 3,
    "start_time": "2024-01-22T16:35:41.799Z"
   },
   {
    "duration": 4,
    "start_time": "2024-01-22T16:35:42.395Z"
   },
   {
    "duration": 154,
    "start_time": "2024-01-22T16:35:42.616Z"
   },
   {
    "duration": 144,
    "start_time": "2024-01-22T16:35:42.973Z"
   },
   {
    "duration": 9,
    "start_time": "2024-01-22T16:35:43.163Z"
   },
   {
    "duration": 9,
    "start_time": "2024-01-22T16:35:44.284Z"
   },
   {
    "duration": 4,
    "start_time": "2024-01-22T16:38:43.965Z"
   },
   {
    "duration": 6,
    "start_time": "2024-01-22T16:38:44.880Z"
   },
   {
    "duration": 8,
    "start_time": "2024-01-22T16:38:45.112Z"
   },
   {
    "duration": 5,
    "start_time": "2024-01-22T16:38:45.316Z"
   },
   {
    "duration": 6,
    "start_time": "2024-01-22T16:38:45.516Z"
   },
   {
    "duration": 6,
    "start_time": "2024-01-22T16:38:45.836Z"
   },
   {
    "duration": 6,
    "start_time": "2024-01-22T16:38:45.893Z"
   },
   {
    "duration": 2,
    "start_time": "2024-01-22T16:38:46.108Z"
   },
   {
    "duration": 4,
    "start_time": "2024-01-22T16:38:47.111Z"
   },
   {
    "duration": 150,
    "start_time": "2024-01-22T16:38:47.681Z"
   },
   {
    "duration": 80,
    "start_time": "2024-01-22T16:38:48.823Z"
   },
   {
    "duration": 12,
    "start_time": "2024-01-22T16:39:41.230Z"
   },
   {
    "duration": 7,
    "start_time": "2024-01-22T16:43:09.734Z"
   },
   {
    "duration": 7,
    "start_time": "2024-01-22T16:43:34.939Z"
   },
   {
    "duration": 4,
    "start_time": "2024-01-22T16:43:36.412Z"
   },
   {
    "duration": 4,
    "start_time": "2024-01-22T16:44:54.585Z"
   },
   {
    "duration": 4,
    "start_time": "2024-01-22T16:44:55.519Z"
   },
   {
    "duration": 6,
    "start_time": "2024-01-22T16:53:32.794Z"
   },
   {
    "duration": 6,
    "start_time": "2024-01-22T16:53:33.839Z"
   },
   {
    "duration": 4,
    "start_time": "2024-01-22T16:53:34.628Z"
   },
   {
    "duration": 3,
    "start_time": "2024-01-22T16:53:35.461Z"
   },
   {
    "duration": 10,
    "start_time": "2024-01-22T16:54:02.252Z"
   },
   {
    "duration": 7,
    "start_time": "2024-01-22T16:54:13.013Z"
   },
   {
    "duration": 2,
    "start_time": "2024-01-22T16:54:31.558Z"
   },
   {
    "duration": 5,
    "start_time": "2024-01-22T16:54:32.306Z"
   },
   {
    "duration": 4,
    "start_time": "2024-01-22T16:54:32.936Z"
   },
   {
    "duration": 4,
    "start_time": "2024-01-22T16:54:33.489Z"
   },
   {
    "duration": 3,
    "start_time": "2024-01-22T16:54:34.483Z"
   },
   {
    "duration": 3,
    "start_time": "2024-01-22T16:54:56.060Z"
   },
   {
    "duration": 5,
    "start_time": "2024-01-22T16:54:56.656Z"
   },
   {
    "duration": 3,
    "start_time": "2024-01-22T16:54:57.107Z"
   },
   {
    "duration": 7,
    "start_time": "2024-01-22T16:55:26.910Z"
   },
   {
    "duration": 7,
    "start_time": "2024-01-22T16:55:51.861Z"
   },
   {
    "duration": 2,
    "start_time": "2024-01-22T16:55:52.563Z"
   },
   {
    "duration": 6,
    "start_time": "2024-01-22T16:55:53.166Z"
   },
   {
    "duration": 7,
    "start_time": "2024-01-22T16:55:53.974Z"
   },
   {
    "duration": 4,
    "start_time": "2024-01-22T16:58:33.797Z"
   },
   {
    "duration": 3,
    "start_time": "2024-01-22T16:58:47.687Z"
   },
   {
    "duration": 7,
    "start_time": "2024-01-22T16:59:01.054Z"
   },
   {
    "duration": 6,
    "start_time": "2024-01-22T16:59:01.896Z"
   },
   {
    "duration": 3,
    "start_time": "2024-01-22T16:59:03.256Z"
   },
   {
    "duration": 6,
    "start_time": "2024-01-22T16:59:10.181Z"
   },
   {
    "duration": 8,
    "start_time": "2024-01-22T16:59:28.095Z"
   },
   {
    "duration": 4,
    "start_time": "2024-01-22T16:59:29.070Z"
   },
   {
    "duration": 3,
    "start_time": "2024-01-22T16:59:30.344Z"
   },
   {
    "duration": 7,
    "start_time": "2024-01-22T16:59:40.877Z"
   },
   {
    "duration": 4,
    "start_time": "2024-01-22T16:59:42.894Z"
   },
   {
    "duration": 4,
    "start_time": "2024-01-22T16:59:43.946Z"
   },
   {
    "duration": 3,
    "start_time": "2024-01-22T17:00:16.925Z"
   },
   {
    "duration": 7,
    "start_time": "2024-01-22T17:00:34.930Z"
   },
   {
    "duration": 6,
    "start_time": "2024-01-22T17:00:35.719Z"
   },
   {
    "duration": 6,
    "start_time": "2024-01-22T17:01:23.336Z"
   },
   {
    "duration": 7,
    "start_time": "2024-01-22T17:01:24.001Z"
   },
   {
    "duration": 458,
    "start_time": "2024-01-22T17:09:23.440Z"
   },
   {
    "duration": 75,
    "start_time": "2024-01-22T17:13:25.953Z"
   },
   {
    "duration": 4,
    "start_time": "2024-01-22T17:15:09.784Z"
   },
   {
    "duration": 5,
    "start_time": "2024-01-22T17:15:25.492Z"
   },
   {
    "duration": 5,
    "start_time": "2024-01-22T17:15:59.030Z"
   },
   {
    "duration": 29,
    "start_time": "2024-01-22T17:16:55.365Z"
   },
   {
    "duration": 68,
    "start_time": "2024-01-22T17:38:24.724Z"
   },
   {
    "duration": 1239,
    "start_time": "2024-01-22T17:38:32.199Z"
   },
   {
    "duration": 1166,
    "start_time": "2024-01-22T17:39:45.709Z"
   },
   {
    "duration": 15,
    "start_time": "2024-01-22T17:40:22.955Z"
   },
   {
    "duration": 16,
    "start_time": "2024-01-22T17:40:39.630Z"
   },
   {
    "duration": 15,
    "start_time": "2024-01-22T17:41:02.284Z"
   },
   {
    "duration": 8,
    "start_time": "2024-01-22T17:42:35.963Z"
   },
   {
    "duration": 7,
    "start_time": "2024-01-22T17:43:32.721Z"
   },
   {
    "duration": 99,
    "start_time": "2024-01-22T17:44:17.724Z"
   },
   {
    "duration": 7,
    "start_time": "2024-01-22T17:44:24.824Z"
   },
   {
    "duration": 19,
    "start_time": "2024-01-22T17:46:33.273Z"
   },
   {
    "duration": 7,
    "start_time": "2024-01-22T17:46:51.202Z"
   },
   {
    "duration": 7,
    "start_time": "2024-01-22T17:47:57.196Z"
   },
   {
    "duration": 7,
    "start_time": "2024-01-22T17:49:05.390Z"
   },
   {
    "duration": 6,
    "start_time": "2024-01-22T17:49:57.741Z"
   },
   {
    "duration": 7,
    "start_time": "2024-01-22T17:51:26.998Z"
   },
   {
    "duration": 6,
    "start_time": "2024-01-22T17:51:46.631Z"
   },
   {
    "duration": 6,
    "start_time": "2024-01-22T17:51:59.266Z"
   },
   {
    "duration": 6,
    "start_time": "2024-01-22T17:53:03.723Z"
   },
   {
    "duration": 9,
    "start_time": "2024-01-22T17:53:50.123Z"
   },
   {
    "duration": 7,
    "start_time": "2024-01-22T17:53:50.877Z"
   },
   {
    "duration": 7,
    "start_time": "2024-01-22T17:58:54.616Z"
   },
   {
    "duration": 6,
    "start_time": "2024-01-22T17:59:14.982Z"
   },
   {
    "duration": 8,
    "start_time": "2024-01-22T17:59:59.817Z"
   },
   {
    "duration": 3,
    "start_time": "2024-01-22T18:10:50.141Z"
   },
   {
    "duration": 68,
    "start_time": "2024-01-22T18:11:02.985Z"
   },
   {
    "duration": 9,
    "start_time": "2024-01-22T18:11:03.181Z"
   },
   {
    "duration": 12,
    "start_time": "2024-01-22T18:11:03.399Z"
   },
   {
    "duration": 12,
    "start_time": "2024-01-22T18:11:04.172Z"
   },
   {
    "duration": 29,
    "start_time": "2024-01-22T18:11:04.186Z"
   },
   {
    "duration": 25,
    "start_time": "2024-01-22T18:11:04.217Z"
   },
   {
    "duration": 6,
    "start_time": "2024-01-22T18:11:04.244Z"
   },
   {
    "duration": 6,
    "start_time": "2024-01-22T18:11:04.724Z"
   },
   {
    "duration": 10,
    "start_time": "2024-01-22T18:11:05.194Z"
   },
   {
    "duration": 8,
    "start_time": "2024-01-22T18:11:05.689Z"
   },
   {
    "duration": 6,
    "start_time": "2024-01-22T18:11:06.567Z"
   },
   {
    "duration": 12,
    "start_time": "2024-01-22T18:11:06.894Z"
   },
   {
    "duration": 5,
    "start_time": "2024-01-22T18:11:07.200Z"
   },
   {
    "duration": 14,
    "start_time": "2024-01-22T18:11:07.449Z"
   },
   {
    "duration": 6,
    "start_time": "2024-01-22T18:11:07.717Z"
   },
   {
    "duration": 5,
    "start_time": "2024-01-22T18:11:08.036Z"
   },
   {
    "duration": 6,
    "start_time": "2024-01-22T18:11:08.420Z"
   },
   {
    "duration": 8,
    "start_time": "2024-01-22T18:11:08.717Z"
   },
   {
    "duration": 5,
    "start_time": "2024-01-22T18:11:08.940Z"
   },
   {
    "duration": 6,
    "start_time": "2024-01-22T18:11:09.907Z"
   },
   {
    "duration": 7,
    "start_time": "2024-01-22T18:11:10.118Z"
   },
   {
    "duration": 6,
    "start_time": "2024-01-22T18:11:10.673Z"
   },
   {
    "duration": 4,
    "start_time": "2024-01-22T18:11:11.724Z"
   },
   {
    "duration": 151,
    "start_time": "2024-01-22T18:11:12.349Z"
   },
   {
    "duration": 80,
    "start_time": "2024-01-22T18:11:14.385Z"
   },
   {
    "duration": 7,
    "start_time": "2024-01-22T18:11:14.783Z"
   },
   {
    "duration": 7,
    "start_time": "2024-01-22T18:11:14.994Z"
   },
   {
    "duration": 6,
    "start_time": "2024-01-22T18:13:33.848Z"
   },
   {
    "duration": 6,
    "start_time": "2024-01-22T18:13:34.145Z"
   },
   {
    "duration": 6,
    "start_time": "2024-01-22T18:13:34.327Z"
   },
   {
    "duration": 6,
    "start_time": "2024-01-22T18:13:36.072Z"
   },
   {
    "duration": 244,
    "start_time": "2024-01-22T18:13:36.885Z"
   },
   {
    "duration": 1274,
    "start_time": "2024-01-23T01:07:11.535Z"
   },
   {
    "duration": 188,
    "start_time": "2024-01-23T01:07:12.811Z"
   },
   {
    "duration": 11,
    "start_time": "2024-01-23T01:07:13.000Z"
   },
   {
    "duration": 19,
    "start_time": "2024-01-23T01:07:13.013Z"
   },
   {
    "duration": 17,
    "start_time": "2024-01-23T01:07:13.034Z"
   },
   {
    "duration": 12,
    "start_time": "2024-01-23T01:07:13.052Z"
   },
   {
    "duration": 11,
    "start_time": "2024-01-23T01:07:13.066Z"
   },
   {
    "duration": 3,
    "start_time": "2024-01-23T01:07:13.078Z"
   },
   {
    "duration": 13,
    "start_time": "2024-01-23T01:07:13.083Z"
   },
   {
    "duration": 12,
    "start_time": "2024-01-23T01:07:13.097Z"
   },
   {
    "duration": 10,
    "start_time": "2024-01-23T01:07:13.111Z"
   },
   {
    "duration": 7,
    "start_time": "2024-01-23T01:07:13.122Z"
   },
   {
    "duration": 13,
    "start_time": "2024-01-23T01:07:13.152Z"
   },
   {
    "duration": 4,
    "start_time": "2024-01-23T01:07:13.170Z"
   },
   {
    "duration": 13,
    "start_time": "2024-01-23T01:07:13.176Z"
   },
   {
    "duration": 10,
    "start_time": "2024-01-23T01:07:13.190Z"
   },
   {
    "duration": 21,
    "start_time": "2024-01-23T01:07:13.202Z"
   },
   {
    "duration": 8,
    "start_time": "2024-01-23T01:07:13.225Z"
   },
   {
    "duration": 30,
    "start_time": "2024-01-23T01:07:13.236Z"
   },
   {
    "duration": 7,
    "start_time": "2024-01-23T01:07:13.267Z"
   },
   {
    "duration": 8,
    "start_time": "2024-01-23T01:07:13.275Z"
   },
   {
    "duration": 12,
    "start_time": "2024-01-23T01:07:13.285Z"
   },
   {
    "duration": 14,
    "start_time": "2024-01-23T01:07:13.299Z"
   },
   {
    "duration": 6,
    "start_time": "2024-01-23T01:07:13.314Z"
   },
   {
    "duration": 174,
    "start_time": "2024-01-23T01:07:13.321Z"
   },
   {
    "duration": 88,
    "start_time": "2024-01-23T01:07:13.497Z"
   },
   {
    "duration": 9,
    "start_time": "2024-01-23T01:07:13.586Z"
   },
   {
    "duration": 30,
    "start_time": "2024-01-23T01:07:13.597Z"
   },
   {
    "duration": 135,
    "start_time": "2024-01-23T01:07:13.628Z"
   },
   {
    "duration": 8,
    "start_time": "2024-01-23T01:07:13.765Z"
   },
   {
    "duration": 138,
    "start_time": "2024-01-23T01:07:13.775Z"
   },
   {
    "duration": 8,
    "start_time": "2024-01-23T01:07:13.915Z"
   },
   {
    "duration": 132,
    "start_time": "2024-01-23T01:07:13.925Z"
   },
   {
    "duration": 137,
    "start_time": "2024-01-23T01:07:14.059Z"
   },
   {
    "duration": 8,
    "start_time": "2024-01-23T01:07:14.197Z"
   },
   {
    "duration": 129,
    "start_time": "2024-01-23T01:07:14.206Z"
   },
   {
    "duration": 29,
    "start_time": "2024-01-23T01:07:14.337Z"
   },
   {
    "duration": 19,
    "start_time": "2024-01-23T01:07:14.368Z"
   },
   {
    "duration": 18,
    "start_time": "2024-01-23T01:07:14.389Z"
   },
   {
    "duration": 205,
    "start_time": "2024-01-23T01:07:14.409Z"
   },
   {
    "duration": 164,
    "start_time": "2024-01-23T01:07:14.618Z"
   },
   {
    "duration": 225,
    "start_time": "2024-01-23T01:07:14.784Z"
   },
   {
    "duration": 183,
    "start_time": "2024-01-23T01:07:15.010Z"
   },
   {
    "duration": 2,
    "start_time": "2024-01-23T01:07:15.195Z"
   },
   {
    "duration": 36,
    "start_time": "2024-01-23T01:07:15.199Z"
   },
   {
    "duration": 30,
    "start_time": "2024-01-23T01:07:15.236Z"
   },
   {
    "duration": 14,
    "start_time": "2024-01-23T01:07:15.267Z"
   },
   {
    "duration": 27,
    "start_time": "2024-01-23T01:07:15.282Z"
   },
   {
    "duration": 11,
    "start_time": "2024-01-23T01:07:15.310Z"
   },
   {
    "duration": 7,
    "start_time": "2024-01-23T01:07:15.323Z"
   },
   {
    "duration": 12,
    "start_time": "2024-01-23T01:07:15.331Z"
   },
   {
    "duration": 4,
    "start_time": "2024-01-23T01:07:15.344Z"
   },
   {
    "duration": 35,
    "start_time": "2024-01-23T01:07:15.349Z"
   },
   {
    "duration": 13,
    "start_time": "2024-01-23T01:07:15.385Z"
   },
   {
    "duration": 34,
    "start_time": "2024-01-23T01:07:15.399Z"
   },
   {
    "duration": 21,
    "start_time": "2024-01-23T01:07:15.435Z"
   },
   {
    "duration": 24,
    "start_time": "2024-01-23T01:07:15.457Z"
   },
   {
    "duration": 15,
    "start_time": "2024-01-23T01:07:15.482Z"
   },
   {
    "duration": 95,
    "start_time": "2024-01-23T01:07:15.498Z"
   },
   {
    "duration": 6,
    "start_time": "2024-01-23T01:07:15.594Z"
   },
   {
    "duration": 35,
    "start_time": "2024-01-23T01:07:15.601Z"
   },
   {
    "duration": 1062,
    "start_time": "2024-01-23T01:25:47.277Z"
   },
   {
    "duration": 69,
    "start_time": "2024-01-23T01:25:48.341Z"
   },
   {
    "duration": 13,
    "start_time": "2024-01-23T01:25:48.412Z"
   },
   {
    "duration": 14,
    "start_time": "2024-01-23T01:25:48.427Z"
   },
   {
    "duration": 26,
    "start_time": "2024-01-23T01:25:48.444Z"
   },
   {
    "duration": 11,
    "start_time": "2024-01-23T01:25:48.472Z"
   },
   {
    "duration": 12,
    "start_time": "2024-01-23T01:25:48.484Z"
   },
   {
    "duration": 10,
    "start_time": "2024-01-23T01:25:48.498Z"
   },
   {
    "duration": 7,
    "start_time": "2024-01-23T01:25:48.514Z"
   },
   {
    "duration": 21,
    "start_time": "2024-01-23T01:25:48.523Z"
   },
   {
    "duration": 22,
    "start_time": "2024-01-23T01:25:48.545Z"
   },
   {
    "duration": 18,
    "start_time": "2024-01-23T01:25:48.571Z"
   },
   {
    "duration": 10,
    "start_time": "2024-01-23T01:25:48.590Z"
   },
   {
    "duration": 12,
    "start_time": "2024-01-23T01:25:48.602Z"
   },
   {
    "duration": 14,
    "start_time": "2024-01-23T01:25:48.616Z"
   },
   {
    "duration": 20,
    "start_time": "2024-01-23T01:25:48.632Z"
   },
   {
    "duration": 30,
    "start_time": "2024-01-23T01:25:48.654Z"
   },
   {
    "duration": 16,
    "start_time": "2024-01-23T01:25:48.686Z"
   },
   {
    "duration": 10,
    "start_time": "2024-01-23T01:25:48.704Z"
   },
   {
    "duration": 5,
    "start_time": "2024-01-23T01:25:48.716Z"
   },
   {
    "duration": 9,
    "start_time": "2024-01-23T01:25:48.722Z"
   },
   {
    "duration": 13,
    "start_time": "2024-01-23T01:25:48.732Z"
   },
   {
    "duration": 18,
    "start_time": "2024-01-23T01:25:48.746Z"
   },
   {
    "duration": 8,
    "start_time": "2024-01-23T01:25:48.771Z"
   },
   {
    "duration": 168,
    "start_time": "2024-01-23T01:25:48.780Z"
   },
   {
    "duration": 82,
    "start_time": "2024-01-23T01:25:48.952Z"
   },
   {
    "duration": 30,
    "start_time": "2024-01-23T01:25:49.035Z"
   },
   {
    "duration": 18,
    "start_time": "2024-01-23T01:25:49.067Z"
   },
   {
    "duration": 137,
    "start_time": "2024-01-23T01:25:49.086Z"
   },
   {
    "duration": 8,
    "start_time": "2024-01-23T01:25:49.224Z"
   },
   {
    "duration": 159,
    "start_time": "2024-01-23T01:25:49.233Z"
   },
   {
    "duration": 8,
    "start_time": "2024-01-23T01:25:49.393Z"
   },
   {
    "duration": 124,
    "start_time": "2024-01-23T01:25:49.402Z"
   },
   {
    "duration": 153,
    "start_time": "2024-01-23T01:25:49.527Z"
   },
   {
    "duration": 8,
    "start_time": "2024-01-23T01:25:49.682Z"
   },
   {
    "duration": 163,
    "start_time": "2024-01-23T01:25:49.692Z"
   },
   {
    "duration": 23,
    "start_time": "2024-01-23T01:25:49.856Z"
   },
   {
    "duration": 18,
    "start_time": "2024-01-23T01:25:49.881Z"
   },
   {
    "duration": 16,
    "start_time": "2024-01-23T01:25:49.901Z"
   },
   {
    "duration": 195,
    "start_time": "2024-01-23T01:25:49.919Z"
   },
   {
    "duration": 155,
    "start_time": "2024-01-23T01:25:50.118Z"
   },
   {
    "duration": 223,
    "start_time": "2024-01-23T01:25:50.274Z"
   },
   {
    "duration": 184,
    "start_time": "2024-01-23T01:25:50.499Z"
   },
   {
    "duration": 2,
    "start_time": "2024-01-23T01:25:50.684Z"
   },
   {
    "duration": 8,
    "start_time": "2024-01-23T01:25:50.688Z"
   },
   {
    "duration": 8,
    "start_time": "2024-01-23T01:25:50.698Z"
   },
   {
    "duration": 17,
    "start_time": "2024-01-23T01:25:50.707Z"
   },
   {
    "duration": 11,
    "start_time": "2024-01-23T01:25:50.725Z"
   },
   {
    "duration": 4,
    "start_time": "2024-01-23T01:25:50.738Z"
   },
   {
    "duration": 9,
    "start_time": "2024-01-23T01:25:50.744Z"
   },
   {
    "duration": 22,
    "start_time": "2024-01-23T01:25:50.754Z"
   },
   {
    "duration": 5,
    "start_time": "2024-01-23T01:25:50.778Z"
   },
   {
    "duration": 35,
    "start_time": "2024-01-23T01:25:50.784Z"
   },
   {
    "duration": 13,
    "start_time": "2024-01-23T01:25:50.821Z"
   },
   {
    "duration": 30,
    "start_time": "2024-01-23T01:25:50.835Z"
   },
   {
    "duration": 21,
    "start_time": "2024-01-23T01:25:50.867Z"
   },
   {
    "duration": 6,
    "start_time": "2024-01-23T01:25:50.890Z"
   },
   {
    "duration": 8,
    "start_time": "2024-01-23T01:25:50.897Z"
   },
   {
    "duration": 28,
    "start_time": "2024-01-23T01:25:50.907Z"
   },
   {
    "duration": 7,
    "start_time": "2024-01-23T01:25:50.936Z"
   },
   {
    "duration": 10,
    "start_time": "2024-01-23T01:25:50.945Z"
   },
   {
    "duration": 51,
    "start_time": "2024-01-26T16:07:24.065Z"
   },
   {
    "duration": 1381,
    "start_time": "2024-01-26T16:07:27.284Z"
   },
   {
    "duration": 187,
    "start_time": "2024-01-26T16:07:28.666Z"
   },
   {
    "duration": 14,
    "start_time": "2024-01-26T16:07:28.900Z"
   },
   {
    "duration": 11,
    "start_time": "2024-01-26T16:07:29.214Z"
   },
   {
    "duration": 9,
    "start_time": "2024-01-26T16:07:30.370Z"
   },
   {
    "duration": 8,
    "start_time": "2024-01-26T16:07:31.005Z"
   },
   {
    "duration": 11,
    "start_time": "2024-01-26T16:07:31.478Z"
   },
   {
    "duration": 4,
    "start_time": "2024-01-26T16:07:32.883Z"
   },
   {
    "duration": 9,
    "start_time": "2024-01-26T16:07:33.772Z"
   },
   {
    "duration": 10,
    "start_time": "2024-01-26T16:07:34.628Z"
   },
   {
    "duration": 83,
    "start_time": "2024-01-26T16:07:35.566Z"
   },
   {
    "duration": 1285,
    "start_time": "2024-01-26T16:08:47.404Z"
   },
   {
    "duration": 1338,
    "start_time": "2024-01-26T16:09:12.054Z"
   },
   {
    "duration": 1227,
    "start_time": "2024-01-26T16:11:33.378Z"
   },
   {
    "duration": 11,
    "start_time": "2024-01-26T16:12:19.546Z"
   },
   {
    "duration": 12,
    "start_time": "2024-01-26T16:13:04.560Z"
   },
   {
    "duration": 12,
    "start_time": "2024-01-26T16:14:13.519Z"
   },
   {
    "duration": 8,
    "start_time": "2024-01-26T16:14:30.350Z"
   },
   {
    "duration": 12,
    "start_time": "2024-01-26T16:14:37.670Z"
   },
   {
    "duration": 8,
    "start_time": "2024-01-26T16:14:39.085Z"
   },
   {
    "duration": 8,
    "start_time": "2024-01-26T16:14:41.066Z"
   },
   {
    "duration": 14,
    "start_time": "2024-01-26T16:14:59.577Z"
   },
   {
    "duration": 14,
    "start_time": "2024-01-26T16:15:05.759Z"
   },
   {
    "duration": 9,
    "start_time": "2024-01-26T16:16:43.250Z"
   },
   {
    "duration": 23,
    "start_time": "2024-01-26T16:16:51.906Z"
   },
   {
    "duration": 15,
    "start_time": "2024-01-26T16:17:48.574Z"
   },
   {
    "duration": 183,
    "start_time": "2024-01-26T16:17:58.504Z"
   },
   {
    "duration": 15,
    "start_time": "2024-01-26T16:18:08.623Z"
   },
   {
    "duration": 6,
    "start_time": "2024-01-26T16:18:39.648Z"
   },
   {
    "duration": 5,
    "start_time": "2024-01-26T16:18:53.042Z"
   },
   {
    "duration": 6,
    "start_time": "2024-01-26T16:19:54.154Z"
   },
   {
    "duration": 8,
    "start_time": "2024-01-26T16:20:26.169Z"
   },
   {
    "duration": 4,
    "start_time": "2024-01-26T16:20:31.081Z"
   },
   {
    "duration": 4,
    "start_time": "2024-01-26T16:20:32.986Z"
   },
   {
    "duration": 131,
    "start_time": "2024-01-26T16:20:44.554Z"
   },
   {
    "duration": 5,
    "start_time": "2024-01-26T16:21:00.813Z"
   },
   {
    "duration": 153,
    "start_time": "2024-01-26T16:21:12.027Z"
   },
   {
    "duration": 141,
    "start_time": "2024-01-26T16:23:27.572Z"
   },
   {
    "duration": 135,
    "start_time": "2024-01-26T16:23:41.534Z"
   },
   {
    "duration": 4,
    "start_time": "2024-01-26T16:28:03.354Z"
   },
   {
    "duration": 5,
    "start_time": "2024-01-26T16:28:04.216Z"
   },
   {
    "duration": 135,
    "start_time": "2024-01-26T16:28:06.743Z"
   },
   {
    "duration": 156,
    "start_time": "2024-01-26T16:28:12.426Z"
   },
   {
    "duration": 127,
    "start_time": "2024-01-26T16:30:34.818Z"
   },
   {
    "duration": 136,
    "start_time": "2024-01-26T16:32:47.632Z"
   },
   {
    "duration": 192,
    "start_time": "2024-01-26T16:33:25.574Z"
   },
   {
    "duration": 126,
    "start_time": "2024-01-26T16:33:38.197Z"
   },
   {
    "duration": 127,
    "start_time": "2024-01-26T16:34:19.527Z"
   },
   {
    "duration": 128,
    "start_time": "2024-01-26T16:34:29.659Z"
   },
   {
    "duration": 5,
    "start_time": "2024-01-26T16:34:58.506Z"
   },
   {
    "duration": 2,
    "start_time": "2024-01-26T16:34:59.170Z"
   },
   {
    "duration": 4,
    "start_time": "2024-01-26T16:35:00.159Z"
   },
   {
    "duration": 4,
    "start_time": "2024-01-26T16:35:02.247Z"
   },
   {
    "duration": 126,
    "start_time": "2024-01-26T16:35:10.188Z"
   },
   {
    "duration": 290,
    "start_time": "2024-01-26T16:35:35.860Z"
   },
   {
    "duration": 298,
    "start_time": "2024-01-26T16:39:11.532Z"
   },
   {
    "duration": 9,
    "start_time": "2024-01-26T16:39:19.230Z"
   },
   {
    "duration": 291,
    "start_time": "2024-01-26T16:39:34.553Z"
   },
   {
    "duration": 286,
    "start_time": "2024-01-26T16:40:17.259Z"
   },
   {
    "duration": 281,
    "start_time": "2024-01-26T16:40:33.653Z"
   },
   {
    "duration": 6,
    "start_time": "2024-01-26T16:41:46.512Z"
   },
   {
    "duration": 72,
    "start_time": "2024-01-26T16:42:00.273Z"
   },
   {
    "duration": 71,
    "start_time": "2024-01-26T16:42:26.887Z"
   },
   {
    "duration": 116,
    "start_time": "2024-01-26T16:43:18.751Z"
   },
   {
    "duration": 71,
    "start_time": "2024-01-26T16:44:40.839Z"
   },
   {
    "duration": 73,
    "start_time": "2024-01-26T16:44:52.995Z"
   },
   {
    "duration": 74,
    "start_time": "2024-01-26T16:45:50.222Z"
   },
   {
    "duration": 74,
    "start_time": "2024-01-26T16:46:50.587Z"
   },
   {
    "duration": 105,
    "start_time": "2024-01-26T16:47:59.482Z"
   },
   {
    "duration": 9,
    "start_time": "2024-01-26T16:48:08.497Z"
   },
   {
    "duration": 91,
    "start_time": "2024-01-26T16:48:23.368Z"
   },
   {
    "duration": 161,
    "start_time": "2024-01-26T16:48:30.623Z"
   },
   {
    "duration": 74,
    "start_time": "2024-01-26T16:48:38.246Z"
   },
   {
    "duration": 74,
    "start_time": "2024-01-26T16:48:45.563Z"
   },
   {
    "duration": 76,
    "start_time": "2024-01-26T16:49:29.504Z"
   },
   {
    "duration": 126,
    "start_time": "2024-01-26T16:51:56.433Z"
   },
   {
    "duration": 74,
    "start_time": "2024-01-26T16:52:06.382Z"
   },
   {
    "duration": 9,
    "start_time": "2024-01-26T16:52:09.549Z"
   },
   {
    "duration": 7,
    "start_time": "2024-01-26T16:52:10.410Z"
   },
   {
    "duration": 128,
    "start_time": "2024-01-26T16:52:12.107Z"
   },
   {
    "duration": 134,
    "start_time": "2024-01-26T16:52:51.647Z"
   },
   {
    "duration": 140,
    "start_time": "2024-01-26T16:53:33.585Z"
   },
   {
    "duration": 136,
    "start_time": "2024-01-26T16:53:51.567Z"
   },
   {
    "duration": 141,
    "start_time": "2024-01-26T16:54:08.054Z"
   },
   {
    "duration": 2,
    "start_time": "2024-01-26T16:54:20.334Z"
   },
   {
    "duration": 86,
    "start_time": "2024-01-26T16:54:21.142Z"
   },
   {
    "duration": 71,
    "start_time": "2024-01-26T16:54:36.777Z"
   },
   {
    "duration": 122,
    "start_time": "2024-01-26T16:54:48.664Z"
   },
   {
    "duration": 162,
    "start_time": "2024-01-26T16:57:58.682Z"
   },
   {
    "duration": 312,
    "start_time": "2024-01-26T17:02:14.870Z"
   },
   {
    "duration": 11,
    "start_time": "2024-01-26T17:03:44.301Z"
   },
   {
    "duration": 9,
    "start_time": "2024-01-26T17:04:02.705Z"
   },
   {
    "duration": 224,
    "start_time": "2024-01-26T17:04:09.191Z"
   },
   {
    "duration": 77,
    "start_time": "2024-01-26T17:19:57.910Z"
   },
   {
    "duration": 14,
    "start_time": "2024-01-26T17:26:18.389Z"
   },
   {
    "duration": 3,
    "start_time": "2024-01-26T17:27:15.098Z"
   },
   {
    "duration": 67,
    "start_time": "2024-01-26T17:27:15.698Z"
   },
   {
    "duration": 9,
    "start_time": "2024-01-26T17:27:15.877Z"
   },
   {
    "duration": 12,
    "start_time": "2024-01-26T17:27:16.072Z"
   },
   {
    "duration": 9,
    "start_time": "2024-01-26T17:27:16.457Z"
   },
   {
    "duration": 7,
    "start_time": "2024-01-26T17:27:16.658Z"
   },
   {
    "duration": 11,
    "start_time": "2024-01-26T17:27:16.859Z"
   },
   {
    "duration": 5,
    "start_time": "2024-01-26T17:27:17.240Z"
   },
   {
    "duration": 7,
    "start_time": "2024-01-26T17:27:17.457Z"
   },
   {
    "duration": 10,
    "start_time": "2024-01-26T17:27:17.657Z"
   },
   {
    "duration": 8,
    "start_time": "2024-01-26T17:27:18.082Z"
   },
   {
    "duration": 8,
    "start_time": "2024-01-26T17:27:19.551Z"
   },
   {
    "duration": 10,
    "start_time": "2024-01-26T17:27:21.214Z"
   },
   {
    "duration": 5,
    "start_time": "2024-01-26T17:27:22.803Z"
   },
   {
    "duration": 24,
    "start_time": "2024-01-26T17:27:23.849Z"
   },
   {
    "duration": 14,
    "start_time": "2024-01-26T17:27:25.238Z"
   },
   {
    "duration": 7,
    "start_time": "2024-01-26T17:27:25.845Z"
   },
   {
    "duration": 5,
    "start_time": "2024-01-26T17:27:26.353Z"
   },
   {
    "duration": 6,
    "start_time": "2024-01-26T17:27:26.874Z"
   },
   {
    "duration": 11,
    "start_time": "2024-01-26T17:27:27.320Z"
   },
   {
    "duration": 5,
    "start_time": "2024-01-26T17:27:27.805Z"
   },
   {
    "duration": 7,
    "start_time": "2024-01-26T17:27:28.162Z"
   },
   {
    "duration": 6,
    "start_time": "2024-01-26T17:27:28.385Z"
   },
   {
    "duration": 6,
    "start_time": "2024-01-26T17:27:28.587Z"
   },
   {
    "duration": 5,
    "start_time": "2024-01-26T17:27:30.322Z"
   },
   {
    "duration": 2,
    "start_time": "2024-01-26T17:27:30.686Z"
   },
   {
    "duration": 4,
    "start_time": "2024-01-26T17:27:31.217Z"
   },
   {
    "duration": 5,
    "start_time": "2024-01-26T17:27:31.534Z"
   },
   {
    "duration": 141,
    "start_time": "2024-01-26T17:27:32.287Z"
   },
   {
    "duration": 2,
    "start_time": "2024-01-26T17:27:34.458Z"
   },
   {
    "duration": 79,
    "start_time": "2024-01-26T17:27:35.943Z"
   },
   {
    "duration": 8,
    "start_time": "2024-01-26T17:27:38.471Z"
   },
   {
    "duration": 10,
    "start_time": "2024-01-26T17:27:38.981Z"
   },
   {
    "duration": 137,
    "start_time": "2024-01-26T17:27:40.351Z"
   },
   {
    "duration": 10,
    "start_time": "2024-01-26T17:27:41.900Z"
   },
   {
    "duration": 170,
    "start_time": "2024-01-26T17:27:43.171Z"
   },
   {
    "duration": 8,
    "start_time": "2024-01-26T17:27:44.351Z"
   },
   {
    "duration": 129,
    "start_time": "2024-01-26T17:27:44.729Z"
   },
   {
    "duration": 326,
    "start_time": "2024-01-26T17:27:45.589Z"
   },
   {
    "duration": 10,
    "start_time": "2024-01-26T17:27:47.573Z"
   },
   {
    "duration": 113,
    "start_time": "2024-01-26T17:27:48.120Z"
   },
   {
    "duration": 13,
    "start_time": "2024-01-26T17:27:50.211Z"
   },
   {
    "duration": 13,
    "start_time": "2024-01-26T17:28:20.151Z"
   },
   {
    "duration": 16,
    "start_time": "2024-01-26T17:34:39.504Z"
   },
   {
    "duration": 22,
    "start_time": "2024-01-26T17:34:43.893Z"
   },
   {
    "duration": 3,
    "start_time": "2024-01-26T17:40:03.847Z"
   },
   {
    "duration": 3,
    "start_time": "2024-01-26T17:40:04.343Z"
   },
   {
    "duration": 4,
    "start_time": "2024-01-26T17:40:05.041Z"
   },
   {
    "duration": 6,
    "start_time": "2024-01-26T17:40:05.754Z"
   },
   {
    "duration": 4,
    "start_time": "2024-01-26T17:40:06.352Z"
   },
   {
    "duration": 5,
    "start_time": "2024-01-26T17:40:07.124Z"
   },
   {
    "duration": 2,
    "start_time": "2024-01-26T17:40:10.394Z"
   },
   {
    "duration": 3,
    "start_time": "2024-01-26T17:40:14.867Z"
   },
   {
    "duration": 13,
    "start_time": "2024-01-26T17:40:17.762Z"
   },
   {
    "duration": 3,
    "start_time": "2024-01-26T17:40:43.946Z"
   },
   {
    "duration": 4,
    "start_time": "2024-01-26T17:40:44.349Z"
   },
   {
    "duration": 5,
    "start_time": "2024-01-26T17:40:44.693Z"
   },
   {
    "duration": 4,
    "start_time": "2024-01-26T17:40:45.073Z"
   },
   {
    "duration": 5,
    "start_time": "2024-01-26T17:40:45.681Z"
   },
   {
    "duration": 4,
    "start_time": "2024-01-26T17:40:47.175Z"
   },
   {
    "duration": 3,
    "start_time": "2024-01-26T17:40:48.695Z"
   },
   {
    "duration": 14,
    "start_time": "2024-01-26T17:40:49.301Z"
   },
   {
    "duration": 4,
    "start_time": "2024-01-26T17:41:45.223Z"
   },
   {
    "duration": 25,
    "start_time": "2024-01-26T17:41:45.948Z"
   },
   {
    "duration": 16,
    "start_time": "2024-01-26T17:41:47.142Z"
   },
   {
    "duration": 9,
    "start_time": "2024-01-26T19:46:35.894Z"
   },
   {
    "duration": 8,
    "start_time": "2024-01-26T19:48:34.427Z"
   },
   {
    "duration": 1413,
    "start_time": "2024-01-27T13:25:48.781Z"
   },
   {
    "duration": 297,
    "start_time": "2024-01-27T13:25:50.196Z"
   },
   {
    "duration": 15,
    "start_time": "2024-01-27T13:25:50.494Z"
   },
   {
    "duration": 16,
    "start_time": "2024-01-27T13:25:50.512Z"
   },
   {
    "duration": 32,
    "start_time": "2024-01-27T13:25:50.530Z"
   },
   {
    "duration": 29,
    "start_time": "2024-01-27T13:25:50.563Z"
   },
   {
    "duration": 14,
    "start_time": "2024-01-27T13:25:50.594Z"
   },
   {
    "duration": 4,
    "start_time": "2024-01-27T13:25:50.610Z"
   },
   {
    "duration": 23,
    "start_time": "2024-01-27T13:25:50.615Z"
   },
   {
    "duration": 22,
    "start_time": "2024-01-27T13:25:50.642Z"
   },
   {
    "duration": 11,
    "start_time": "2024-01-27T13:25:50.665Z"
   },
   {
    "duration": 30,
    "start_time": "2024-01-27T13:25:50.677Z"
   },
   {
    "duration": 23,
    "start_time": "2024-01-27T13:25:50.709Z"
   },
   {
    "duration": 15,
    "start_time": "2024-01-27T13:25:50.734Z"
   },
   {
    "duration": 40,
    "start_time": "2024-01-27T13:25:50.750Z"
   },
   {
    "duration": 21,
    "start_time": "2024-01-27T13:25:50.792Z"
   },
   {
    "duration": 39,
    "start_time": "2024-01-27T13:25:50.815Z"
   },
   {
    "duration": 23,
    "start_time": "2024-01-27T13:25:50.855Z"
   },
   {
    "duration": 32,
    "start_time": "2024-01-27T13:25:50.880Z"
   },
   {
    "duration": 47,
    "start_time": "2024-01-27T13:25:50.914Z"
   },
   {
    "duration": 40,
    "start_time": "2024-01-27T13:25:50.963Z"
   },
   {
    "duration": 39,
    "start_time": "2024-01-27T13:25:51.004Z"
   },
   {
    "duration": 60,
    "start_time": "2024-01-27T13:25:51.045Z"
   },
   {
    "duration": 63,
    "start_time": "2024-01-27T13:25:51.107Z"
   },
   {
    "duration": 25,
    "start_time": "2024-01-27T13:25:51.172Z"
   },
   {
    "duration": 12,
    "start_time": "2024-01-27T13:25:51.198Z"
   },
   {
    "duration": 10,
    "start_time": "2024-01-27T13:25:51.211Z"
   },
   {
    "duration": 35,
    "start_time": "2024-01-27T13:25:51.225Z"
   },
   {
    "duration": 158,
    "start_time": "2024-01-27T13:25:51.261Z"
   },
   {
    "duration": 3,
    "start_time": "2024-01-27T13:25:51.421Z"
   },
   {
    "duration": 87,
    "start_time": "2024-01-27T13:25:51.425Z"
   },
   {
    "duration": 9,
    "start_time": "2024-01-27T13:25:51.514Z"
   },
   {
    "duration": 78,
    "start_time": "2024-01-27T13:25:51.525Z"
   },
   {
    "duration": 182,
    "start_time": "2024-01-27T13:25:51.604Z"
   },
   {
    "duration": 10,
    "start_time": "2024-01-27T13:25:51.787Z"
   },
   {
    "duration": 181,
    "start_time": "2024-01-27T13:25:51.799Z"
   },
   {
    "duration": 17,
    "start_time": "2024-01-27T13:25:51.982Z"
   },
   {
    "duration": 142,
    "start_time": "2024-01-27T13:25:52.001Z"
   },
   {
    "duration": 239,
    "start_time": "2024-01-27T13:25:52.145Z"
   },
   {
    "duration": 13,
    "start_time": "2024-01-27T13:25:52.386Z"
   },
   {
    "duration": 213,
    "start_time": "2024-01-27T13:25:52.401Z"
   },
   {
    "duration": 19,
    "start_time": "2024-01-27T13:25:52.616Z"
   },
   {
    "duration": 23,
    "start_time": "2024-01-27T13:25:52.636Z"
   },
   {
    "duration": 48,
    "start_time": "2024-01-27T13:25:52.661Z"
   },
   {
    "duration": 241,
    "start_time": "2024-01-27T13:25:52.711Z"
   },
   {
    "duration": 199,
    "start_time": "2024-01-27T13:25:52.954Z"
   },
   {
    "duration": 172,
    "start_time": "2024-01-27T13:25:53.155Z"
   },
   {
    "duration": 204,
    "start_time": "2024-01-27T13:25:53.331Z"
   },
   {
    "duration": 3,
    "start_time": "2024-01-27T13:25:53.536Z"
   },
   {
    "duration": 25,
    "start_time": "2024-01-27T13:25:53.541Z"
   },
   {
    "duration": 6,
    "start_time": "2024-01-27T13:25:53.567Z"
   },
   {
    "duration": 7,
    "start_time": "2024-01-27T13:25:53.575Z"
   },
   {
    "duration": 6,
    "start_time": "2024-01-27T13:25:53.584Z"
   },
   {
    "duration": 28,
    "start_time": "2024-01-27T13:25:53.591Z"
   },
   {
    "duration": 3,
    "start_time": "2024-01-27T13:25:53.620Z"
   },
   {
    "duration": 15,
    "start_time": "2024-01-27T13:25:53.625Z"
   },
   {
    "duration": 15,
    "start_time": "2024-01-27T13:25:53.642Z"
   },
   {
    "duration": 6,
    "start_time": "2024-01-27T13:25:53.659Z"
   },
   {
    "duration": 43,
    "start_time": "2024-01-27T13:25:53.666Z"
   },
   {
    "duration": 17,
    "start_time": "2024-01-27T13:25:53.711Z"
   },
   {
    "duration": 8,
    "start_time": "2024-01-27T13:25:53.730Z"
   },
   {
    "duration": 8,
    "start_time": "2024-01-27T13:25:53.740Z"
   },
   {
    "duration": 8,
    "start_time": "2024-01-27T13:25:53.749Z"
   },
   {
    "duration": 5,
    "start_time": "2024-01-27T13:25:53.758Z"
   },
   {
    "duration": 6,
    "start_time": "2024-01-27T13:25:53.791Z"
   },
   {
    "duration": 39,
    "start_time": "2024-01-27T13:25:53.799Z"
   },
   {
    "duration": 8,
    "start_time": "2024-01-27T13:25:53.840Z"
   },
   {
    "duration": 115,
    "start_time": "2024-01-27T13:28:22.725Z"
   },
   {
    "duration": 20,
    "start_time": "2024-01-27T13:29:10.569Z"
   },
   {
    "duration": 16,
    "start_time": "2024-01-27T13:29:36.865Z"
   },
   {
    "duration": 17,
    "start_time": "2024-01-27T13:29:47.140Z"
   },
   {
    "duration": 22,
    "start_time": "2024-01-27T13:30:16.288Z"
   },
   {
    "duration": 1322,
    "start_time": "2024-01-27T13:35:37.264Z"
   },
   {
    "duration": 1375,
    "start_time": "2024-01-27T13:35:44.014Z"
   },
   {
    "duration": 11,
    "start_time": "2024-01-27T13:36:43.741Z"
   },
   {
    "duration": 216,
    "start_time": "2024-01-27T13:43:23.815Z"
   },
   {
    "duration": 21,
    "start_time": "2024-01-27T13:43:35.300Z"
   },
   {
    "duration": 22,
    "start_time": "2024-01-27T13:47:17.103Z"
   },
   {
    "duration": 71,
    "start_time": "2024-01-27T13:47:17.804Z"
   },
   {
    "duration": 16,
    "start_time": "2024-01-27T13:47:46.540Z"
   },
   {
    "duration": 20,
    "start_time": "2024-01-27T13:51:32.982Z"
   },
   {
    "duration": 20,
    "start_time": "2024-01-27T13:53:12.758Z"
   },
   {
    "duration": 74,
    "start_time": "2024-01-27T13:53:15.089Z"
   },
   {
    "duration": 18,
    "start_time": "2024-01-27T13:53:30.480Z"
   },
   {
    "duration": 18,
    "start_time": "2024-01-27T13:53:36.773Z"
   },
   {
    "duration": 19,
    "start_time": "2024-01-27T13:54:20.807Z"
   },
   {
    "duration": 82,
    "start_time": "2024-01-27T13:54:21.856Z"
   },
   {
    "duration": 20,
    "start_time": "2024-01-27T13:56:03.773Z"
   },
   {
    "duration": 21,
    "start_time": "2024-01-27T13:56:31.132Z"
   },
   {
    "duration": 16,
    "start_time": "2024-01-27T13:56:34.440Z"
   },
   {
    "duration": 3,
    "start_time": "2024-01-27T13:56:41.362Z"
   },
   {
    "duration": 2,
    "start_time": "2024-01-27T13:56:41.935Z"
   },
   {
    "duration": 17,
    "start_time": "2024-01-27T13:56:42.480Z"
   },
   {
    "duration": 8,
    "start_time": "2024-01-27T13:56:47.435Z"
   },
   {
    "duration": 13,
    "start_time": "2024-01-27T13:56:54.327Z"
   },
   {
    "duration": 62,
    "start_time": "2024-01-27T14:00:06.828Z"
   },
   {
    "duration": 19,
    "start_time": "2024-01-27T14:00:08.806Z"
   },
   {
    "duration": 74,
    "start_time": "2024-01-27T14:01:47.605Z"
   },
   {
    "duration": 54,
    "start_time": "2024-01-27T14:01:54.430Z"
   },
   {
    "duration": 54,
    "start_time": "2024-01-27T14:02:09.257Z"
   },
   {
    "duration": 74,
    "start_time": "2024-01-27T14:03:07.317Z"
   },
   {
    "duration": 59,
    "start_time": "2024-01-27T14:03:27.705Z"
   },
   {
    "duration": 363,
    "start_time": "2024-01-27T14:08:45.884Z"
   },
   {
    "duration": 411,
    "start_time": "2024-01-27T14:09:41.114Z"
   },
   {
    "duration": 23,
    "start_time": "2024-01-27T14:09:47.376Z"
   },
   {
    "duration": 28,
    "start_time": "2024-01-27T14:11:48.732Z"
   },
   {
    "duration": 23,
    "start_time": "2024-01-27T14:11:50.349Z"
   },
   {
    "duration": 15,
    "start_time": "2024-01-27T14:16:47.701Z"
   },
   {
    "duration": 17,
    "start_time": "2024-01-27T14:17:01.256Z"
   },
   {
    "duration": 23,
    "start_time": "2024-01-27T14:17:02.231Z"
   },
   {
    "duration": 4,
    "start_time": "2024-01-27T14:17:26.602Z"
   },
   {
    "duration": 1132,
    "start_time": "2024-01-27T14:17:45.845Z"
   },
   {
    "duration": 67,
    "start_time": "2024-01-27T14:17:46.979Z"
   },
   {
    "duration": 14,
    "start_time": "2024-01-27T14:17:47.048Z"
   },
   {
    "duration": 12,
    "start_time": "2024-01-27T14:17:47.064Z"
   },
   {
    "duration": 12,
    "start_time": "2024-01-27T14:17:47.077Z"
   },
   {
    "duration": 11,
    "start_time": "2024-01-27T14:17:47.090Z"
   },
   {
    "duration": 11,
    "start_time": "2024-01-27T14:17:47.103Z"
   },
   {
    "duration": 5,
    "start_time": "2024-01-27T14:17:47.116Z"
   },
   {
    "duration": 11,
    "start_time": "2024-01-27T14:17:47.123Z"
   },
   {
    "duration": 11,
    "start_time": "2024-01-27T14:17:47.137Z"
   },
   {
    "duration": 13,
    "start_time": "2024-01-27T14:17:47.149Z"
   },
   {
    "duration": 9,
    "start_time": "2024-01-27T14:17:47.192Z"
   },
   {
    "duration": 19,
    "start_time": "2024-01-27T14:17:47.203Z"
   },
   {
    "duration": 4,
    "start_time": "2024-01-27T14:17:47.224Z"
   },
   {
    "duration": 24,
    "start_time": "2024-01-27T14:17:47.230Z"
   },
   {
    "duration": 36,
    "start_time": "2024-01-27T14:17:47.255Z"
   },
   {
    "duration": 9,
    "start_time": "2024-01-27T14:17:47.293Z"
   },
   {
    "duration": 6,
    "start_time": "2024-01-27T14:17:47.304Z"
   },
   {
    "duration": 13,
    "start_time": "2024-01-27T14:17:47.312Z"
   },
   {
    "duration": 11,
    "start_time": "2024-01-27T14:17:47.327Z"
   },
   {
    "duration": 6,
    "start_time": "2024-01-27T14:17:47.340Z"
   },
   {
    "duration": 16,
    "start_time": "2024-01-27T14:17:47.348Z"
   },
   {
    "duration": 9,
    "start_time": "2024-01-27T14:17:47.392Z"
   },
   {
    "duration": 6,
    "start_time": "2024-01-27T14:17:47.402Z"
   },
   {
    "duration": 10,
    "start_time": "2024-01-27T14:17:47.409Z"
   },
   {
    "duration": 11,
    "start_time": "2024-01-27T14:17:47.421Z"
   },
   {
    "duration": 11,
    "start_time": "2024-01-27T14:17:47.434Z"
   },
   {
    "duration": 18,
    "start_time": "2024-01-27T14:17:47.449Z"
   },
   {
    "duration": 153,
    "start_time": "2024-01-27T14:17:47.469Z"
   },
   {
    "duration": 3,
    "start_time": "2024-01-27T14:17:47.623Z"
   },
   {
    "duration": 92,
    "start_time": "2024-01-27T14:17:47.628Z"
   },
   {
    "duration": 9,
    "start_time": "2024-01-27T14:17:47.721Z"
   },
   {
    "duration": 14,
    "start_time": "2024-01-27T14:17:47.732Z"
   },
   {
    "duration": 157,
    "start_time": "2024-01-27T14:17:47.748Z"
   },
   {
    "duration": 8,
    "start_time": "2024-01-27T14:17:47.907Z"
   },
   {
    "duration": 178,
    "start_time": "2024-01-27T14:17:47.916Z"
   },
   {
    "duration": 8,
    "start_time": "2024-01-27T14:17:48.096Z"
   },
   {
    "duration": 139,
    "start_time": "2024-01-27T14:17:48.105Z"
   },
   {
    "duration": 227,
    "start_time": "2024-01-27T14:17:48.245Z"
   },
   {
    "duration": 18,
    "start_time": "2024-01-27T14:17:48.474Z"
   },
   {
    "duration": 200,
    "start_time": "2024-01-27T14:17:48.494Z"
   },
   {
    "duration": 16,
    "start_time": "2024-01-27T14:17:48.696Z"
   },
   {
    "duration": 29,
    "start_time": "2024-01-27T14:17:48.714Z"
   },
   {
    "duration": 36,
    "start_time": "2024-01-27T14:17:48.745Z"
   },
   {
    "duration": 186,
    "start_time": "2024-01-27T14:17:48.782Z"
   },
   {
    "duration": 159,
    "start_time": "2024-01-27T14:17:48.970Z"
   },
   {
    "duration": 168,
    "start_time": "2024-01-27T14:17:49.131Z"
   },
   {
    "duration": 190,
    "start_time": "2024-01-27T14:17:49.301Z"
   },
   {
    "duration": 3,
    "start_time": "2024-01-27T14:17:49.493Z"
   },
   {
    "duration": 9,
    "start_time": "2024-01-27T14:17:49.498Z"
   },
   {
    "duration": 4,
    "start_time": "2024-01-27T14:17:49.509Z"
   },
   {
    "duration": 4,
    "start_time": "2024-01-27T14:17:49.515Z"
   },
   {
    "duration": 5,
    "start_time": "2024-01-27T14:17:49.520Z"
   },
   {
    "duration": 4,
    "start_time": "2024-01-27T14:17:49.526Z"
   },
   {
    "duration": 6,
    "start_time": "2024-01-27T14:17:49.532Z"
   },
   {
    "duration": 37,
    "start_time": "2024-01-27T14:17:49.539Z"
   },
   {
    "duration": 143,
    "start_time": "2024-01-27T14:17:49.578Z"
   },
   {
    "duration": 0,
    "start_time": "2024-01-27T14:17:49.723Z"
   },
   {
    "duration": 0,
    "start_time": "2024-01-27T14:17:49.724Z"
   },
   {
    "duration": 0,
    "start_time": "2024-01-27T14:17:49.725Z"
   },
   {
    "duration": 0,
    "start_time": "2024-01-27T14:17:49.726Z"
   },
   {
    "duration": 0,
    "start_time": "2024-01-27T14:17:49.727Z"
   },
   {
    "duration": 0,
    "start_time": "2024-01-27T14:17:49.729Z"
   },
   {
    "duration": 0,
    "start_time": "2024-01-27T14:17:49.730Z"
   },
   {
    "duration": 0,
    "start_time": "2024-01-27T14:17:49.731Z"
   },
   {
    "duration": 0,
    "start_time": "2024-01-27T14:17:49.732Z"
   },
   {
    "duration": 0,
    "start_time": "2024-01-27T14:17:49.733Z"
   },
   {
    "duration": 0,
    "start_time": "2024-01-27T14:17:49.734Z"
   },
   {
    "duration": 0,
    "start_time": "2024-01-27T14:17:49.735Z"
   },
   {
    "duration": 0,
    "start_time": "2024-01-27T14:17:49.737Z"
   },
   {
    "duration": 0,
    "start_time": "2024-01-27T14:17:49.738Z"
   },
   {
    "duration": 14,
    "start_time": "2024-01-27T14:18:00.657Z"
   },
   {
    "duration": 15,
    "start_time": "2024-01-27T14:18:12.612Z"
   },
   {
    "duration": 8,
    "start_time": "2024-01-27T14:18:24.157Z"
   },
   {
    "duration": 8,
    "start_time": "2024-01-27T14:18:46.848Z"
   },
   {
    "duration": 43,
    "start_time": "2024-01-27T14:18:54.911Z"
   },
   {
    "duration": 15,
    "start_time": "2024-01-27T14:18:58.206Z"
   },
   {
    "duration": 24,
    "start_time": "2024-01-27T14:18:59.262Z"
   },
   {
    "duration": 8,
    "start_time": "2024-01-27T14:19:34.647Z"
   },
   {
    "duration": 18,
    "start_time": "2024-01-27T14:20:48.361Z"
   },
   {
    "duration": 2,
    "start_time": "2024-01-27T14:22:56.679Z"
   },
   {
    "duration": 8,
    "start_time": "2024-01-27T14:22:57.179Z"
   },
   {
    "duration": 14,
    "start_time": "2024-01-27T14:23:07.225Z"
   },
   {
    "duration": 16,
    "start_time": "2024-01-27T14:26:39.834Z"
   },
   {
    "duration": 17,
    "start_time": "2024-01-27T14:26:40.736Z"
   },
   {
    "duration": 15,
    "start_time": "2024-01-27T14:29:29.725Z"
   },
   {
    "duration": 15,
    "start_time": "2024-01-27T14:29:34.122Z"
   },
   {
    "duration": 14,
    "start_time": "2024-01-27T14:29:35.255Z"
   },
   {
    "duration": 9,
    "start_time": "2024-01-27T14:30:16.101Z"
   },
   {
    "duration": 15,
    "start_time": "2024-01-27T14:30:19.148Z"
   },
   {
    "duration": 19,
    "start_time": "2024-01-27T14:37:11.746Z"
   },
   {
    "duration": 15,
    "start_time": "2024-01-27T14:37:12.611Z"
   },
   {
    "duration": 8,
    "start_time": "2024-01-27T14:38:17.974Z"
   },
   {
    "duration": 13,
    "start_time": "2024-01-27T14:38:18.631Z"
   },
   {
    "duration": 1171,
    "start_time": "2024-01-27T14:38:54.088Z"
   },
   {
    "duration": 1081,
    "start_time": "2024-01-27T14:39:03.199Z"
   },
   {
    "duration": 10,
    "start_time": "2024-01-27T14:39:12.483Z"
   },
   {
    "duration": 3,
    "start_time": "2024-01-27T14:41:06.494Z"
   },
   {
    "duration": 8,
    "start_time": "2024-01-27T14:41:18.349Z"
   },
   {
    "duration": 4,
    "start_time": "2024-01-27T14:41:19.050Z"
   },
   {
    "duration": 14,
    "start_time": "2024-01-27T14:41:24.914Z"
   },
   {
    "duration": 8,
    "start_time": "2024-01-27T14:41:31.370Z"
   },
   {
    "duration": 15,
    "start_time": "2024-01-27T14:41:32.157Z"
   },
   {
    "duration": 1270,
    "start_time": "2024-01-27T14:42:09.456Z"
   },
   {
    "duration": 1193,
    "start_time": "2024-01-27T14:42:27.498Z"
   },
   {
    "duration": 8,
    "start_time": "2024-01-27T14:42:36.556Z"
   },
   {
    "duration": 8,
    "start_time": "2024-01-27T14:42:43.503Z"
   },
   {
    "duration": 14,
    "start_time": "2024-01-27T14:42:44.064Z"
   },
   {
    "duration": 9,
    "start_time": "2024-01-27T14:55:37.921Z"
   },
   {
    "duration": 15,
    "start_time": "2024-01-27T14:55:40.474Z"
   },
   {
    "duration": 7,
    "start_time": "2024-01-27T14:55:47.790Z"
   },
   {
    "duration": 15,
    "start_time": "2024-01-27T14:55:48.422Z"
   },
   {
    "duration": 7,
    "start_time": "2024-01-27T15:00:36.694Z"
   },
   {
    "duration": 7,
    "start_time": "2024-01-27T15:00:38.964Z"
   },
   {
    "duration": 14,
    "start_time": "2024-01-27T15:00:39.586Z"
   },
   {
    "duration": 7,
    "start_time": "2024-01-27T15:00:45.557Z"
   },
   {
    "duration": 17,
    "start_time": "2024-01-27T15:00:47.063Z"
   },
   {
    "duration": 15,
    "start_time": "2024-01-27T15:01:36.072Z"
   },
   {
    "duration": 19,
    "start_time": "2024-01-27T15:01:38.108Z"
   },
   {
    "duration": 76,
    "start_time": "2024-01-27T15:10:20.303Z"
   },
   {
    "duration": 36,
    "start_time": "2024-01-27T15:10:29.604Z"
   },
   {
    "duration": 23,
    "start_time": "2024-01-27T15:10:44.345Z"
   },
   {
    "duration": 30,
    "start_time": "2024-01-27T15:10:48.906Z"
   },
   {
    "duration": 71,
    "start_time": "2024-01-27T15:11:18.388Z"
   },
   {
    "duration": 31,
    "start_time": "2024-01-27T15:11:28.159Z"
   },
   {
    "duration": 27,
    "start_time": "2024-01-27T15:11:34.080Z"
   },
   {
    "duration": 310,
    "start_time": "2024-01-27T15:16:54.541Z"
   },
   {
    "duration": 17,
    "start_time": "2024-01-27T15:17:11.472Z"
   },
   {
    "duration": 27,
    "start_time": "2024-01-27T15:17:17.578Z"
   },
   {
    "duration": 27,
    "start_time": "2024-01-27T15:18:14.434Z"
   },
   {
    "duration": 30,
    "start_time": "2024-01-27T15:19:31.671Z"
   },
   {
    "duration": 21,
    "start_time": "2024-01-27T15:20:05.268Z"
   },
   {
    "duration": 30,
    "start_time": "2024-01-27T15:20:25.815Z"
   },
   {
    "duration": 31,
    "start_time": "2024-01-27T16:05:33.337Z"
   },
   {
    "duration": 1233,
    "start_time": "2024-01-27T19:15:55.810Z"
   },
   {
    "duration": 29,
    "start_time": "2024-01-27T19:19:02.343Z"
   },
   {
    "duration": 45,
    "start_time": "2024-01-28T13:25:14.809Z"
   },
   {
    "duration": 6,
    "start_time": "2024-01-28T13:25:17.148Z"
   },
   {
    "duration": 1262,
    "start_time": "2024-01-28T13:25:22.013Z"
   },
   {
    "duration": 194,
    "start_time": "2024-01-28T13:25:23.277Z"
   },
   {
    "duration": 14,
    "start_time": "2024-01-28T13:25:23.473Z"
   },
   {
    "duration": 15,
    "start_time": "2024-01-28T13:25:23.489Z"
   },
   {
    "duration": 33,
    "start_time": "2024-01-28T13:25:23.505Z"
   },
   {
    "duration": 23,
    "start_time": "2024-01-28T13:25:23.539Z"
   },
   {
    "duration": 36,
    "start_time": "2024-01-28T13:25:23.564Z"
   },
   {
    "duration": 42,
    "start_time": "2024-01-28T13:25:23.602Z"
   },
   {
    "duration": 37,
    "start_time": "2024-01-28T13:25:23.645Z"
   },
   {
    "duration": 22,
    "start_time": "2024-01-28T13:25:23.684Z"
   },
   {
    "duration": 30,
    "start_time": "2024-01-28T13:25:23.708Z"
   },
   {
    "duration": 28,
    "start_time": "2024-01-28T13:25:23.740Z"
   },
   {
    "duration": 11,
    "start_time": "2024-01-28T13:25:23.770Z"
   },
   {
    "duration": 13,
    "start_time": "2024-01-28T13:25:23.783Z"
   },
   {
    "duration": 30,
    "start_time": "2024-01-28T13:25:23.798Z"
   },
   {
    "duration": 33,
    "start_time": "2024-01-28T13:25:23.830Z"
   },
   {
    "duration": 29,
    "start_time": "2024-01-28T13:25:23.864Z"
   },
   {
    "duration": 26,
    "start_time": "2024-01-28T13:25:23.894Z"
   },
   {
    "duration": 31,
    "start_time": "2024-01-28T13:25:23.921Z"
   },
   {
    "duration": 20,
    "start_time": "2024-01-28T13:25:23.953Z"
   },
   {
    "duration": 28,
    "start_time": "2024-01-28T13:25:23.975Z"
   },
   {
    "duration": 20,
    "start_time": "2024-01-28T13:25:24.005Z"
   },
   {
    "duration": 30,
    "start_time": "2024-01-28T13:25:24.027Z"
   },
   {
    "duration": 30,
    "start_time": "2024-01-28T13:25:24.059Z"
   },
   {
    "duration": 24,
    "start_time": "2024-01-28T13:25:24.090Z"
   },
   {
    "duration": 26,
    "start_time": "2024-01-28T13:25:24.116Z"
   },
   {
    "duration": 33,
    "start_time": "2024-01-28T13:25:24.144Z"
   },
   {
    "duration": 18,
    "start_time": "2024-01-28T13:25:24.182Z"
   },
   {
    "duration": 139,
    "start_time": "2024-01-28T13:25:24.202Z"
   },
   {
    "duration": 2,
    "start_time": "2024-01-28T13:25:24.343Z"
   },
   {
    "duration": 102,
    "start_time": "2024-01-28T13:25:24.346Z"
   },
   {
    "duration": 7,
    "start_time": "2024-01-28T13:25:24.449Z"
   },
   {
    "duration": 26,
    "start_time": "2024-01-28T13:25:24.458Z"
   },
   {
    "duration": 129,
    "start_time": "2024-01-28T13:25:24.486Z"
   },
   {
    "duration": 7,
    "start_time": "2024-01-28T13:25:24.617Z"
   },
   {
    "duration": 172,
    "start_time": "2024-01-28T13:25:24.626Z"
   },
   {
    "duration": 8,
    "start_time": "2024-01-28T13:25:24.800Z"
   },
   {
    "duration": 120,
    "start_time": "2024-01-28T13:25:24.809Z"
   },
   {
    "duration": 210,
    "start_time": "2024-01-28T13:25:24.930Z"
   },
   {
    "duration": 7,
    "start_time": "2024-01-28T13:25:25.142Z"
   },
   {
    "duration": 206,
    "start_time": "2024-01-28T13:25:25.151Z"
   },
   {
    "duration": 19,
    "start_time": "2024-01-28T13:25:25.359Z"
   },
   {
    "duration": 29,
    "start_time": "2024-01-28T13:25:25.380Z"
   },
   {
    "duration": 22,
    "start_time": "2024-01-28T13:25:25.410Z"
   },
   {
    "duration": 193,
    "start_time": "2024-01-28T13:25:25.434Z"
   },
   {
    "duration": 153,
    "start_time": "2024-01-28T13:25:25.628Z"
   },
   {
    "duration": 171,
    "start_time": "2024-01-28T13:25:25.783Z"
   },
   {
    "duration": 170,
    "start_time": "2024-01-28T13:25:25.956Z"
   },
   {
    "duration": 2,
    "start_time": "2024-01-28T13:25:26.128Z"
   },
   {
    "duration": 28,
    "start_time": "2024-01-28T13:25:26.132Z"
   },
   {
    "duration": 44,
    "start_time": "2024-01-28T13:25:26.162Z"
   },
   {
    "duration": 30,
    "start_time": "2024-01-28T13:25:26.208Z"
   },
   {
    "duration": 32,
    "start_time": "2024-01-28T13:25:26.239Z"
   },
   {
    "duration": 22,
    "start_time": "2024-01-28T13:25:26.273Z"
   },
   {
    "duration": 44,
    "start_time": "2024-01-28T13:25:26.297Z"
   },
   {
    "duration": 25,
    "start_time": "2024-01-28T13:25:26.343Z"
   },
   {
    "duration": 57,
    "start_time": "2024-01-28T13:25:26.370Z"
   },
   {
    "duration": 39,
    "start_time": "2024-01-28T13:25:26.429Z"
   },
   {
    "duration": 23,
    "start_time": "2024-01-28T13:25:26.469Z"
   },
   {
    "duration": 37,
    "start_time": "2024-01-28T13:25:26.493Z"
   },
   {
    "duration": 107,
    "start_time": "2024-01-28T13:25:26.531Z"
   },
   {
    "duration": 0,
    "start_time": "2024-01-28T13:25:26.639Z"
   },
   {
    "duration": 0,
    "start_time": "2024-01-28T13:25:26.640Z"
   },
   {
    "duration": 0,
    "start_time": "2024-01-28T13:25:26.641Z"
   },
   {
    "duration": 0,
    "start_time": "2024-01-28T13:25:26.643Z"
   },
   {
    "duration": 0,
    "start_time": "2024-01-28T13:25:26.644Z"
   },
   {
    "duration": 0,
    "start_time": "2024-01-28T13:25:26.645Z"
   },
   {
    "duration": 0,
    "start_time": "2024-01-28T13:25:26.647Z"
   },
   {
    "duration": 0,
    "start_time": "2024-01-28T13:25:26.648Z"
   },
   {
    "duration": 0,
    "start_time": "2024-01-28T13:25:26.649Z"
   },
   {
    "duration": 0,
    "start_time": "2024-01-28T13:25:26.665Z"
   },
   {
    "duration": 0,
    "start_time": "2024-01-28T13:25:26.666Z"
   },
   {
    "duration": 24,
    "start_time": "2024-01-28T13:28:29.921Z"
   },
   {
    "duration": 22,
    "start_time": "2024-01-28T13:30:43.661Z"
   },
   {
    "duration": 26,
    "start_time": "2024-01-28T13:30:50.496Z"
   },
   {
    "duration": 12,
    "start_time": "2024-01-28T13:32:19.321Z"
   },
   {
    "duration": 9,
    "start_time": "2024-01-28T13:33:01.363Z"
   },
   {
    "duration": 13,
    "start_time": "2024-01-28T13:33:01.993Z"
   },
   {
    "duration": 19,
    "start_time": "2024-01-28T13:33:30.546Z"
   },
   {
    "duration": 12,
    "start_time": "2024-01-28T13:33:42.984Z"
   },
   {
    "duration": 4,
    "start_time": "2024-01-28T13:33:53.691Z"
   },
   {
    "duration": 17,
    "start_time": "2024-01-28T13:33:56.721Z"
   },
   {
    "duration": 215,
    "start_time": "2024-01-28T13:43:12.502Z"
   },
   {
    "duration": 19,
    "start_time": "2024-01-28T13:43:17.395Z"
   },
   {
    "duration": 27,
    "start_time": "2024-01-28T13:43:29.116Z"
   },
   {
    "duration": 16,
    "start_time": "2024-01-28T13:43:44.106Z"
   },
   {
    "duration": 14,
    "start_time": "2024-01-28T13:45:48.286Z"
   },
   {
    "duration": 13,
    "start_time": "2024-01-28T13:45:55.569Z"
   },
   {
    "duration": 12,
    "start_time": "2024-01-28T13:46:12.412Z"
   },
   {
    "duration": 12,
    "start_time": "2024-01-28T13:46:13.442Z"
   },
   {
    "duration": 4,
    "start_time": "2024-01-28T13:46:24.664Z"
   },
   {
    "duration": 10,
    "start_time": "2024-01-28T13:46:31.872Z"
   },
   {
    "duration": 17,
    "start_time": "2024-01-28T13:46:44.863Z"
   },
   {
    "duration": 17,
    "start_time": "2024-01-28T13:46:51.178Z"
   },
   {
    "duration": 18,
    "start_time": "2024-01-28T13:47:14.888Z"
   },
   {
    "duration": 18,
    "start_time": "2024-01-28T13:47:38.914Z"
   },
   {
    "duration": 13,
    "start_time": "2024-01-28T13:47:56.517Z"
   },
   {
    "duration": 25,
    "start_time": "2024-01-28T13:48:00.015Z"
   },
   {
    "duration": 4,
    "start_time": "2024-01-28T13:48:10.475Z"
   },
   {
    "duration": 18,
    "start_time": "2024-01-28T13:48:14.012Z"
   },
   {
    "duration": 10,
    "start_time": "2024-01-28T13:48:17.587Z"
   },
   {
    "duration": 13,
    "start_time": "2024-01-28T13:48:30.384Z"
   },
   {
    "duration": 18,
    "start_time": "2024-01-28T13:49:00.141Z"
   },
   {
    "duration": 7,
    "start_time": "2024-01-28T13:49:25.330Z"
   },
   {
    "duration": 20,
    "start_time": "2024-01-28T13:50:45.430Z"
   },
   {
    "duration": 18,
    "start_time": "2024-01-28T13:51:59.027Z"
   },
   {
    "duration": 23,
    "start_time": "2024-01-28T13:52:12.636Z"
   },
   {
    "duration": 19,
    "start_time": "2024-01-28T13:52:13.662Z"
   },
   {
    "duration": 1170,
    "start_time": "2024-01-28T13:52:34.767Z"
   },
   {
    "duration": 69,
    "start_time": "2024-01-28T13:52:35.939Z"
   },
   {
    "duration": 12,
    "start_time": "2024-01-28T13:52:36.010Z"
   },
   {
    "duration": 22,
    "start_time": "2024-01-28T13:52:36.024Z"
   },
   {
    "duration": 26,
    "start_time": "2024-01-28T13:52:36.048Z"
   },
   {
    "duration": 28,
    "start_time": "2024-01-28T13:52:36.076Z"
   },
   {
    "duration": 19,
    "start_time": "2024-01-28T13:52:36.105Z"
   },
   {
    "duration": 31,
    "start_time": "2024-01-28T13:52:36.125Z"
   },
   {
    "duration": 20,
    "start_time": "2024-01-28T13:52:36.157Z"
   },
   {
    "duration": 20,
    "start_time": "2024-01-28T13:52:36.179Z"
   },
   {
    "duration": 24,
    "start_time": "2024-01-28T13:52:36.200Z"
   },
   {
    "duration": 26,
    "start_time": "2024-01-28T13:52:36.226Z"
   },
   {
    "duration": 19,
    "start_time": "2024-01-28T13:52:36.254Z"
   },
   {
    "duration": 11,
    "start_time": "2024-01-28T13:52:36.275Z"
   },
   {
    "duration": 57,
    "start_time": "2024-01-28T13:52:36.287Z"
   },
   {
    "duration": 14,
    "start_time": "2024-01-28T13:52:36.346Z"
   },
   {
    "duration": 25,
    "start_time": "2024-01-28T13:52:36.362Z"
   },
   {
    "duration": 20,
    "start_time": "2024-01-28T13:52:36.389Z"
   },
   {
    "duration": 10,
    "start_time": "2024-01-28T13:52:36.411Z"
   },
   {
    "duration": 12,
    "start_time": "2024-01-28T13:52:36.422Z"
   },
   {
    "duration": 4,
    "start_time": "2024-01-28T13:52:36.436Z"
   },
   {
    "duration": 24,
    "start_time": "2024-01-28T13:52:36.442Z"
   },
   {
    "duration": 25,
    "start_time": "2024-01-28T13:52:36.467Z"
   },
   {
    "duration": 24,
    "start_time": "2024-01-28T13:52:36.494Z"
   },
   {
    "duration": 19,
    "start_time": "2024-01-28T13:52:36.520Z"
   },
   {
    "duration": 22,
    "start_time": "2024-01-28T13:52:36.541Z"
   },
   {
    "duration": 22,
    "start_time": "2024-01-28T13:52:36.565Z"
   },
   {
    "duration": 21,
    "start_time": "2024-01-28T13:52:36.591Z"
   },
   {
    "duration": 163,
    "start_time": "2024-01-28T13:52:36.614Z"
   },
   {
    "duration": 3,
    "start_time": "2024-01-28T13:52:36.778Z"
   },
   {
    "duration": 80,
    "start_time": "2024-01-28T13:52:36.782Z"
   },
   {
    "duration": 8,
    "start_time": "2024-01-28T13:52:36.864Z"
   },
   {
    "duration": 28,
    "start_time": "2024-01-28T13:52:36.873Z"
   },
   {
    "duration": 145,
    "start_time": "2024-01-28T13:52:36.902Z"
   },
   {
    "duration": 8,
    "start_time": "2024-01-28T13:52:37.048Z"
   },
   {
    "duration": 162,
    "start_time": "2024-01-28T13:52:37.065Z"
   },
   {
    "duration": 9,
    "start_time": "2024-01-28T13:52:37.228Z"
   },
   {
    "duration": 124,
    "start_time": "2024-01-28T13:52:37.238Z"
   },
   {
    "duration": 209,
    "start_time": "2024-01-28T13:52:37.364Z"
   },
   {
    "duration": 10,
    "start_time": "2024-01-28T13:52:37.574Z"
   },
   {
    "duration": 191,
    "start_time": "2024-01-28T13:52:37.586Z"
   },
   {
    "duration": 17,
    "start_time": "2024-01-28T13:52:37.779Z"
   },
   {
    "duration": 28,
    "start_time": "2024-01-28T13:52:37.798Z"
   },
   {
    "duration": 19,
    "start_time": "2024-01-28T13:52:37.828Z"
   },
   {
    "duration": 177,
    "start_time": "2024-01-28T13:52:37.866Z"
   },
   {
    "duration": 145,
    "start_time": "2024-01-28T13:52:38.045Z"
   },
   {
    "duration": 159,
    "start_time": "2024-01-28T13:52:38.192Z"
   },
   {
    "duration": 167,
    "start_time": "2024-01-28T13:52:38.352Z"
   },
   {
    "duration": 2,
    "start_time": "2024-01-28T13:52:38.521Z"
   },
   {
    "duration": 27,
    "start_time": "2024-01-28T13:52:38.524Z"
   },
   {
    "duration": 21,
    "start_time": "2024-01-28T13:52:38.553Z"
   },
   {
    "duration": 25,
    "start_time": "2024-01-28T13:52:38.575Z"
   },
   {
    "duration": 23,
    "start_time": "2024-01-28T13:52:38.601Z"
   },
   {
    "duration": 22,
    "start_time": "2024-01-28T13:52:38.625Z"
   },
   {
    "duration": 32,
    "start_time": "2024-01-28T13:52:38.648Z"
   },
   {
    "duration": 36,
    "start_time": "2024-01-28T13:52:38.682Z"
   },
   {
    "duration": 52,
    "start_time": "2024-01-28T13:52:38.719Z"
   },
   {
    "duration": 4,
    "start_time": "2024-01-28T13:52:38.773Z"
   },
   {
    "duration": 34,
    "start_time": "2024-01-28T13:52:38.778Z"
   },
   {
    "duration": 36,
    "start_time": "2024-01-28T13:52:38.814Z"
   },
   {
    "duration": 3,
    "start_time": "2024-01-28T13:52:38.851Z"
   },
   {
    "duration": 31,
    "start_time": "2024-01-28T13:52:38.855Z"
   },
   {
    "duration": 38,
    "start_time": "2024-01-28T13:52:38.888Z"
   },
   {
    "duration": 157,
    "start_time": "2024-01-28T13:52:38.928Z"
   },
   {
    "duration": 0,
    "start_time": "2024-01-28T13:52:39.087Z"
   },
   {
    "duration": 0,
    "start_time": "2024-01-28T13:52:39.088Z"
   },
   {
    "duration": 0,
    "start_time": "2024-01-28T13:52:39.089Z"
   },
   {
    "duration": 0,
    "start_time": "2024-01-28T13:52:39.090Z"
   },
   {
    "duration": 0,
    "start_time": "2024-01-28T13:52:39.091Z"
   },
   {
    "duration": 0,
    "start_time": "2024-01-28T13:52:39.092Z"
   },
   {
    "duration": 0,
    "start_time": "2024-01-28T13:52:39.093Z"
   },
   {
    "duration": 0,
    "start_time": "2024-01-28T13:52:39.094Z"
   },
   {
    "duration": 23,
    "start_time": "2024-01-28T13:53:36.220Z"
   },
   {
    "duration": 22,
    "start_time": "2024-01-28T13:55:12.379Z"
   },
   {
    "duration": 22,
    "start_time": "2024-01-28T13:56:39.938Z"
   },
   {
    "duration": 26,
    "start_time": "2024-01-28T13:58:35.861Z"
   },
   {
    "duration": 1240,
    "start_time": "2024-01-28T14:01:13.139Z"
   },
   {
    "duration": 9,
    "start_time": "2024-01-28T14:01:15.200Z"
   },
   {
    "duration": 1963,
    "start_time": "2024-01-28T14:01:26.112Z"
   },
   {
    "duration": 343,
    "start_time": "2024-01-28T14:01:31.104Z"
   },
   {
    "duration": 6,
    "start_time": "2024-01-28T14:02:01.432Z"
   },
   {
    "duration": 7,
    "start_time": "2024-01-28T14:02:06.622Z"
   },
   {
    "duration": 35,
    "start_time": "2024-01-28T14:05:19.156Z"
   },
   {
    "duration": 38,
    "start_time": "2024-01-28T14:05:53.237Z"
   },
   {
    "duration": 39,
    "start_time": "2024-01-28T14:06:39.328Z"
   },
   {
    "duration": 42,
    "start_time": "2024-01-28T14:07:26.051Z"
   },
   {
    "duration": 14,
    "start_time": "2024-01-28T14:08:42.582Z"
   },
   {
    "duration": 1275,
    "start_time": "2024-01-28T14:11:34.461Z"
   },
   {
    "duration": 0,
    "start_time": "2024-01-28T14:11:35.738Z"
   },
   {
    "duration": 1196,
    "start_time": "2024-01-28T14:12:09.074Z"
   },
   {
    "duration": 15,
    "start_time": "2024-01-28T14:12:10.341Z"
   },
   {
    "duration": 35,
    "start_time": "2024-01-28T14:12:25.956Z"
   },
   {
    "duration": 34,
    "start_time": "2024-01-28T14:12:28.014Z"
   },
   {
    "duration": 38,
    "start_time": "2024-01-28T14:12:45.697Z"
   },
   {
    "duration": 36,
    "start_time": "2024-01-28T14:12:51.333Z"
   },
   {
    "duration": 1416,
    "start_time": "2024-01-28T14:12:52.469Z"
   },
   {
    "duration": 35,
    "start_time": "2024-01-28T14:13:58.583Z"
   },
   {
    "duration": 1242,
    "start_time": "2024-01-28T14:14:00.322Z"
   },
   {
    "duration": 35,
    "start_time": "2024-01-28T14:14:26.494Z"
   },
   {
    "duration": 4,
    "start_time": "2024-01-28T14:14:28.845Z"
   },
   {
    "duration": 17,
    "start_time": "2024-01-28T14:14:36.234Z"
   },
   {
    "duration": 38,
    "start_time": "2024-01-28T14:15:33.823Z"
   },
   {
    "duration": 5,
    "start_time": "2024-01-28T14:15:34.817Z"
   },
   {
    "duration": 18,
    "start_time": "2024-01-28T14:15:36.506Z"
   },
   {
    "duration": 23,
    "start_time": "2024-01-28T14:16:19.767Z"
   },
   {
    "duration": 37,
    "start_time": "2024-01-28T14:16:20.850Z"
   },
   {
    "duration": 5,
    "start_time": "2024-01-28T14:16:21.988Z"
   },
   {
    "duration": 17,
    "start_time": "2024-01-28T14:16:23.235Z"
   },
   {
    "duration": 2,
    "start_time": "2024-01-28T14:16:26.241Z"
   },
   {
    "duration": 4,
    "start_time": "2024-01-28T14:16:48.279Z"
   },
   {
    "duration": 24,
    "start_time": "2024-01-28T14:16:49.830Z"
   },
   {
    "duration": 17,
    "start_time": "2024-01-28T14:16:50.464Z"
   },
   {
    "duration": 5,
    "start_time": "2024-01-28T14:16:51.792Z"
   },
   {
    "duration": 16,
    "start_time": "2024-01-28T14:16:53.230Z"
   },
   {
    "duration": 1047,
    "start_time": "2024-01-28T14:16:59.002Z"
   },
   {
    "duration": 70,
    "start_time": "2024-01-28T14:17:00.051Z"
   },
   {
    "duration": 13,
    "start_time": "2024-01-28T14:17:00.122Z"
   },
   {
    "duration": 33,
    "start_time": "2024-01-28T14:17:00.137Z"
   },
   {
    "duration": 54,
    "start_time": "2024-01-28T14:17:00.171Z"
   },
   {
    "duration": 52,
    "start_time": "2024-01-28T14:17:00.226Z"
   },
   {
    "duration": 59,
    "start_time": "2024-01-28T14:17:00.280Z"
   },
   {
    "duration": 54,
    "start_time": "2024-01-28T14:17:00.341Z"
   },
   {
    "duration": 54,
    "start_time": "2024-01-28T14:17:00.397Z"
   },
   {
    "duration": 59,
    "start_time": "2024-01-28T14:17:00.453Z"
   },
   {
    "duration": 45,
    "start_time": "2024-01-28T14:17:00.514Z"
   },
   {
    "duration": 81,
    "start_time": "2024-01-28T14:17:00.561Z"
   },
   {
    "duration": 46,
    "start_time": "2024-01-28T14:17:00.643Z"
   },
   {
    "duration": 45,
    "start_time": "2024-01-28T14:17:00.691Z"
   },
   {
    "duration": 47,
    "start_time": "2024-01-28T14:17:00.737Z"
   },
   {
    "duration": 39,
    "start_time": "2024-01-28T14:17:00.785Z"
   },
   {
    "duration": 72,
    "start_time": "2024-01-28T14:17:00.825Z"
   },
   {
    "duration": 40,
    "start_time": "2024-01-28T14:17:00.898Z"
   },
   {
    "duration": 49,
    "start_time": "2024-01-28T14:17:00.940Z"
   },
   {
    "duration": 59,
    "start_time": "2024-01-28T14:17:00.991Z"
   },
   {
    "duration": 29,
    "start_time": "2024-01-28T14:17:01.052Z"
   },
   {
    "duration": 69,
    "start_time": "2024-01-28T14:17:01.083Z"
   },
   {
    "duration": 40,
    "start_time": "2024-01-28T14:17:01.154Z"
   },
   {
    "duration": 70,
    "start_time": "2024-01-28T14:17:01.195Z"
   },
   {
    "duration": 45,
    "start_time": "2024-01-28T14:17:01.266Z"
   },
   {
    "duration": 29,
    "start_time": "2024-01-28T14:17:01.313Z"
   },
   {
    "duration": 35,
    "start_time": "2024-01-28T14:17:01.343Z"
   },
   {
    "duration": 30,
    "start_time": "2024-01-28T14:17:01.382Z"
   },
   {
    "duration": 172,
    "start_time": "2024-01-28T14:17:01.413Z"
   },
   {
    "duration": 3,
    "start_time": "2024-01-28T14:17:01.586Z"
   },
   {
    "duration": 146,
    "start_time": "2024-01-28T14:17:01.591Z"
   },
   {
    "duration": 7,
    "start_time": "2024-01-28T14:17:01.738Z"
   },
   {
    "duration": 32,
    "start_time": "2024-01-28T14:17:01.747Z"
   },
   {
    "duration": 145,
    "start_time": "2024-01-28T14:17:01.780Z"
   },
   {
    "duration": 7,
    "start_time": "2024-01-28T14:17:01.927Z"
   },
   {
    "duration": 186,
    "start_time": "2024-01-28T14:17:01.935Z"
   },
   {
    "duration": 9,
    "start_time": "2024-01-28T14:17:02.123Z"
   },
   {
    "duration": 127,
    "start_time": "2024-01-28T14:17:02.133Z"
   },
   {
    "duration": 210,
    "start_time": "2024-01-28T14:17:02.262Z"
   },
   {
    "duration": 8,
    "start_time": "2024-01-28T14:17:02.474Z"
   },
   {
    "duration": 204,
    "start_time": "2024-01-28T14:17:02.483Z"
   },
   {
    "duration": 16,
    "start_time": "2024-01-28T14:17:02.688Z"
   },
   {
    "duration": 38,
    "start_time": "2024-01-28T14:17:02.706Z"
   },
   {
    "duration": 25,
    "start_time": "2024-01-28T14:17:02.745Z"
   },
   {
    "duration": 184,
    "start_time": "2024-01-28T14:17:02.771Z"
   },
   {
    "duration": 146,
    "start_time": "2024-01-28T14:17:02.957Z"
   },
   {
    "duration": 146,
    "start_time": "2024-01-28T14:17:03.104Z"
   },
   {
    "duration": 174,
    "start_time": "2024-01-28T14:17:03.252Z"
   },
   {
    "duration": 3,
    "start_time": "2024-01-28T14:17:03.427Z"
   },
   {
    "duration": 26,
    "start_time": "2024-01-28T14:17:03.432Z"
   },
   {
    "duration": 29,
    "start_time": "2024-01-28T14:17:03.459Z"
   },
   {
    "duration": 29,
    "start_time": "2024-01-28T14:17:03.490Z"
   },
   {
    "duration": 36,
    "start_time": "2024-01-28T14:17:03.520Z"
   },
   {
    "duration": 29,
    "start_time": "2024-01-28T14:17:03.557Z"
   },
   {
    "duration": 24,
    "start_time": "2024-01-28T14:17:03.588Z"
   },
   {
    "duration": 28,
    "start_time": "2024-01-28T14:17:03.614Z"
   },
   {
    "duration": 34,
    "start_time": "2024-01-28T14:17:03.644Z"
   },
   {
    "duration": 20,
    "start_time": "2024-01-28T14:17:03.680Z"
   },
   {
    "duration": 44,
    "start_time": "2024-01-28T14:17:03.701Z"
   },
   {
    "duration": 60,
    "start_time": "2024-01-28T14:17:03.747Z"
   },
   {
    "duration": 14,
    "start_time": "2024-01-28T14:17:03.809Z"
   },
   {
    "duration": 34,
    "start_time": "2024-01-28T14:17:03.824Z"
   },
   {
    "duration": 29,
    "start_time": "2024-01-28T14:17:03.859Z"
   },
   {
    "duration": 1210,
    "start_time": "2024-01-28T14:17:03.889Z"
   },
   {
    "duration": 0,
    "start_time": "2024-01-28T14:17:05.101Z"
   },
   {
    "duration": 0,
    "start_time": "2024-01-28T14:17:05.103Z"
   },
   {
    "duration": 0,
    "start_time": "2024-01-28T14:17:05.104Z"
   },
   {
    "duration": 0,
    "start_time": "2024-01-28T14:17:05.105Z"
   },
   {
    "duration": 0,
    "start_time": "2024-01-28T14:17:05.106Z"
   },
   {
    "duration": 0,
    "start_time": "2024-01-28T14:17:05.108Z"
   },
   {
    "duration": 0,
    "start_time": "2024-01-28T14:17:05.109Z"
   },
   {
    "duration": 0,
    "start_time": "2024-01-28T14:17:05.111Z"
   },
   {
    "duration": 3,
    "start_time": "2024-01-28T14:18:04.999Z"
   },
   {
    "duration": 26,
    "start_time": "2024-01-28T14:18:05.655Z"
   },
   {
    "duration": 16,
    "start_time": "2024-01-28T14:18:06.331Z"
   },
   {
    "duration": 3,
    "start_time": "2024-01-28T14:18:43.954Z"
   },
   {
    "duration": 27,
    "start_time": "2024-01-28T14:18:44.689Z"
   },
   {
    "duration": 18,
    "start_time": "2024-01-28T14:18:45.448Z"
   },
   {
    "duration": 1446,
    "start_time": "2024-01-28T14:18:46.647Z"
   },
   {
    "duration": 0,
    "start_time": "2024-01-28T14:18:48.094Z"
   },
   {
    "duration": 25,
    "start_time": "2024-01-28T14:19:06.146Z"
   },
   {
    "duration": 17,
    "start_time": "2024-01-28T14:19:06.854Z"
   },
   {
    "duration": 6,
    "start_time": "2024-01-28T14:19:07.693Z"
   },
   {
    "duration": 19,
    "start_time": "2024-01-28T14:19:09.607Z"
   },
   {
    "duration": 17,
    "start_time": "2024-01-28T14:20:27.105Z"
   },
   {
    "duration": 27,
    "start_time": "2024-01-28T14:22:15.381Z"
   },
   {
    "duration": 16,
    "start_time": "2024-01-28T14:22:15.953Z"
   },
   {
    "duration": 5,
    "start_time": "2024-01-28T14:22:16.528Z"
   },
   {
    "duration": 17,
    "start_time": "2024-01-28T14:22:18.218Z"
   },
   {
    "duration": 139,
    "start_time": "2024-01-28T14:38:17.915Z"
   },
   {
    "duration": 16,
    "start_time": "2024-01-28T14:38:20.383Z"
   },
   {
    "duration": 1155,
    "start_time": "2024-01-28T14:38:35.861Z"
   },
   {
    "duration": 135,
    "start_time": "2024-01-28T14:38:39.928Z"
   },
   {
    "duration": 15,
    "start_time": "2024-01-28T14:39:15.204Z"
   },
   {
    "duration": 131,
    "start_time": "2024-01-28T14:39:24.474Z"
   },
   {
    "duration": 265,
    "start_time": "2024-01-28T14:40:06.895Z"
   },
   {
    "duration": 196,
    "start_time": "2024-01-28T14:40:09.032Z"
   },
   {
    "duration": 103,
    "start_time": "2024-01-28T14:40:39.033Z"
   },
   {
    "duration": 7531,
    "start_time": "2024-01-28T14:43:03.323Z"
   },
   {
    "duration": 29,
    "start_time": "2024-01-28T14:43:10.855Z"
   },
   {
    "duration": 124,
    "start_time": "2024-01-28T14:43:46.355Z"
   },
   {
    "duration": 9,
    "start_time": "2024-01-28T14:43:47.746Z"
   },
   {
    "duration": 139,
    "start_time": "2024-01-28T14:46:33.124Z"
   },
   {
    "duration": 17,
    "start_time": "2024-01-28T14:49:59.433Z"
   },
   {
    "duration": 13,
    "start_time": "2024-01-28T14:52:15.359Z"
   },
   {
    "duration": 10,
    "start_time": "2024-01-28T14:53:13.410Z"
   },
   {
    "duration": 1273,
    "start_time": "2024-01-28T14:53:25.172Z"
   },
   {
    "duration": 70,
    "start_time": "2024-01-28T14:53:26.446Z"
   },
   {
    "duration": 13,
    "start_time": "2024-01-28T14:53:26.517Z"
   },
   {
    "duration": 10,
    "start_time": "2024-01-28T14:53:26.532Z"
   },
   {
    "duration": 11,
    "start_time": "2024-01-28T14:53:26.544Z"
   },
   {
    "duration": 17,
    "start_time": "2024-01-28T14:53:26.556Z"
   },
   {
    "duration": 11,
    "start_time": "2024-01-28T14:53:26.575Z"
   },
   {
    "duration": 4,
    "start_time": "2024-01-28T14:53:26.588Z"
   },
   {
    "duration": 10,
    "start_time": "2024-01-28T14:53:26.593Z"
   },
   {
    "duration": 10,
    "start_time": "2024-01-28T14:53:26.607Z"
   },
   {
    "duration": 14,
    "start_time": "2024-01-28T14:53:26.619Z"
   },
   {
    "duration": 43,
    "start_time": "2024-01-28T14:53:26.635Z"
   },
   {
    "duration": 14,
    "start_time": "2024-01-28T14:53:26.681Z"
   },
   {
    "duration": 6,
    "start_time": "2024-01-28T14:53:26.697Z"
   },
   {
    "duration": 27,
    "start_time": "2024-01-28T14:53:26.705Z"
   },
   {
    "duration": 32,
    "start_time": "2024-01-28T14:53:26.733Z"
   },
   {
    "duration": 6,
    "start_time": "2024-01-28T14:53:26.767Z"
   },
   {
    "duration": 19,
    "start_time": "2024-01-28T14:53:26.774Z"
   },
   {
    "duration": 8,
    "start_time": "2024-01-28T14:53:26.796Z"
   },
   {
    "duration": 9,
    "start_time": "2024-01-28T14:53:26.805Z"
   },
   {
    "duration": 5,
    "start_time": "2024-01-28T14:53:26.815Z"
   },
   {
    "duration": 12,
    "start_time": "2024-01-28T14:53:26.821Z"
   },
   {
    "duration": 8,
    "start_time": "2024-01-28T14:53:26.835Z"
   },
   {
    "duration": 23,
    "start_time": "2024-01-28T14:53:26.845Z"
   },
   {
    "duration": 4,
    "start_time": "2024-01-28T14:53:26.870Z"
   },
   {
    "duration": 6,
    "start_time": "2024-01-28T14:53:26.875Z"
   },
   {
    "duration": 11,
    "start_time": "2024-01-28T14:53:26.882Z"
   },
   {
    "duration": 4,
    "start_time": "2024-01-28T14:53:26.897Z"
   },
   {
    "duration": 147,
    "start_time": "2024-01-28T14:53:26.902Z"
   },
   {
    "duration": 2,
    "start_time": "2024-01-28T14:53:27.050Z"
   },
   {
    "duration": 86,
    "start_time": "2024-01-28T14:53:27.053Z"
   },
   {
    "duration": 16,
    "start_time": "2024-01-28T14:53:27.141Z"
   },
   {
    "duration": 18,
    "start_time": "2024-01-28T14:53:27.159Z"
   },
   {
    "duration": 148,
    "start_time": "2024-01-28T14:53:27.178Z"
   },
   {
    "duration": 8,
    "start_time": "2024-01-28T14:53:27.328Z"
   },
   {
    "duration": 164,
    "start_time": "2024-01-28T14:53:27.338Z"
   },
   {
    "duration": 10,
    "start_time": "2024-01-28T14:53:27.503Z"
   },
   {
    "duration": 127,
    "start_time": "2024-01-28T14:53:27.514Z"
   },
   {
    "duration": 268,
    "start_time": "2024-01-28T14:53:27.643Z"
   },
   {
    "duration": 8,
    "start_time": "2024-01-28T14:53:27.913Z"
   },
   {
    "duration": 122,
    "start_time": "2024-01-28T14:53:27.922Z"
   },
   {
    "duration": 20,
    "start_time": "2024-01-28T14:53:28.045Z"
   },
   {
    "duration": 20,
    "start_time": "2024-01-28T14:53:28.067Z"
   },
   {
    "duration": 18,
    "start_time": "2024-01-28T14:53:28.088Z"
   },
   {
    "duration": 112,
    "start_time": "2024-01-28T14:53:28.107Z"
   },
   {
    "duration": 0,
    "start_time": "2024-01-28T14:53:28.221Z"
   },
   {
    "duration": 0,
    "start_time": "2024-01-28T14:53:28.222Z"
   },
   {
    "duration": 0,
    "start_time": "2024-01-28T14:53:28.223Z"
   },
   {
    "duration": 0,
    "start_time": "2024-01-28T14:53:28.225Z"
   },
   {
    "duration": 0,
    "start_time": "2024-01-28T14:53:28.227Z"
   },
   {
    "duration": 0,
    "start_time": "2024-01-28T14:53:28.228Z"
   },
   {
    "duration": 0,
    "start_time": "2024-01-28T14:53:28.229Z"
   },
   {
    "duration": 0,
    "start_time": "2024-01-28T14:53:28.231Z"
   },
   {
    "duration": 0,
    "start_time": "2024-01-28T14:53:28.232Z"
   },
   {
    "duration": 0,
    "start_time": "2024-01-28T14:53:28.234Z"
   },
   {
    "duration": 0,
    "start_time": "2024-01-28T14:53:28.236Z"
   },
   {
    "duration": 0,
    "start_time": "2024-01-28T14:53:28.237Z"
   },
   {
    "duration": 0,
    "start_time": "2024-01-28T14:53:28.266Z"
   },
   {
    "duration": 0,
    "start_time": "2024-01-28T14:53:28.268Z"
   },
   {
    "duration": 0,
    "start_time": "2024-01-28T14:53:28.269Z"
   },
   {
    "duration": 0,
    "start_time": "2024-01-28T14:53:28.270Z"
   },
   {
    "duration": 0,
    "start_time": "2024-01-28T14:53:28.272Z"
   },
   {
    "duration": 0,
    "start_time": "2024-01-28T14:53:28.273Z"
   },
   {
    "duration": 14,
    "start_time": "2024-01-28T14:53:46.782Z"
   },
   {
    "duration": 103,
    "start_time": "2024-01-28T14:53:57.027Z"
   },
   {
    "duration": 181,
    "start_time": "2024-01-28T14:57:24.130Z"
   },
   {
    "duration": 248,
    "start_time": "2024-01-28T14:57:37.105Z"
   },
   {
    "duration": 268,
    "start_time": "2024-01-28T14:59:48.519Z"
   },
   {
    "duration": 302,
    "start_time": "2024-01-28T15:01:11.390Z"
   },
   {
    "duration": 383,
    "start_time": "2024-01-28T15:01:34.343Z"
   },
   {
    "duration": 293,
    "start_time": "2024-01-28T15:03:00.972Z"
   },
   {
    "duration": 322,
    "start_time": "2024-01-28T15:03:06.698Z"
   },
   {
    "duration": 333,
    "start_time": "2024-01-28T15:03:11.234Z"
   },
   {
    "duration": 376,
    "start_time": "2024-01-28T15:03:35.595Z"
   },
   {
    "duration": 418,
    "start_time": "2024-01-28T15:03:41.432Z"
   },
   {
    "duration": 337,
    "start_time": "2024-01-28T15:03:48.955Z"
   },
   {
    "duration": 347,
    "start_time": "2024-01-28T15:03:56.131Z"
   },
   {
    "duration": 332,
    "start_time": "2024-01-28T15:04:16.252Z"
   },
   {
    "duration": 329,
    "start_time": "2024-01-28T15:04:29.036Z"
   },
   {
    "duration": 334,
    "start_time": "2024-01-28T15:05:28.176Z"
   },
   {
    "duration": 474,
    "start_time": "2024-01-28T15:05:42.401Z"
   },
   {
    "duration": 11,
    "start_time": "2024-01-28T15:08:59.286Z"
   },
   {
    "duration": 8,
    "start_time": "2024-01-28T15:09:11.380Z"
   },
   {
    "duration": 9,
    "start_time": "2024-01-28T15:09:44.828Z"
   },
   {
    "duration": 8,
    "start_time": "2024-01-28T15:09:49.987Z"
   },
   {
    "duration": 81,
    "start_time": "2024-01-28T15:14:04.540Z"
   },
   {
    "duration": 107,
    "start_time": "2024-01-28T15:14:18.941Z"
   },
   {
    "duration": 335,
    "start_time": "2024-01-28T15:16:49.826Z"
   },
   {
    "duration": 379,
    "start_time": "2024-01-28T15:16:59.748Z"
   },
   {
    "duration": 487,
    "start_time": "2024-01-28T15:17:05.509Z"
   },
   {
    "duration": 545,
    "start_time": "2024-01-28T15:17:55.545Z"
   },
   {
    "duration": 433,
    "start_time": "2024-01-28T15:18:47.050Z"
   },
   {
    "duration": 434,
    "start_time": "2024-01-28T15:18:54.452Z"
   },
   {
    "duration": 441,
    "start_time": "2024-01-28T15:19:02.704Z"
   },
   {
    "duration": 431,
    "start_time": "2024-01-28T15:19:11.878Z"
   },
   {
    "duration": 8,
    "start_time": "2024-01-28T15:19:13.239Z"
   },
   {
    "duration": 8,
    "start_time": "2024-01-28T15:19:14.318Z"
   },
   {
    "duration": 8,
    "start_time": "2024-01-28T15:21:04.350Z"
   },
   {
    "duration": 8,
    "start_time": "2024-01-28T15:21:04.768Z"
   },
   {
    "duration": 10,
    "start_time": "2024-01-28T17:25:55.343Z"
   },
   {
    "duration": 13,
    "start_time": "2024-01-28T17:26:35.613Z"
   },
   {
    "duration": 1248,
    "start_time": "2024-01-28T17:26:43.849Z"
   },
   {
    "duration": 71,
    "start_time": "2024-01-28T17:26:45.098Z"
   },
   {
    "duration": 12,
    "start_time": "2024-01-28T17:26:45.170Z"
   },
   {
    "duration": 39,
    "start_time": "2024-01-28T17:26:45.184Z"
   },
   {
    "duration": 44,
    "start_time": "2024-01-28T17:26:45.225Z"
   },
   {
    "duration": 22,
    "start_time": "2024-01-28T17:26:45.271Z"
   },
   {
    "duration": 46,
    "start_time": "2024-01-28T17:26:45.295Z"
   },
   {
    "duration": 30,
    "start_time": "2024-01-28T17:26:45.343Z"
   },
   {
    "duration": 38,
    "start_time": "2024-01-28T17:26:45.375Z"
   },
   {
    "duration": 40,
    "start_time": "2024-01-28T17:26:45.416Z"
   },
   {
    "duration": 40,
    "start_time": "2024-01-28T17:26:45.458Z"
   },
   {
    "duration": 29,
    "start_time": "2024-01-28T17:26:45.499Z"
   },
   {
    "duration": 14,
    "start_time": "2024-01-28T17:26:45.530Z"
   },
   {
    "duration": 17,
    "start_time": "2024-01-28T17:26:45.545Z"
   },
   {
    "duration": 39,
    "start_time": "2024-01-28T17:26:45.563Z"
   },
   {
    "duration": 20,
    "start_time": "2024-01-28T17:26:45.603Z"
   },
   {
    "duration": 18,
    "start_time": "2024-01-28T17:26:45.625Z"
   },
   {
    "duration": 10,
    "start_time": "2024-01-28T17:26:45.645Z"
   },
   {
    "duration": 8,
    "start_time": "2024-01-28T17:26:45.656Z"
   },
   {
    "duration": 18,
    "start_time": "2024-01-28T17:26:45.668Z"
   },
   {
    "duration": 6,
    "start_time": "2024-01-28T17:26:45.687Z"
   },
   {
    "duration": 12,
    "start_time": "2024-01-28T17:26:45.694Z"
   },
   {
    "duration": 14,
    "start_time": "2024-01-28T17:26:45.708Z"
   },
   {
    "duration": 6,
    "start_time": "2024-01-28T17:26:45.724Z"
   },
   {
    "duration": 7,
    "start_time": "2024-01-28T17:26:45.732Z"
   },
   {
    "duration": 7,
    "start_time": "2024-01-28T17:26:45.740Z"
   },
   {
    "duration": 31,
    "start_time": "2024-01-28T17:26:45.748Z"
   },
   {
    "duration": 7,
    "start_time": "2024-01-28T17:26:45.783Z"
   },
   {
    "duration": 179,
    "start_time": "2024-01-28T17:26:45.791Z"
   },
   {
    "duration": 6,
    "start_time": "2024-01-28T17:26:45.978Z"
   },
   {
    "duration": 102,
    "start_time": "2024-01-28T17:26:45.988Z"
   },
   {
    "duration": 8,
    "start_time": "2024-01-28T17:26:46.091Z"
   },
   {
    "duration": 12,
    "start_time": "2024-01-28T17:26:46.101Z"
   },
   {
    "duration": 178,
    "start_time": "2024-01-28T17:26:46.115Z"
   },
   {
    "duration": 7,
    "start_time": "2024-01-28T17:26:46.295Z"
   },
   {
    "duration": 176,
    "start_time": "2024-01-28T17:26:46.304Z"
   },
   {
    "duration": 9,
    "start_time": "2024-01-28T17:26:46.482Z"
   },
   {
    "duration": 128,
    "start_time": "2024-01-28T17:26:46.493Z"
   },
   {
    "duration": 296,
    "start_time": "2024-01-28T17:26:46.623Z"
   },
   {
    "duration": 10,
    "start_time": "2024-01-28T17:26:46.921Z"
   },
   {
    "duration": 141,
    "start_time": "2024-01-28T17:26:46.932Z"
   },
   {
    "duration": 23,
    "start_time": "2024-01-28T17:26:47.075Z"
   },
   {
    "duration": 21,
    "start_time": "2024-01-28T17:26:47.100Z"
   },
   {
    "duration": 19,
    "start_time": "2024-01-28T17:26:47.122Z"
   },
   {
    "duration": 405,
    "start_time": "2024-01-28T17:26:47.143Z"
   },
   {
    "duration": 23,
    "start_time": "2024-01-28T17:26:47.550Z"
   },
   {
    "duration": 10,
    "start_time": "2024-01-28T17:26:47.574Z"
   },
   {
    "duration": 473,
    "start_time": "2024-01-28T17:26:47.585Z"
   },
   {
    "duration": 12,
    "start_time": "2024-01-28T17:26:48.060Z"
   },
   {
    "duration": 18,
    "start_time": "2024-01-28T17:26:48.075Z"
   },
   {
    "duration": 11,
    "start_time": "2024-01-28T17:26:48.094Z"
   },
   {
    "duration": 30,
    "start_time": "2024-01-28T17:26:48.107Z"
   },
   {
    "duration": 15,
    "start_time": "2024-01-28T17:26:48.138Z"
   },
   {
    "duration": 21,
    "start_time": "2024-01-28T17:26:48.155Z"
   },
   {
    "duration": 20,
    "start_time": "2024-01-28T17:26:48.177Z"
   },
   {
    "duration": 105,
    "start_time": "2024-01-28T17:26:48.199Z"
   },
   {
    "duration": 0,
    "start_time": "2024-01-28T17:26:48.306Z"
   },
   {
    "duration": 0,
    "start_time": "2024-01-28T17:26:48.308Z"
   },
   {
    "duration": 0,
    "start_time": "2024-01-28T17:26:48.309Z"
   },
   {
    "duration": 0,
    "start_time": "2024-01-28T17:26:48.311Z"
   },
   {
    "duration": 0,
    "start_time": "2024-01-28T17:26:48.312Z"
   },
   {
    "duration": 0,
    "start_time": "2024-01-28T17:26:48.313Z"
   },
   {
    "duration": 19,
    "start_time": "2024-01-28T17:27:49.630Z"
   },
   {
    "duration": 19,
    "start_time": "2024-01-28T17:27:59.587Z"
   },
   {
    "duration": 5,
    "start_time": "2024-01-28T17:28:01.819Z"
   },
   {
    "duration": 24,
    "start_time": "2024-01-28T17:28:03.584Z"
   },
   {
    "duration": 12,
    "start_time": "2024-01-28T17:28:11.341Z"
   },
   {
    "duration": 7,
    "start_time": "2024-01-28T17:28:33.101Z"
   },
   {
    "duration": 14,
    "start_time": "2024-01-28T17:28:47.482Z"
   },
   {
    "duration": 9,
    "start_time": "2024-01-28T17:28:55.786Z"
   },
   {
    "duration": 6,
    "start_time": "2024-01-28T17:33:14.819Z"
   },
   {
    "duration": 6,
    "start_time": "2024-01-28T17:33:17.076Z"
   },
   {
    "duration": 8,
    "start_time": "2024-01-28T17:34:10.191Z"
   },
   {
    "duration": 8,
    "start_time": "2024-01-28T17:34:11.687Z"
   },
   {
    "duration": 6,
    "start_time": "2024-01-28T17:34:12.719Z"
   },
   {
    "duration": 10,
    "start_time": "2024-01-28T17:35:17.288Z"
   },
   {
    "duration": 10,
    "start_time": "2024-01-28T17:36:03.640Z"
   },
   {
    "duration": 7,
    "start_time": "2024-01-28T17:42:12.426Z"
   },
   {
    "duration": 7,
    "start_time": "2024-01-28T17:42:31.927Z"
   },
   {
    "duration": 9,
    "start_time": "2024-01-28T17:45:35.827Z"
   },
   {
    "duration": 7,
    "start_time": "2024-01-28T17:45:37.066Z"
   },
   {
    "duration": 8,
    "start_time": "2024-01-28T17:46:18.115Z"
   },
   {
    "duration": 7,
    "start_time": "2024-01-28T17:46:27.013Z"
   },
   {
    "duration": 110,
    "start_time": "2024-01-28T18:24:53.411Z"
   },
   {
    "duration": 8,
    "start_time": "2024-01-28T18:25:01.883Z"
   },
   {
    "duration": 104,
    "start_time": "2024-01-28T18:41:41.216Z"
   },
   {
    "duration": 12,
    "start_time": "2024-01-28T19:15:12.663Z"
   },
   {
    "duration": 8,
    "start_time": "2024-01-28T19:15:22.086Z"
   },
   {
    "duration": 6,
    "start_time": "2024-01-28T19:23:14.546Z"
   },
   {
    "duration": 4,
    "start_time": "2024-01-28T19:24:40.609Z"
   },
   {
    "duration": 5,
    "start_time": "2024-01-28T19:25:03.043Z"
   },
   {
    "duration": 6,
    "start_time": "2024-01-28T19:31:03.527Z"
   },
   {
    "duration": 5,
    "start_time": "2024-01-28T19:36:47.419Z"
   },
   {
    "duration": 5,
    "start_time": "2024-01-28T19:38:51.628Z"
   },
   {
    "duration": 6,
    "start_time": "2024-01-28T19:40:32.835Z"
   },
   {
    "duration": 5,
    "start_time": "2024-01-28T19:40:38.381Z"
   },
   {
    "duration": 5,
    "start_time": "2024-01-28T19:46:23.577Z"
   },
   {
    "duration": 5,
    "start_time": "2024-01-28T20:08:41.013Z"
   },
   {
    "duration": 93,
    "start_time": "2024-01-28T20:24:33.519Z"
   },
   {
    "duration": 5,
    "start_time": "2024-01-28T20:24:37.880Z"
   },
   {
    "duration": 64,
    "start_time": "2024-01-28T20:25:37.179Z"
   },
   {
    "duration": 6,
    "start_time": "2024-01-28T20:25:45.838Z"
   },
   {
    "duration": 5,
    "start_time": "2024-01-28T20:28:33.185Z"
   },
   {
    "duration": 10,
    "start_time": "2024-01-28T20:38:08.776Z"
   },
   {
    "duration": 7,
    "start_time": "2024-01-28T20:38:10.365Z"
   },
   {
    "duration": 11,
    "start_time": "2024-01-28T20:48:42.386Z"
   },
   {
    "duration": 9,
    "start_time": "2024-01-28T20:58:25.035Z"
   },
   {
    "duration": 7,
    "start_time": "2024-01-28T21:00:41.844Z"
   },
   {
    "duration": 9,
    "start_time": "2024-01-28T21:01:17.802Z"
   },
   {
    "duration": 8,
    "start_time": "2024-01-28T21:01:30.888Z"
   },
   {
    "duration": 9,
    "start_time": "2024-01-28T21:01:37.978Z"
   },
   {
    "duration": 11,
    "start_time": "2024-01-28T21:01:44.399Z"
   },
   {
    "duration": 6,
    "start_time": "2024-01-28T21:03:39.613Z"
   },
   {
    "duration": 7,
    "start_time": "2024-01-28T21:03:54.562Z"
   },
   {
    "duration": 9,
    "start_time": "2024-01-28T21:05:35.732Z"
   },
   {
    "duration": 9,
    "start_time": "2024-01-28T21:05:36.799Z"
   },
   {
    "duration": 9,
    "start_time": "2024-01-28T21:06:39.734Z"
   },
   {
    "duration": 5,
    "start_time": "2024-01-28T21:06:55.763Z"
   },
   {
    "duration": 6,
    "start_time": "2024-01-28T21:08:03.294Z"
   },
   {
    "duration": 4,
    "start_time": "2024-01-28T21:09:57.047Z"
   },
   {
    "duration": 7,
    "start_time": "2024-01-28T21:10:03.837Z"
   },
   {
    "duration": 5,
    "start_time": "2024-01-28T21:12:03.685Z"
   },
   {
    "duration": 7,
    "start_time": "2024-01-28T21:13:47.379Z"
   },
   {
    "duration": 6,
    "start_time": "2024-01-28T21:13:49.054Z"
   },
   {
    "duration": 6,
    "start_time": "2024-01-28T21:13:53.773Z"
   },
   {
    "duration": 1260,
    "start_time": "2024-01-28T21:14:50.646Z"
   },
   {
    "duration": 1396,
    "start_time": "2024-01-28T21:16:41.617Z"
   },
   {
    "duration": 7,
    "start_time": "2024-01-28T21:17:14.838Z"
   },
   {
    "duration": 1388,
    "start_time": "2024-01-28T21:17:20.159Z"
   },
   {
    "duration": 0,
    "start_time": "2024-01-28T21:17:21.548Z"
   },
   {
    "duration": 7,
    "start_time": "2024-01-28T21:17:27.935Z"
   },
   {
    "duration": 1235,
    "start_time": "2024-01-28T21:17:41.016Z"
   },
   {
    "duration": 1232,
    "start_time": "2024-01-28T21:18:06.145Z"
   },
   {
    "duration": 7,
    "start_time": "2024-01-28T21:18:13.956Z"
   },
   {
    "duration": 6,
    "start_time": "2024-01-28T21:19:56.100Z"
   },
   {
    "duration": 7,
    "start_time": "2024-01-28T21:19:57.280Z"
   },
   {
    "duration": 9,
    "start_time": "2024-01-28T21:19:58.114Z"
   },
   {
    "duration": 7,
    "start_time": "2024-01-28T21:20:37.084Z"
   },
   {
    "duration": 6,
    "start_time": "2024-01-28T21:20:38.573Z"
   },
   {
    "duration": 8,
    "start_time": "2024-01-28T21:20:39.280Z"
   },
   {
    "duration": 10,
    "start_time": "2024-01-28T21:20:42.229Z"
   },
   {
    "duration": 9,
    "start_time": "2024-01-28T21:21:40.255Z"
   },
   {
    "duration": 4,
    "start_time": "2024-01-28T21:23:33.871Z"
   },
   {
    "duration": 7,
    "start_time": "2024-01-28T21:25:50.382Z"
   },
   {
    "duration": 1194,
    "start_time": "2024-01-28T21:25:54.800Z"
   },
   {
    "duration": 69,
    "start_time": "2024-01-28T21:25:55.995Z"
   },
   {
    "duration": 12,
    "start_time": "2024-01-28T21:25:56.065Z"
   },
   {
    "duration": 40,
    "start_time": "2024-01-28T21:25:56.078Z"
   },
   {
    "duration": 17,
    "start_time": "2024-01-28T21:25:56.120Z"
   },
   {
    "duration": 38,
    "start_time": "2024-01-28T21:25:56.138Z"
   },
   {
    "duration": 20,
    "start_time": "2024-01-28T21:25:56.177Z"
   },
   {
    "duration": 28,
    "start_time": "2024-01-28T21:25:56.198Z"
   },
   {
    "duration": 75,
    "start_time": "2024-01-28T21:25:56.227Z"
   },
   {
    "duration": 37,
    "start_time": "2024-01-28T21:25:56.304Z"
   },
   {
    "duration": 13,
    "start_time": "2024-01-28T21:25:56.343Z"
   },
   {
    "duration": 17,
    "start_time": "2024-01-28T21:25:56.357Z"
   },
   {
    "duration": 14,
    "start_time": "2024-01-28T21:25:56.376Z"
   },
   {
    "duration": 21,
    "start_time": "2024-01-28T21:25:56.391Z"
   },
   {
    "duration": 26,
    "start_time": "2024-01-28T21:25:56.413Z"
   },
   {
    "duration": 24,
    "start_time": "2024-01-28T21:25:56.441Z"
   },
   {
    "duration": 23,
    "start_time": "2024-01-28T21:25:56.467Z"
   },
   {
    "duration": 24,
    "start_time": "2024-01-28T21:25:56.492Z"
   },
   {
    "duration": 30,
    "start_time": "2024-01-28T21:25:56.518Z"
   },
   {
    "duration": 13,
    "start_time": "2024-01-28T21:25:56.550Z"
   },
   {
    "duration": 10,
    "start_time": "2024-01-28T21:25:56.565Z"
   },
   {
    "duration": 18,
    "start_time": "2024-01-28T21:25:56.576Z"
   },
   {
    "duration": 11,
    "start_time": "2024-01-28T21:25:56.595Z"
   },
   {
    "duration": 15,
    "start_time": "2024-01-28T21:25:56.608Z"
   },
   {
    "duration": 26,
    "start_time": "2024-01-28T21:25:56.625Z"
   },
   {
    "duration": 27,
    "start_time": "2024-01-28T21:25:56.653Z"
   },
   {
    "duration": 19,
    "start_time": "2024-01-28T21:25:56.683Z"
   },
   {
    "duration": 17,
    "start_time": "2024-01-28T21:25:56.706Z"
   },
   {
    "duration": 165,
    "start_time": "2024-01-28T21:25:56.725Z"
   },
   {
    "duration": 2,
    "start_time": "2024-01-28T21:25:56.892Z"
   },
   {
    "duration": 111,
    "start_time": "2024-01-28T21:25:56.897Z"
   },
   {
    "duration": 8,
    "start_time": "2024-01-28T21:25:57.009Z"
   },
   {
    "duration": 17,
    "start_time": "2024-01-28T21:25:57.018Z"
   },
   {
    "duration": 143,
    "start_time": "2024-01-28T21:25:57.037Z"
   },
   {
    "duration": 7,
    "start_time": "2024-01-28T21:25:57.182Z"
   },
   {
    "duration": 170,
    "start_time": "2024-01-28T21:25:57.190Z"
   },
   {
    "duration": 8,
    "start_time": "2024-01-28T21:25:57.361Z"
   },
   {
    "duration": 115,
    "start_time": "2024-01-28T21:25:57.370Z"
   },
   {
    "duration": 266,
    "start_time": "2024-01-28T21:25:57.487Z"
   },
   {
    "duration": 15,
    "start_time": "2024-01-28T21:25:57.755Z"
   },
   {
    "duration": 116,
    "start_time": "2024-01-28T21:25:57.771Z"
   },
   {
    "duration": 16,
    "start_time": "2024-01-28T21:25:57.888Z"
   },
   {
    "duration": 21,
    "start_time": "2024-01-28T21:25:57.906Z"
   },
   {
    "duration": 17,
    "start_time": "2024-01-28T21:25:57.929Z"
   },
   {
    "duration": 367,
    "start_time": "2024-01-28T21:25:57.966Z"
   },
   {
    "duration": 7,
    "start_time": "2024-01-28T21:25:58.335Z"
   },
   {
    "duration": 11,
    "start_time": "2024-01-28T21:25:58.343Z"
   },
   {
    "duration": 447,
    "start_time": "2024-01-28T21:25:58.355Z"
   },
   {
    "duration": 7,
    "start_time": "2024-01-28T21:25:58.804Z"
   },
   {
    "duration": 13,
    "start_time": "2024-01-28T21:25:58.812Z"
   },
   {
    "duration": 3,
    "start_time": "2024-01-28T21:25:58.826Z"
   },
   {
    "duration": 43,
    "start_time": "2024-01-28T21:25:58.830Z"
   },
   {
    "duration": 16,
    "start_time": "2024-01-28T21:25:58.875Z"
   },
   {
    "duration": 5,
    "start_time": "2024-01-28T21:25:58.892Z"
   },
   {
    "duration": 19,
    "start_time": "2024-01-28T21:25:58.898Z"
   },
   {
    "duration": 6,
    "start_time": "2024-01-28T21:25:58.919Z"
   },
   {
    "duration": 7,
    "start_time": "2024-01-28T21:25:58.926Z"
   },
   {
    "duration": 31,
    "start_time": "2024-01-28T21:25:58.935Z"
   },
   {
    "duration": 18,
    "start_time": "2024-01-28T21:25:58.968Z"
   },
   {
    "duration": 22,
    "start_time": "2024-01-28T21:25:58.987Z"
   },
   {
    "duration": 11,
    "start_time": "2024-01-28T21:25:59.010Z"
   },
   {
    "duration": 20,
    "start_time": "2024-01-28T21:25:59.022Z"
   },
   {
    "duration": 13,
    "start_time": "2024-01-28T21:25:59.044Z"
   },
   {
    "duration": 2,
    "start_time": "2024-01-28T21:25:59.059Z"
   },
   {
    "duration": 67,
    "start_time": "2024-01-28T21:39:41.348Z"
   },
   {
    "duration": 212,
    "start_time": "2024-01-28T21:39:46.506Z"
   },
   {
    "duration": 203,
    "start_time": "2024-01-28T21:39:58.440Z"
   },
   {
    "duration": 235,
    "start_time": "2024-01-28T21:40:34.170Z"
   },
   {
    "duration": 162,
    "start_time": "2024-01-28T21:40:52.078Z"
   },
   {
    "duration": 127,
    "start_time": "2024-01-28T21:42:05.152Z"
   },
   {
    "duration": 116,
    "start_time": "2024-01-28T21:42:39.420Z"
   },
   {
    "duration": 127,
    "start_time": "2024-01-28T21:42:57.459Z"
   },
   {
    "duration": 1111,
    "start_time": "2024-01-29T01:24:12.515Z"
   },
   {
    "duration": 188,
    "start_time": "2024-01-29T01:24:13.628Z"
   },
   {
    "duration": 11,
    "start_time": "2024-01-29T01:24:13.818Z"
   },
   {
    "duration": 17,
    "start_time": "2024-01-29T01:24:13.831Z"
   },
   {
    "duration": 14,
    "start_time": "2024-01-29T01:24:13.849Z"
   },
   {
    "duration": 30,
    "start_time": "2024-01-29T01:24:13.865Z"
   },
   {
    "duration": 10,
    "start_time": "2024-01-29T01:24:13.897Z"
   },
   {
    "duration": 4,
    "start_time": "2024-01-29T01:24:13.909Z"
   },
   {
    "duration": 11,
    "start_time": "2024-01-29T01:24:13.914Z"
   },
   {
    "duration": 11,
    "start_time": "2024-01-29T01:24:13.928Z"
   },
   {
    "duration": 10,
    "start_time": "2024-01-29T01:24:13.941Z"
   },
   {
    "duration": 14,
    "start_time": "2024-01-29T01:24:13.952Z"
   },
   {
    "duration": 9,
    "start_time": "2024-01-29T01:24:13.967Z"
   },
   {
    "duration": 9,
    "start_time": "2024-01-29T01:24:13.978Z"
   },
   {
    "duration": 21,
    "start_time": "2024-01-29T01:24:13.989Z"
   },
   {
    "duration": 13,
    "start_time": "2024-01-29T01:24:14.011Z"
   },
   {
    "duration": 28,
    "start_time": "2024-01-29T01:24:14.025Z"
   },
   {
    "duration": 5,
    "start_time": "2024-01-29T01:24:14.054Z"
   },
   {
    "duration": 19,
    "start_time": "2024-01-29T01:24:14.060Z"
   },
   {
    "duration": 9,
    "start_time": "2024-01-29T01:24:14.081Z"
   },
   {
    "duration": 4,
    "start_time": "2024-01-29T01:24:14.091Z"
   },
   {
    "duration": 16,
    "start_time": "2024-01-29T01:24:14.097Z"
   },
   {
    "duration": 7,
    "start_time": "2024-01-29T01:24:14.114Z"
   },
   {
    "duration": 12,
    "start_time": "2024-01-29T01:24:14.123Z"
   },
   {
    "duration": 8,
    "start_time": "2024-01-29T01:24:14.136Z"
   },
   {
    "duration": 11,
    "start_time": "2024-01-29T01:24:14.146Z"
   },
   {
    "duration": 16,
    "start_time": "2024-01-29T01:24:14.159Z"
   },
   {
    "duration": 16,
    "start_time": "2024-01-29T01:24:14.180Z"
   },
   {
    "duration": 146,
    "start_time": "2024-01-29T01:24:14.197Z"
   },
   {
    "duration": 71,
    "start_time": "2024-01-29T01:24:14.344Z"
   },
   {
    "duration": 7,
    "start_time": "2024-01-29T01:24:14.417Z"
   },
   {
    "duration": 14,
    "start_time": "2024-01-29T01:24:14.425Z"
   },
   {
    "duration": 134,
    "start_time": "2024-01-29T01:24:14.452Z"
   },
   {
    "duration": 7,
    "start_time": "2024-01-29T01:24:14.588Z"
   },
   {
    "duration": 152,
    "start_time": "2024-01-29T01:24:14.596Z"
   },
   {
    "duration": 7,
    "start_time": "2024-01-29T01:24:14.751Z"
   },
   {
    "duration": 108,
    "start_time": "2024-01-29T01:24:14.760Z"
   },
   {
    "duration": 274,
    "start_time": "2024-01-29T01:24:14.869Z"
   },
   {
    "duration": 14,
    "start_time": "2024-01-29T01:24:15.145Z"
   },
   {
    "duration": 137,
    "start_time": "2024-01-29T01:24:15.161Z"
   },
   {
    "duration": 13,
    "start_time": "2024-01-29T01:24:15.300Z"
   },
   {
    "duration": 26,
    "start_time": "2024-01-29T01:24:15.314Z"
   },
   {
    "duration": 33,
    "start_time": "2024-01-29T01:24:15.341Z"
   },
   {
    "duration": 320,
    "start_time": "2024-01-29T01:24:15.375Z"
   },
   {
    "duration": 7,
    "start_time": "2024-01-29T01:24:15.696Z"
   },
   {
    "duration": 8,
    "start_time": "2024-01-29T01:24:15.705Z"
   },
   {
    "duration": 432,
    "start_time": "2024-01-29T01:24:15.714Z"
   },
   {
    "duration": 7,
    "start_time": "2024-01-29T01:24:16.151Z"
   },
   {
    "duration": 6,
    "start_time": "2024-01-29T01:24:16.160Z"
   },
   {
    "duration": 9,
    "start_time": "2024-01-29T01:24:16.167Z"
   },
   {
    "duration": 25,
    "start_time": "2024-01-29T01:24:16.177Z"
   },
   {
    "duration": 13,
    "start_time": "2024-01-29T01:24:16.203Z"
   },
   {
    "duration": 4,
    "start_time": "2024-01-29T01:24:16.218Z"
   },
   {
    "duration": 36,
    "start_time": "2024-01-29T01:24:16.223Z"
   },
   {
    "duration": 7,
    "start_time": "2024-01-29T01:24:16.260Z"
   },
   {
    "duration": 5,
    "start_time": "2024-01-29T01:24:16.268Z"
   },
   {
    "duration": 5,
    "start_time": "2024-01-29T01:24:16.274Z"
   },
   {
    "duration": 9,
    "start_time": "2024-01-29T01:24:16.280Z"
   },
   {
    "duration": 4,
    "start_time": "2024-01-29T01:24:16.290Z"
   },
   {
    "duration": 6,
    "start_time": "2024-01-29T01:24:16.296Z"
   },
   {
    "duration": 13,
    "start_time": "2024-01-29T01:24:16.303Z"
   },
   {
    "duration": 38,
    "start_time": "2024-01-29T01:24:16.317Z"
   },
   {
    "duration": 5,
    "start_time": "2024-01-29T01:31:54.076Z"
   },
   {
    "duration": 1092,
    "start_time": "2024-01-29T01:37:25.142Z"
   },
   {
    "duration": 66,
    "start_time": "2024-01-29T01:37:26.236Z"
   },
   {
    "duration": 11,
    "start_time": "2024-01-29T01:37:26.303Z"
   },
   {
    "duration": 11,
    "start_time": "2024-01-29T01:37:26.315Z"
   },
   {
    "duration": 15,
    "start_time": "2024-01-29T01:37:26.328Z"
   },
   {
    "duration": 38,
    "start_time": "2024-01-29T01:37:26.345Z"
   },
   {
    "duration": 14,
    "start_time": "2024-01-29T01:37:26.385Z"
   },
   {
    "duration": 4,
    "start_time": "2024-01-29T01:37:26.400Z"
   },
   {
    "duration": 21,
    "start_time": "2024-01-29T01:37:26.405Z"
   },
   {
    "duration": 10,
    "start_time": "2024-01-29T01:37:26.427Z"
   },
   {
    "duration": 31,
    "start_time": "2024-01-29T01:37:26.438Z"
   },
   {
    "duration": 33,
    "start_time": "2024-01-29T01:37:26.470Z"
   },
   {
    "duration": 21,
    "start_time": "2024-01-29T01:37:26.504Z"
   },
   {
    "duration": 4,
    "start_time": "2024-01-29T01:37:26.527Z"
   },
   {
    "duration": 28,
    "start_time": "2024-01-29T01:37:26.532Z"
   },
   {
    "duration": 12,
    "start_time": "2024-01-29T01:37:26.561Z"
   },
   {
    "duration": 14,
    "start_time": "2024-01-29T01:37:26.574Z"
   },
   {
    "duration": 9,
    "start_time": "2024-01-29T01:37:26.589Z"
   },
   {
    "duration": 12,
    "start_time": "2024-01-29T01:37:26.599Z"
   },
   {
    "duration": 22,
    "start_time": "2024-01-29T01:37:26.613Z"
   },
   {
    "duration": 12,
    "start_time": "2024-01-29T01:37:26.636Z"
   },
   {
    "duration": 15,
    "start_time": "2024-01-29T01:37:26.650Z"
   },
   {
    "duration": 18,
    "start_time": "2024-01-29T01:37:26.666Z"
   },
   {
    "duration": 10,
    "start_time": "2024-01-29T01:37:26.685Z"
   },
   {
    "duration": 14,
    "start_time": "2024-01-29T01:37:26.697Z"
   },
   {
    "duration": 5,
    "start_time": "2024-01-29T01:37:26.713Z"
   },
   {
    "duration": 12,
    "start_time": "2024-01-29T01:37:26.719Z"
   },
   {
    "duration": 13,
    "start_time": "2024-01-29T01:37:26.732Z"
   },
   {
    "duration": 128,
    "start_time": "2024-01-29T01:37:26.746Z"
   },
   {
    "duration": 60,
    "start_time": "2024-01-29T01:37:26.875Z"
   },
   {
    "duration": 19,
    "start_time": "2024-01-29T01:37:26.936Z"
   },
   {
    "duration": 16,
    "start_time": "2024-01-29T01:37:26.957Z"
   },
   {
    "duration": 116,
    "start_time": "2024-01-29T01:37:26.975Z"
   },
   {
    "duration": 7,
    "start_time": "2024-01-29T01:37:27.093Z"
   },
   {
    "duration": 154,
    "start_time": "2024-01-29T01:37:27.102Z"
   },
   {
    "duration": 8,
    "start_time": "2024-01-29T01:37:27.258Z"
   },
   {
    "duration": 124,
    "start_time": "2024-01-29T01:37:27.268Z"
   },
   {
    "duration": 246,
    "start_time": "2024-01-29T01:37:27.394Z"
   },
   {
    "duration": 11,
    "start_time": "2024-01-29T01:37:27.642Z"
   },
   {
    "duration": 121,
    "start_time": "2024-01-29T01:37:27.655Z"
   },
   {
    "duration": 15,
    "start_time": "2024-01-29T01:37:27.779Z"
   },
   {
    "duration": 19,
    "start_time": "2024-01-29T01:37:27.795Z"
   },
   {
    "duration": 37,
    "start_time": "2024-01-29T01:37:27.816Z"
   },
   {
    "duration": 319,
    "start_time": "2024-01-29T01:37:27.854Z"
   },
   {
    "duration": 7,
    "start_time": "2024-01-29T01:37:28.174Z"
   },
   {
    "duration": 23,
    "start_time": "2024-01-29T01:37:28.182Z"
   },
   {
    "duration": 394,
    "start_time": "2024-01-29T01:37:28.206Z"
   },
   {
    "duration": 7,
    "start_time": "2024-01-29T01:37:28.601Z"
   },
   {
    "duration": 29,
    "start_time": "2024-01-29T01:37:28.609Z"
   },
   {
    "duration": 3,
    "start_time": "2024-01-29T01:37:28.639Z"
   },
   {
    "duration": 27,
    "start_time": "2024-01-29T01:37:28.643Z"
   },
   {
    "duration": 14,
    "start_time": "2024-01-29T01:37:28.671Z"
   },
   {
    "duration": 11,
    "start_time": "2024-01-29T01:37:28.686Z"
   },
   {
    "duration": 32,
    "start_time": "2024-01-29T01:37:28.699Z"
   },
   {
    "duration": 11,
    "start_time": "2024-01-29T01:37:28.732Z"
   },
   {
    "duration": 5,
    "start_time": "2024-01-29T01:37:28.744Z"
   },
   {
    "duration": 10,
    "start_time": "2024-01-29T01:37:28.751Z"
   },
   {
    "duration": 8,
    "start_time": "2024-01-29T01:37:28.763Z"
   },
   {
    "duration": 5,
    "start_time": "2024-01-29T01:37:28.773Z"
   },
   {
    "duration": 14,
    "start_time": "2024-01-29T01:37:28.779Z"
   },
   {
    "duration": 8,
    "start_time": "2024-01-29T01:37:28.794Z"
   },
   {
    "duration": 9,
    "start_time": "2024-01-29T01:37:28.803Z"
   },
   {
    "duration": 1462,
    "start_time": "2024-01-29T13:50:23.025Z"
   },
   {
    "duration": 289,
    "start_time": "2024-01-29T13:50:24.490Z"
   },
   {
    "duration": 14,
    "start_time": "2024-01-29T13:50:24.781Z"
   },
   {
    "duration": 12,
    "start_time": "2024-01-29T13:50:24.797Z"
   },
   {
    "duration": 32,
    "start_time": "2024-01-29T13:50:24.811Z"
   },
   {
    "duration": 15,
    "start_time": "2024-01-29T13:50:24.844Z"
   },
   {
    "duration": 33,
    "start_time": "2024-01-29T13:50:24.860Z"
   },
   {
    "duration": 8,
    "start_time": "2024-01-29T13:50:24.895Z"
   },
   {
    "duration": 46,
    "start_time": "2024-01-29T13:50:24.905Z"
   },
   {
    "duration": 30,
    "start_time": "2024-01-29T13:50:24.953Z"
   },
   {
    "duration": 13,
    "start_time": "2024-01-29T13:50:24.985Z"
   },
   {
    "duration": 38,
    "start_time": "2024-01-29T13:50:25.000Z"
   },
   {
    "duration": 26,
    "start_time": "2024-01-29T13:50:25.040Z"
   },
   {
    "duration": 6,
    "start_time": "2024-01-29T13:50:25.067Z"
   },
   {
    "duration": 28,
    "start_time": "2024-01-29T13:50:25.075Z"
   },
   {
    "duration": 6,
    "start_time": "2024-01-29T13:50:25.105Z"
   },
   {
    "duration": 30,
    "start_time": "2024-01-29T13:50:25.113Z"
   },
   {
    "duration": 45,
    "start_time": "2024-01-29T13:50:25.145Z"
   },
   {
    "duration": 9,
    "start_time": "2024-01-29T13:50:25.192Z"
   },
   {
    "duration": 11,
    "start_time": "2024-01-29T13:50:25.203Z"
   },
   {
    "duration": 23,
    "start_time": "2024-01-29T13:50:25.216Z"
   },
   {
    "duration": 15,
    "start_time": "2024-01-29T13:50:25.241Z"
   },
   {
    "duration": 18,
    "start_time": "2024-01-29T13:50:25.258Z"
   },
   {
    "duration": 10,
    "start_time": "2024-01-29T13:50:25.278Z"
   },
   {
    "duration": 13,
    "start_time": "2024-01-29T13:50:25.289Z"
   },
   {
    "duration": 6,
    "start_time": "2024-01-29T13:50:25.304Z"
   },
   {
    "duration": 17,
    "start_time": "2024-01-29T13:50:25.312Z"
   },
   {
    "duration": 14,
    "start_time": "2024-01-29T13:50:25.335Z"
   },
   {
    "duration": 30,
    "start_time": "2024-01-29T13:50:25.351Z"
   },
   {
    "duration": 151,
    "start_time": "2024-01-29T13:50:25.383Z"
   },
   {
    "duration": 81,
    "start_time": "2024-01-29T13:50:25.536Z"
   },
   {
    "duration": 8,
    "start_time": "2024-01-29T13:50:25.618Z"
   },
   {
    "duration": 31,
    "start_time": "2024-01-29T13:50:25.628Z"
   },
   {
    "duration": 182,
    "start_time": "2024-01-29T13:50:25.660Z"
   },
   {
    "duration": 8,
    "start_time": "2024-01-29T13:50:25.844Z"
   },
   {
    "duration": 202,
    "start_time": "2024-01-29T13:50:25.854Z"
   },
   {
    "duration": 9,
    "start_time": "2024-01-29T13:50:26.058Z"
   },
   {
    "duration": 138,
    "start_time": "2024-01-29T13:50:26.069Z"
   },
   {
    "duration": 306,
    "start_time": "2024-01-29T13:50:26.209Z"
   },
   {
    "duration": 10,
    "start_time": "2024-01-29T13:50:26.517Z"
   },
   {
    "duration": 166,
    "start_time": "2024-01-29T13:50:26.529Z"
   },
   {
    "duration": 17,
    "start_time": "2024-01-29T13:50:26.697Z"
   },
   {
    "duration": 24,
    "start_time": "2024-01-29T13:50:26.716Z"
   },
   {
    "duration": 42,
    "start_time": "2024-01-29T13:50:26.742Z"
   },
   {
    "duration": 396,
    "start_time": "2024-01-29T13:50:26.786Z"
   },
   {
    "duration": 15,
    "start_time": "2024-01-29T13:50:27.183Z"
   },
   {
    "duration": 107,
    "start_time": "2024-01-29T13:50:27.199Z"
   },
   {
    "duration": 573,
    "start_time": "2024-01-29T13:50:27.308Z"
   },
   {
    "duration": 15,
    "start_time": "2024-01-29T13:50:27.883Z"
   },
   {
    "duration": 9,
    "start_time": "2024-01-29T13:50:27.900Z"
   },
   {
    "duration": 5,
    "start_time": "2024-01-29T13:50:27.911Z"
   },
   {
    "duration": 66,
    "start_time": "2024-01-29T13:50:27.918Z"
   },
   {
    "duration": 19,
    "start_time": "2024-01-29T13:50:27.986Z"
   },
   {
    "duration": 6,
    "start_time": "2024-01-29T13:50:28.007Z"
   },
   {
    "duration": 24,
    "start_time": "2024-01-29T13:50:28.015Z"
   },
   {
    "duration": 7,
    "start_time": "2024-01-29T13:50:28.042Z"
   },
   {
    "duration": 12,
    "start_time": "2024-01-29T13:50:28.051Z"
   },
   {
    "duration": 28,
    "start_time": "2024-01-29T13:50:28.065Z"
   },
   {
    "duration": 10,
    "start_time": "2024-01-29T13:50:28.094Z"
   },
   {
    "duration": 9,
    "start_time": "2024-01-29T13:50:28.105Z"
   },
   {
    "duration": 16,
    "start_time": "2024-01-29T13:50:28.116Z"
   },
   {
    "duration": 21,
    "start_time": "2024-01-29T13:50:28.133Z"
   },
   {
    "duration": 8,
    "start_time": "2024-01-29T13:50:28.156Z"
   },
   {
    "duration": 7,
    "start_time": "2024-01-29T13:51:08.980Z"
   },
   {
    "duration": 135,
    "start_time": "2024-01-29T13:51:29.703Z"
   },
   {
    "duration": 7,
    "start_time": "2024-01-29T13:51:40.136Z"
   },
   {
    "duration": 13,
    "start_time": "2024-01-29T13:52:58.880Z"
   },
   {
    "duration": 13,
    "start_time": "2024-01-29T13:55:09.988Z"
   },
   {
    "duration": 9,
    "start_time": "2024-01-29T13:55:15.858Z"
   },
   {
    "duration": 8,
    "start_time": "2024-01-29T13:55:24.692Z"
   },
   {
    "duration": 8,
    "start_time": "2024-01-29T13:55:40.357Z"
   },
   {
    "duration": 9,
    "start_time": "2024-01-29T13:56:02.675Z"
   },
   {
    "duration": 8,
    "start_time": "2024-01-29T13:56:37.400Z"
   },
   {
    "duration": 8,
    "start_time": "2024-01-29T13:56:42.450Z"
   },
   {
    "duration": 8,
    "start_time": "2024-01-29T13:56:46.596Z"
   },
   {
    "duration": 7,
    "start_time": "2024-01-29T13:56:53.575Z"
   },
   {
    "duration": 8,
    "start_time": "2024-01-29T13:56:56.845Z"
   },
   {
    "duration": 8,
    "start_time": "2024-01-29T13:57:28.251Z"
   },
   {
    "duration": 133,
    "start_time": "2024-01-29T14:01:16.554Z"
   },
   {
    "duration": 129,
    "start_time": "2024-01-29T14:01:20.645Z"
   },
   {
    "duration": 142,
    "start_time": "2024-01-29T14:02:00.152Z"
   },
   {
    "duration": 228,
    "start_time": "2024-01-29T14:02:10.851Z"
   },
   {
    "duration": 76,
    "start_time": "2024-01-29T14:02:39.787Z"
   },
   {
    "duration": 137,
    "start_time": "2024-01-29T14:02:44.579Z"
   },
   {
    "duration": 138,
    "start_time": "2024-01-29T14:03:04.872Z"
   },
   {
    "duration": 141,
    "start_time": "2024-01-29T14:03:14.662Z"
   },
   {
    "duration": 1293,
    "start_time": "2024-01-29T14:03:26.777Z"
   },
   {
    "duration": 75,
    "start_time": "2024-01-29T14:03:28.072Z"
   },
   {
    "duration": 14,
    "start_time": "2024-01-29T14:03:28.149Z"
   },
   {
    "duration": 78,
    "start_time": "2024-01-29T14:03:28.165Z"
   },
   {
    "duration": 52,
    "start_time": "2024-01-29T14:03:28.245Z"
   },
   {
    "duration": 16,
    "start_time": "2024-01-29T14:03:28.299Z"
   },
   {
    "duration": 19,
    "start_time": "2024-01-29T14:03:28.317Z"
   },
   {
    "duration": 12,
    "start_time": "2024-01-29T14:03:28.340Z"
   },
   {
    "duration": 21,
    "start_time": "2024-01-29T14:03:28.353Z"
   },
   {
    "duration": 20,
    "start_time": "2024-01-29T14:03:28.378Z"
   },
   {
    "duration": 38,
    "start_time": "2024-01-29T14:03:28.400Z"
   },
   {
    "duration": 59,
    "start_time": "2024-01-29T14:03:28.440Z"
   },
   {
    "duration": 21,
    "start_time": "2024-01-29T14:03:28.502Z"
   },
   {
    "duration": 6,
    "start_time": "2024-01-29T14:03:28.526Z"
   },
   {
    "duration": 26,
    "start_time": "2024-01-29T14:03:28.534Z"
   },
   {
    "duration": 13,
    "start_time": "2024-01-29T14:03:28.563Z"
   },
   {
    "duration": 18,
    "start_time": "2024-01-29T14:03:28.578Z"
   },
   {
    "duration": 17,
    "start_time": "2024-01-29T14:03:28.598Z"
   },
   {
    "duration": 14,
    "start_time": "2024-01-29T14:03:28.617Z"
   },
   {
    "duration": 11,
    "start_time": "2024-01-29T14:03:28.633Z"
   },
   {
    "duration": 11,
    "start_time": "2024-01-29T14:03:28.646Z"
   },
   {
    "duration": 33,
    "start_time": "2024-01-29T14:03:28.659Z"
   },
   {
    "duration": 16,
    "start_time": "2024-01-29T14:03:28.695Z"
   },
   {
    "duration": 12,
    "start_time": "2024-01-29T14:03:28.712Z"
   },
   {
    "duration": 15,
    "start_time": "2024-01-29T14:03:28.726Z"
   },
   {
    "duration": 21,
    "start_time": "2024-01-29T14:03:28.742Z"
   },
   {
    "duration": 33,
    "start_time": "2024-01-29T14:03:28.765Z"
   },
   {
    "duration": 36,
    "start_time": "2024-01-29T14:03:28.803Z"
   },
   {
    "duration": 10,
    "start_time": "2024-01-29T14:03:28.841Z"
   },
   {
    "duration": 8,
    "start_time": "2024-01-29T14:03:28.853Z"
   },
   {
    "duration": 253,
    "start_time": "2024-01-29T14:03:28.862Z"
   },
   {
    "duration": 0,
    "start_time": "2024-01-29T14:03:29.117Z"
   },
   {
    "duration": 0,
    "start_time": "2024-01-29T14:03:29.118Z"
   },
   {
    "duration": 0,
    "start_time": "2024-01-29T14:03:29.119Z"
   },
   {
    "duration": 0,
    "start_time": "2024-01-29T14:03:29.120Z"
   },
   {
    "duration": 0,
    "start_time": "2024-01-29T14:03:29.121Z"
   },
   {
    "duration": 0,
    "start_time": "2024-01-29T14:03:29.122Z"
   },
   {
    "duration": 0,
    "start_time": "2024-01-29T14:03:29.124Z"
   },
   {
    "duration": 0,
    "start_time": "2024-01-29T14:03:29.125Z"
   },
   {
    "duration": 0,
    "start_time": "2024-01-29T14:03:29.126Z"
   },
   {
    "duration": 0,
    "start_time": "2024-01-29T14:03:29.127Z"
   },
   {
    "duration": 0,
    "start_time": "2024-01-29T14:03:29.128Z"
   },
   {
    "duration": 0,
    "start_time": "2024-01-29T14:03:29.129Z"
   },
   {
    "duration": 0,
    "start_time": "2024-01-29T14:03:29.130Z"
   },
   {
    "duration": 0,
    "start_time": "2024-01-29T14:03:29.130Z"
   },
   {
    "duration": 0,
    "start_time": "2024-01-29T14:03:29.132Z"
   },
   {
    "duration": 0,
    "start_time": "2024-01-29T14:03:29.133Z"
   },
   {
    "duration": 0,
    "start_time": "2024-01-29T14:03:29.134Z"
   },
   {
    "duration": 0,
    "start_time": "2024-01-29T14:03:29.135Z"
   },
   {
    "duration": 0,
    "start_time": "2024-01-29T14:03:29.135Z"
   },
   {
    "duration": 0,
    "start_time": "2024-01-29T14:03:29.136Z"
   },
   {
    "duration": 0,
    "start_time": "2024-01-29T14:03:29.138Z"
   },
   {
    "duration": 0,
    "start_time": "2024-01-29T14:03:29.139Z"
   },
   {
    "duration": 0,
    "start_time": "2024-01-29T14:03:29.140Z"
   },
   {
    "duration": 0,
    "start_time": "2024-01-29T14:03:29.141Z"
   },
   {
    "duration": 0,
    "start_time": "2024-01-29T14:03:29.142Z"
   },
   {
    "duration": 0,
    "start_time": "2024-01-29T14:03:29.143Z"
   },
   {
    "duration": 0,
    "start_time": "2024-01-29T14:03:29.192Z"
   },
   {
    "duration": 0,
    "start_time": "2024-01-29T14:03:29.193Z"
   },
   {
    "duration": 0,
    "start_time": "2024-01-29T14:03:29.194Z"
   },
   {
    "duration": 0,
    "start_time": "2024-01-29T14:03:29.195Z"
   },
   {
    "duration": 0,
    "start_time": "2024-01-29T14:03:29.196Z"
   },
   {
    "duration": 0,
    "start_time": "2024-01-29T14:03:29.197Z"
   },
   {
    "duration": 0,
    "start_time": "2024-01-29T14:03:29.198Z"
   },
   {
    "duration": 141,
    "start_time": "2024-01-29T14:04:36.400Z"
   },
   {
    "duration": 149,
    "start_time": "2024-01-29T14:05:10.606Z"
   },
   {
    "duration": 150,
    "start_time": "2024-01-29T14:05:43.651Z"
   },
   {
    "duration": 83,
    "start_time": "2024-01-29T14:10:49.141Z"
   },
   {
    "duration": 155,
    "start_time": "2024-01-29T14:10:57.574Z"
   },
   {
    "duration": 214,
    "start_time": "2024-01-29T14:11:25.828Z"
   },
   {
    "duration": 145,
    "start_time": "2024-01-29T14:11:43.737Z"
   },
   {
    "duration": 153,
    "start_time": "2024-01-29T14:12:36.589Z"
   },
   {
    "duration": 161,
    "start_time": "2024-01-29T14:13:00.187Z"
   },
   {
    "duration": 160,
    "start_time": "2024-01-29T14:13:21.057Z"
   },
   {
    "duration": 152,
    "start_time": "2024-01-29T14:13:57.250Z"
   },
   {
    "duration": 151,
    "start_time": "2024-01-29T14:14:22.929Z"
   },
   {
    "duration": 145,
    "start_time": "2024-01-29T14:15:14.951Z"
   },
   {
    "duration": 165,
    "start_time": "2024-01-29T14:15:23.493Z"
   },
   {
    "duration": 12,
    "start_time": "2024-01-29T14:18:39.587Z"
   },
   {
    "duration": 1279,
    "start_time": "2024-01-29T14:21:21.562Z"
   },
   {
    "duration": 70,
    "start_time": "2024-01-29T14:21:22.843Z"
   },
   {
    "duration": 14,
    "start_time": "2024-01-29T14:21:22.914Z"
   },
   {
    "duration": 13,
    "start_time": "2024-01-29T14:21:22.930Z"
   },
   {
    "duration": 18,
    "start_time": "2024-01-29T14:21:22.944Z"
   },
   {
    "duration": 8,
    "start_time": "2024-01-29T14:21:22.964Z"
   },
   {
    "duration": 26,
    "start_time": "2024-01-29T14:21:22.974Z"
   },
   {
    "duration": 4,
    "start_time": "2024-01-29T14:21:23.002Z"
   },
   {
    "duration": 8,
    "start_time": "2024-01-29T14:21:23.008Z"
   },
   {
    "duration": 15,
    "start_time": "2024-01-29T14:21:23.019Z"
   },
   {
    "duration": 9,
    "start_time": "2024-01-29T14:21:23.036Z"
   },
   {
    "duration": 10,
    "start_time": "2024-01-29T14:21:23.046Z"
   },
   {
    "duration": 41,
    "start_time": "2024-01-29T14:21:23.058Z"
   },
   {
    "duration": 5,
    "start_time": "2024-01-29T14:21:23.101Z"
   },
   {
    "duration": 28,
    "start_time": "2024-01-29T14:21:23.107Z"
   },
   {
    "duration": 7,
    "start_time": "2024-01-29T14:21:23.137Z"
   },
   {
    "duration": 8,
    "start_time": "2024-01-29T14:21:23.145Z"
   },
   {
    "duration": 44,
    "start_time": "2024-01-29T14:21:23.154Z"
   },
   {
    "duration": 7,
    "start_time": "2024-01-29T14:21:23.200Z"
   },
   {
    "duration": 6,
    "start_time": "2024-01-29T14:21:23.208Z"
   },
   {
    "duration": 7,
    "start_time": "2024-01-29T14:21:23.215Z"
   },
   {
    "duration": 9,
    "start_time": "2024-01-29T14:21:23.223Z"
   },
   {
    "duration": 5,
    "start_time": "2024-01-29T14:21:23.233Z"
   },
   {
    "duration": 8,
    "start_time": "2024-01-29T14:21:23.240Z"
   },
   {
    "duration": 51,
    "start_time": "2024-01-29T14:21:23.249Z"
   },
   {
    "duration": 9,
    "start_time": "2024-01-29T14:21:23.302Z"
   },
   {
    "duration": 8,
    "start_time": "2024-01-29T14:21:23.313Z"
   },
   {
    "duration": 24,
    "start_time": "2024-01-29T14:21:23.325Z"
   },
   {
    "duration": 23,
    "start_time": "2024-01-29T14:21:23.350Z"
   },
   {
    "duration": 9,
    "start_time": "2024-01-29T14:21:23.375Z"
   },
   {
    "duration": 171,
    "start_time": "2024-01-29T14:21:23.386Z"
   },
   {
    "duration": 84,
    "start_time": "2024-01-29T14:21:23.559Z"
   },
   {
    "duration": 8,
    "start_time": "2024-01-29T14:21:23.645Z"
   },
   {
    "duration": 18,
    "start_time": "2024-01-29T14:21:23.655Z"
   },
   {
    "duration": 183,
    "start_time": "2024-01-29T14:21:23.675Z"
   },
   {
    "duration": 9,
    "start_time": "2024-01-29T14:21:23.860Z"
   },
   {
    "duration": 201,
    "start_time": "2024-01-29T14:21:23.870Z"
   },
   {
    "duration": 19,
    "start_time": "2024-01-29T14:21:24.073Z"
   },
   {
    "duration": 132,
    "start_time": "2024-01-29T14:21:24.094Z"
   },
   {
    "duration": 311,
    "start_time": "2024-01-29T14:21:24.227Z"
   },
   {
    "duration": 9,
    "start_time": "2024-01-29T14:21:24.540Z"
   },
   {
    "duration": 134,
    "start_time": "2024-01-29T14:21:24.551Z"
   },
   {
    "duration": 17,
    "start_time": "2024-01-29T14:21:24.691Z"
   },
   {
    "duration": 22,
    "start_time": "2024-01-29T14:21:24.710Z"
   },
   {
    "duration": 21,
    "start_time": "2024-01-29T14:21:24.734Z"
   },
   {
    "duration": 415,
    "start_time": "2024-01-29T14:21:24.757Z"
   },
   {
    "duration": 22,
    "start_time": "2024-01-29T14:21:25.174Z"
   },
   {
    "duration": 9,
    "start_time": "2024-01-29T14:21:25.197Z"
   },
   {
    "duration": 510,
    "start_time": "2024-01-29T14:21:25.208Z"
   },
   {
    "duration": 9,
    "start_time": "2024-01-29T14:21:25.720Z"
   },
   {
    "duration": 10,
    "start_time": "2024-01-29T14:21:25.730Z"
   },
   {
    "duration": 4,
    "start_time": "2024-01-29T14:21:25.742Z"
   },
   {
    "duration": 55,
    "start_time": "2024-01-29T14:21:25.747Z"
   },
   {
    "duration": 18,
    "start_time": "2024-01-29T14:21:25.804Z"
   },
   {
    "duration": 5,
    "start_time": "2024-01-29T14:21:25.823Z"
   },
   {
    "duration": 23,
    "start_time": "2024-01-29T14:21:25.830Z"
   },
   {
    "duration": 8,
    "start_time": "2024-01-29T14:21:25.854Z"
   },
   {
    "duration": 30,
    "start_time": "2024-01-29T14:21:25.863Z"
   },
   {
    "duration": 18,
    "start_time": "2024-01-29T14:21:25.894Z"
   },
   {
    "duration": 14,
    "start_time": "2024-01-29T14:21:25.913Z"
   },
   {
    "duration": 15,
    "start_time": "2024-01-29T14:21:25.928Z"
   },
   {
    "duration": 11,
    "start_time": "2024-01-29T14:21:25.945Z"
   },
   {
    "duration": 9,
    "start_time": "2024-01-29T14:21:25.957Z"
   },
   {
    "duration": 25,
    "start_time": "2024-01-29T14:21:25.967Z"
   },
   {
    "duration": 105,
    "start_time": "2024-01-29T14:27:08.245Z"
   },
   {
    "duration": 114,
    "start_time": "2024-01-29T14:28:00.245Z"
   },
   {
    "duration": 109,
    "start_time": "2024-01-29T14:28:14.088Z"
   },
   {
    "duration": 196,
    "start_time": "2024-01-29T14:28:31.501Z"
   },
   {
    "duration": 196,
    "start_time": "2024-01-29T14:29:32.173Z"
   },
   {
    "duration": 185,
    "start_time": "2024-01-29T14:30:48.869Z"
   },
   {
    "duration": 179,
    "start_time": "2024-01-29T14:31:00.267Z"
   },
   {
    "duration": 286,
    "start_time": "2024-01-29T14:31:47.434Z"
   },
   {
    "duration": 154,
    "start_time": "2024-01-29T14:34:26.162Z"
   },
   {
    "duration": 150,
    "start_time": "2024-01-29T14:35:20.864Z"
   },
   {
    "duration": 149,
    "start_time": "2024-01-29T14:35:51.804Z"
   },
   {
    "duration": 160,
    "start_time": "2024-01-29T14:36:02.388Z"
   },
   {
    "duration": 1075,
    "start_time": "2024-01-29T15:48:48.658Z"
   },
   {
    "duration": 67,
    "start_time": "2024-01-29T15:48:49.734Z"
   },
   {
    "duration": 11,
    "start_time": "2024-01-29T15:48:49.803Z"
   },
   {
    "duration": 41,
    "start_time": "2024-01-29T15:48:49.815Z"
   },
   {
    "duration": 25,
    "start_time": "2024-01-29T15:48:49.858Z"
   },
   {
    "duration": 25,
    "start_time": "2024-01-29T15:48:49.885Z"
   },
   {
    "duration": 41,
    "start_time": "2024-01-29T15:48:49.911Z"
   },
   {
    "duration": 80,
    "start_time": "2024-01-29T15:48:49.953Z"
   },
   {
    "duration": 155,
    "start_time": "2024-01-29T15:48:50.034Z"
   },
   {
    "duration": 75,
    "start_time": "2024-01-29T15:48:50.190Z"
   },
   {
    "duration": 23,
    "start_time": "2024-01-29T15:48:50.267Z"
   },
   {
    "duration": 27,
    "start_time": "2024-01-29T15:48:50.291Z"
   },
   {
    "duration": 21,
    "start_time": "2024-01-29T15:48:50.320Z"
   },
   {
    "duration": 4,
    "start_time": "2024-01-29T15:48:50.344Z"
   },
   {
    "duration": 25,
    "start_time": "2024-01-29T15:48:50.349Z"
   },
   {
    "duration": 6,
    "start_time": "2024-01-29T15:48:50.375Z"
   },
   {
    "duration": 16,
    "start_time": "2024-01-29T15:48:50.382Z"
   },
   {
    "duration": 22,
    "start_time": "2024-01-29T15:48:50.399Z"
   },
   {
    "duration": 7,
    "start_time": "2024-01-29T15:48:50.422Z"
   },
   {
    "duration": 8,
    "start_time": "2024-01-29T15:48:50.430Z"
   },
   {
    "duration": 14,
    "start_time": "2024-01-29T15:48:50.439Z"
   },
   {
    "duration": 11,
    "start_time": "2024-01-29T15:48:50.455Z"
   },
   {
    "duration": 4,
    "start_time": "2024-01-29T15:48:50.467Z"
   },
   {
    "duration": 11,
    "start_time": "2024-01-29T15:48:50.472Z"
   },
   {
    "duration": 5,
    "start_time": "2024-01-29T15:48:50.484Z"
   },
   {
    "duration": 12,
    "start_time": "2024-01-29T15:48:50.490Z"
   },
   {
    "duration": 18,
    "start_time": "2024-01-29T15:48:50.503Z"
   },
   {
    "duration": 30,
    "start_time": "2024-01-29T15:48:50.522Z"
   },
   {
    "duration": 24,
    "start_time": "2024-01-29T15:48:50.554Z"
   },
   {
    "duration": 21,
    "start_time": "2024-01-29T15:48:50.579Z"
   },
   {
    "duration": 145,
    "start_time": "2024-01-29T15:48:50.601Z"
   },
   {
    "duration": 83,
    "start_time": "2024-01-29T15:48:50.747Z"
   },
   {
    "duration": 18,
    "start_time": "2024-01-29T15:48:50.831Z"
   },
   {
    "duration": 32,
    "start_time": "2024-01-29T15:48:50.850Z"
   },
   {
    "duration": 155,
    "start_time": "2024-01-29T15:48:50.884Z"
   },
   {
    "duration": 7,
    "start_time": "2024-01-29T15:48:51.041Z"
   },
   {
    "duration": 169,
    "start_time": "2024-01-29T15:48:51.049Z"
   },
   {
    "duration": 9,
    "start_time": "2024-01-29T15:48:51.220Z"
   },
   {
    "duration": 150,
    "start_time": "2024-01-29T15:48:51.230Z"
   },
   {
    "duration": 276,
    "start_time": "2024-01-29T15:48:51.382Z"
   },
   {
    "duration": 7,
    "start_time": "2024-01-29T15:48:51.662Z"
   },
   {
    "duration": 138,
    "start_time": "2024-01-29T15:48:51.671Z"
   },
   {
    "duration": 14,
    "start_time": "2024-01-29T15:48:51.811Z"
   },
   {
    "duration": 33,
    "start_time": "2024-01-29T15:48:51.826Z"
   },
   {
    "duration": 21,
    "start_time": "2024-01-29T15:48:51.860Z"
   },
   {
    "duration": 305,
    "start_time": "2024-01-29T15:48:51.883Z"
   },
   {
    "duration": 7,
    "start_time": "2024-01-29T15:48:52.190Z"
   },
   {
    "duration": 36,
    "start_time": "2024-01-29T15:48:52.198Z"
   },
   {
    "duration": 441,
    "start_time": "2024-01-29T15:48:52.235Z"
   },
   {
    "duration": 7,
    "start_time": "2024-01-29T15:48:52.677Z"
   },
   {
    "duration": 22,
    "start_time": "2024-01-29T15:48:52.686Z"
   },
   {
    "duration": 8,
    "start_time": "2024-01-29T15:48:52.710Z"
   },
   {
    "duration": 32,
    "start_time": "2024-01-29T15:48:52.720Z"
   },
   {
    "duration": 14,
    "start_time": "2024-01-29T15:48:52.753Z"
   },
   {
    "duration": 41,
    "start_time": "2024-01-29T15:48:52.768Z"
   },
   {
    "duration": 22,
    "start_time": "2024-01-29T15:48:52.810Z"
   },
   {
    "duration": 13,
    "start_time": "2024-01-29T15:48:52.834Z"
   },
   {
    "duration": 25,
    "start_time": "2024-01-29T15:48:52.848Z"
   },
   {
    "duration": 27,
    "start_time": "2024-01-29T15:48:52.875Z"
   },
   {
    "duration": 24,
    "start_time": "2024-01-29T15:48:52.904Z"
   },
   {
    "duration": 22,
    "start_time": "2024-01-29T15:48:52.929Z"
   },
   {
    "duration": 10,
    "start_time": "2024-01-29T15:48:52.952Z"
   },
   {
    "duration": 24,
    "start_time": "2024-01-29T15:48:52.963Z"
   },
   {
    "duration": 33,
    "start_time": "2024-01-29T15:48:52.988Z"
   },
   {
    "duration": 92,
    "start_time": "2024-01-29T15:50:02.455Z"
   },
   {
    "duration": 8,
    "start_time": "2024-01-29T15:50:16.603Z"
   },
   {
    "duration": 5,
    "start_time": "2024-01-29T15:50:36.500Z"
   },
   {
    "duration": 6,
    "start_time": "2024-01-29T15:50:43.259Z"
   },
   {
    "duration": 58,
    "start_time": "2024-02-03T16:16:35.160Z"
   },
   {
    "duration": 1389,
    "start_time": "2024-02-03T19:29:42.028Z"
   },
   {
    "duration": 289,
    "start_time": "2024-02-03T19:29:43.420Z"
   },
   {
    "duration": 14,
    "start_time": "2024-02-03T19:29:43.711Z"
   },
   {
    "duration": 11,
    "start_time": "2024-02-03T19:29:43.726Z"
   },
   {
    "duration": 11,
    "start_time": "2024-02-03T19:29:43.740Z"
   },
   {
    "duration": 9,
    "start_time": "2024-02-03T19:29:43.752Z"
   },
   {
    "duration": 22,
    "start_time": "2024-02-03T19:29:43.762Z"
   },
   {
    "duration": 4,
    "start_time": "2024-02-03T19:29:43.786Z"
   },
   {
    "duration": 8,
    "start_time": "2024-02-03T19:29:43.792Z"
   },
   {
    "duration": 21,
    "start_time": "2024-02-03T19:29:43.802Z"
   },
   {
    "duration": 65,
    "start_time": "2024-02-03T19:29:43.825Z"
   },
   {
    "duration": 9,
    "start_time": "2024-02-03T19:29:43.892Z"
   },
   {
    "duration": 39,
    "start_time": "2024-02-03T19:29:43.902Z"
   },
   {
    "duration": 7,
    "start_time": "2024-02-03T19:29:43.945Z"
   },
   {
    "duration": 28,
    "start_time": "2024-02-03T19:29:43.953Z"
   },
   {
    "duration": 7,
    "start_time": "2024-02-03T19:29:43.983Z"
   },
   {
    "duration": 9,
    "start_time": "2024-02-03T19:29:43.992Z"
   },
   {
    "duration": 5,
    "start_time": "2024-02-03T19:29:44.003Z"
   },
   {
    "duration": 14,
    "start_time": "2024-02-03T19:29:44.010Z"
   },
   {
    "duration": 7,
    "start_time": "2024-02-03T19:29:44.026Z"
   },
   {
    "duration": 6,
    "start_time": "2024-02-03T19:29:44.035Z"
   },
   {
    "duration": 38,
    "start_time": "2024-02-03T19:29:44.043Z"
   },
   {
    "duration": 11,
    "start_time": "2024-02-03T19:29:44.084Z"
   },
   {
    "duration": 6,
    "start_time": "2024-02-03T19:29:44.098Z"
   },
   {
    "duration": 11,
    "start_time": "2024-02-03T19:29:44.106Z"
   },
   {
    "duration": 19,
    "start_time": "2024-02-03T19:29:44.119Z"
   },
   {
    "duration": 8,
    "start_time": "2024-02-03T19:29:44.140Z"
   },
   {
    "duration": 33,
    "start_time": "2024-02-03T19:29:44.150Z"
   },
   {
    "duration": 6,
    "start_time": "2024-02-03T19:29:44.185Z"
   },
   {
    "duration": 7,
    "start_time": "2024-02-03T19:29:44.193Z"
   },
   {
    "duration": 21,
    "start_time": "2024-02-03T19:29:44.202Z"
   },
   {
    "duration": 175,
    "start_time": "2024-02-03T19:29:44.226Z"
   },
   {
    "duration": 158,
    "start_time": "2024-02-03T19:29:44.403Z"
   },
   {
    "duration": 21,
    "start_time": "2024-02-03T19:29:44.564Z"
   },
   {
    "duration": 22,
    "start_time": "2024-02-03T19:29:44.587Z"
   },
   {
    "duration": 170,
    "start_time": "2024-02-03T19:29:44.610Z"
   },
   {
    "duration": 10,
    "start_time": "2024-02-03T19:29:44.782Z"
   },
   {
    "duration": 192,
    "start_time": "2024-02-03T19:29:44.794Z"
   },
   {
    "duration": 10,
    "start_time": "2024-02-03T19:29:44.989Z"
   },
   {
    "duration": 168,
    "start_time": "2024-02-03T19:29:45.000Z"
   },
   {
    "duration": 314,
    "start_time": "2024-02-03T19:29:45.181Z"
   },
   {
    "duration": 11,
    "start_time": "2024-02-03T19:29:45.497Z"
   },
   {
    "duration": 159,
    "start_time": "2024-02-03T19:29:45.510Z"
   },
   {
    "duration": 22,
    "start_time": "2024-02-03T19:29:45.671Z"
   },
   {
    "duration": 22,
    "start_time": "2024-02-03T19:29:45.695Z"
   },
   {
    "duration": 22,
    "start_time": "2024-02-03T19:29:45.718Z"
   },
   {
    "duration": 434,
    "start_time": "2024-02-03T19:29:45.742Z"
   },
   {
    "duration": 9,
    "start_time": "2024-02-03T19:29:46.181Z"
   },
   {
    "duration": 8,
    "start_time": "2024-02-03T19:29:46.192Z"
   },
   {
    "duration": 532,
    "start_time": "2024-02-03T19:29:46.202Z"
   },
   {
    "duration": 10,
    "start_time": "2024-02-03T19:29:46.735Z"
   },
   {
    "duration": 8,
    "start_time": "2024-02-03T19:29:46.746Z"
   },
   {
    "duration": 24,
    "start_time": "2024-02-03T19:29:46.756Z"
   },
   {
    "duration": 27,
    "start_time": "2024-02-03T19:29:46.782Z"
   },
   {
    "duration": 18,
    "start_time": "2024-02-03T19:29:46.811Z"
   },
   {
    "duration": 6,
    "start_time": "2024-02-03T19:29:46.831Z"
   },
   {
    "duration": 50,
    "start_time": "2024-02-03T19:29:46.838Z"
   },
   {
    "duration": 8,
    "start_time": "2024-02-03T19:29:46.889Z"
   },
   {
    "duration": 5,
    "start_time": "2024-02-03T19:29:46.899Z"
   },
   {
    "duration": 6,
    "start_time": "2024-02-03T19:29:46.906Z"
   },
   {
    "duration": 9,
    "start_time": "2024-02-03T19:29:46.914Z"
   },
   {
    "duration": 5,
    "start_time": "2024-02-03T19:29:46.925Z"
   },
   {
    "duration": 49,
    "start_time": "2024-02-03T19:29:46.931Z"
   },
   {
    "duration": 10,
    "start_time": "2024-02-03T19:29:46.983Z"
   },
   {
    "duration": 8,
    "start_time": "2024-02-03T19:29:46.995Z"
   },
   {
    "duration": 6,
    "start_time": "2024-02-03T19:30:23.517Z"
   }
  ],
  "kernelspec": {
   "display_name": "Python 3 (ipykernel)",
   "language": "python",
   "name": "python3"
  },
  "language_info": {
   "codemirror_mode": {
    "name": "ipython",
    "version": 3
   },
   "file_extension": ".py",
   "mimetype": "text/x-python",
   "name": "python",
   "nbconvert_exporter": "python",
   "pygments_lexer": "ipython3",
   "version": "3.9.19"
  },
  "toc": {
   "base_numbering": 1,
   "nav_menu": {},
   "number_sections": true,
   "sideBar": true,
   "skip_h1_title": true,
   "title_cell": "Table of Contents",
   "title_sidebar": "Contents",
   "toc_cell": false,
   "toc_position": {},
   "toc_section_display": true,
   "toc_window_display": false
  }
 },
 "nbformat": 4,
 "nbformat_minor": 5
}
